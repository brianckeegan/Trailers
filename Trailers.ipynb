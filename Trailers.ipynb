{
 "metadata": {
  "name": "",
  "signature": "sha256:64641f391d8977ef6fcfd0241e46f012a0e3dd7deb1c039b74131120f999c3cc"
 },
 "nbformat": 3,
 "nbformat_minor": 0,
 "worksheets": [
  {
   "cells": [
    {
     "cell_type": "code",
     "collapsed": false,
     "input": [
      "%matplotlib inline\n",
      "import numpy as np\n",
      "import matplotlib.pyplot as plt\n",
      "import pandas as pd\n",
      "import networkx as nx\n",
      "import seaborn as sns\n",
      "sns.set(style=\"white\",rc={\"figure.figsize\": (6, 6)})\n",
      "from bs4 import BeautifulSoup\n",
      "from collections import Counter\n",
      "import statsmodels.formula.api as smf\n",
      "import urllib2, datetime, string, json, re, operator"
     ],
     "language": "python",
     "metadata": {},
     "outputs": [],
     "prompt_number": 374
    },
    {
     "cell_type": "heading",
     "level": 1,
     "metadata": {},
     "source": [
      "Crawl data"
     ]
    },
    {
     "cell_type": "code",
     "collapsed": false,
     "input": [
      "pages = [i for i in string.printable[10:36]]\n",
      "pages.append('NUM')"
     ],
     "language": "python",
     "metadata": {},
     "outputs": [],
     "prompt_number": 28
    },
    {
     "cell_type": "markdown",
     "metadata": {},
     "source": [
      "Get a list of all movies from http://www.soundtrack.net/trailers/."
     ]
    },
    {
     "cell_type": "code",
     "collapsed": false,
     "input": [
      "mapping = dict()\n",
      "for page in pages:\n",
      "    soup = BeautifulSoup(urllib2.urlopen('http://www.soundtrack.net/trailers/?cid={0}'.format(page)).read())\n",
      "    names = [i.text for i in soup.findAll('div',{'id':'chunk','class':'resources-left-table'})[0].findAll('a')]\n",
      "    urls = [i['href'] for i in soup.findAll('div',{'id':'chunk','class':'resources-left-table'})[0].findAll('a')]\n",
      "    mapping.update(dict(zip(names,urls)))"
     ],
     "language": "python",
     "metadata": {},
     "outputs": [],
     "prompt_number": 31
    },
    {
     "cell_type": "markdown",
     "metadata": {},
     "source": [
      "Save the data to `name_url_mapping.json`"
     ]
    },
    {
     "cell_type": "code",
     "collapsed": false,
     "input": [
      "with open('name_url_mapping.json','wb') as f:\n",
      "    json.dump(mapping,f)\n",
      "\n",
      "len(mapping)"
     ],
     "language": "python",
     "metadata": {},
     "outputs": [
      {
       "metadata": {},
       "output_type": "pyout",
       "prompt_number": 38,
       "text": [
        "2414"
       ]
      }
     ],
     "prompt_number": 38
    },
    {
     "cell_type": "heading",
     "level": 1,
     "metadata": {},
     "source": [
      "Songs per trailer"
     ]
    },
    {
     "cell_type": "code",
     "collapsed": false,
     "input": [
      "soup = BeautifulSoup(urllib2.urlopen('http://www.soundtrack.net{0}'.format(url)).read())\n",
      "songs = soup.findAll('ul',{'id':'trailer'})[0].text"
     ],
     "language": "python",
     "metadata": {},
     "outputs": []
    },
    {
     "cell_type": "markdown",
     "metadata": {},
     "source": [
      "Crawl all the songs in each record, store in `name_song_mapping`. Only include songs in full \"Theatrical Trailer\" -- excludes teasers, TV spots, etc."
     ]
    },
    {
     "cell_type": "code",
     "collapsed": false,
     "input": [
      "name_song_mapping = dict()\n",
      "\n",
      "for movie,url in mapping.iteritems():\n",
      "    soup = BeautifulSoup(urllib2.urlopen('http://www.soundtrack.net{0}'.format(url)).read())\n",
      "    songs = soup.findAll('ul',{'id':'trailer'})[0].text\n",
      "    if 'THEATRICAL TRAILER' in songs:\n",
      "        name_song_mapping[movie] = songs"
     ],
     "language": "python",
     "metadata": {},
     "outputs": [],
     "prompt_number": 39
    },
    {
     "cell_type": "markdown",
     "metadata": {},
     "source": [
      "Save `name_song_mapping` to `name_song_mapping.json`"
     ]
    },
    {
     "cell_type": "code",
     "collapsed": false,
     "input": [
      "with open('name_song_mapping.json','wb') as f:\n",
      "    json.dump(name_song_mapping,f)\n",
      "\n",
      "len(name_song_mapping)"
     ],
     "language": "python",
     "metadata": {},
     "outputs": [
      {
       "metadata": {},
       "output_type": "pyout",
       "prompt_number": 42,
       "text": [
        "2182"
       ]
      }
     ],
     "prompt_number": 42
    },
    {
     "cell_type": "heading",
     "level": 1,
     "metadata": {},
     "source": [
      "Load data"
     ]
    },
    {
     "cell_type": "markdown",
     "metadata": {},
     "source": [
      "Load `name_song_mapping.json` from disk. Should have 2182 elements."
     ]
    },
    {
     "cell_type": "code",
     "collapsed": false,
     "input": [
      "with open('name_song_mapping.json','rb') as f:\n",
      "    name_song_mapping = json.load(f)\n",
      "    \n",
      "len(name_song_mapping)"
     ],
     "language": "python",
     "metadata": {},
     "outputs": [
      {
       "metadata": {},
       "output_type": "pyout",
       "prompt_number": 3,
       "text": [
        "2182"
       ]
      }
     ],
     "prompt_number": 3
    },
    {
     "cell_type": "heading",
     "level": 1,
     "metadata": {},
     "source": [
      "Begin analysis"
     ]
    },
    {
     "cell_type": "markdown",
     "metadata": {},
     "source": [
      "Create a dictionary that is an edgelist of movies connected to songs."
     ]
    },
    {
     "cell_type": "code",
     "collapsed": false,
     "input": [
      "edgelist_dict = {movie:text.split('\\n')[1:-1] for movie,text in name_song_mapping.iteritems()}\n",
      "edgelist_dict.items()[:3]"
     ],
     "language": "python",
     "metadata": {},
     "outputs": [
      {
       "metadata": {},
       "output_type": "pyout",
       "prompt_number": 4,
       "text": [
        "[(u'Drop Dead Gorgeous (1999)',\n",
        "  [u'\"Conga\" - Gloria Estefan & Miami Sound Machine',\n",
        "   u'\"Get Ready For This\" - 2 Unlimited']),\n",
        " (u'The Peacemaker (1997)',\n",
        "  [u'\"Original Trailer Music\" - Harry Gregson-Williams']),\n",
        " (u'The Covenant (2006)',\n",
        "  [u'\"River of Joy\" - Black Lab', u'\"Save Yourself\" - Stabbing Westward'])]"
       ]
      }
     ],
     "prompt_number": 4
    },
    {
     "cell_type": "markdown",
     "metadata": {},
     "source": [
      "Iterate over this edgelist object and make a `NetworkX` object."
     ]
    },
    {
     "cell_type": "code",
     "collapsed": false,
     "input": [
      "g = nx.DiGraph()\n",
      "for movie,songs in edgelist_dict.iteritems():\n",
      "    for song in songs:\n",
      "        g.add_edge(movie,song)\n",
      "        g.add_node(movie,year=re.findall(r'[0-9]{4}',movie)[0],kind='Movie')\n",
      "        g.add_node(song,year=0,kind='Song')\n",
      "        \n",
      "# Remove \"Original trailer music\" as this may refer to distinct songs\n",
      "g.remove_nodes_from([i for i in g.nodes() if 'Original Trailer Music' in i])  \n",
      "\n",
      "# Save the nodes corresponding to movies and songs in lists\n",
      "movies = [n for n,data in g.nodes(data=True) if data['kind'] == 'Movie']\n",
      "songs = [n for n,data in g.nodes(data=True) if data['kind'] == 'Song']\n",
      "\n",
      "# Print the number of edges, nodes, and network density\n",
      "g.number_of_edges(),g.number_of_nodes(),nx.bipartite.density(g,songs)"
     ],
     "language": "python",
     "metadata": {},
     "outputs": [
      {
       "metadata": {},
       "output_type": "pyout",
       "prompt_number": 15,
       "text": [
        "(4810, 5862, 0.00029951081975052805)"
       ]
      }
     ],
     "prompt_number": 15
    },
    {
     "cell_type": "markdown",
     "metadata": {},
     "source": [
      "Compute the fraction of nodes in the largest connected component."
     ]
    },
    {
     "cell_type": "code",
     "collapsed": false,
     "input": [
      "components = nx.components.connected_component_subgraphs(g.to_undirected())\n",
      "len(components[0])/float(g.number_of_nodes())"
     ],
     "language": "python",
     "metadata": {},
     "outputs": [
      {
       "metadata": {},
       "output_type": "pyout",
       "prompt_number": 16,
       "text": [
        "0.3553394745820539"
       ]
      }
     ],
     "prompt_number": 16
    },
    {
     "cell_type": "markdown",
     "metadata": {},
     "source": [
      "Compute the degree distribution."
     ]
    },
    {
     "cell_type": "code",
     "collapsed": false,
     "input": [
      "idc = {k:int(round(v*(len(g)-1),0)) for k,v in nx.in_degree_centrality(g).iteritems()}\n",
      "idc_counter = Counter(idc.values())\n",
      "\n",
      "odc = {k:int(round(v*(len(g)-1),0)) for k,v in nx.out_degree_centrality(g).iteritems()}\n",
      "odc_counter = Counter(odc.values())\n",
      "\n",
      "plt.scatter(idc_counter.keys(),idc_counter.values(),label='Songs',color='r',s=100,marker='^')\n",
      "plt.scatter(odc_counter.keys(),odc_counter.values(),label='Movies',color='b',s=100)\n",
      "plt.xscale('symlog')\n",
      "plt.yscale('symlog')\n",
      "plt.xlim((.5,2e2))\n",
      "plt.ylim((0,1e4))\n",
      "plt.legend(scatterpoints=1)\n",
      "plt.xlabel('Number of movies (songs)')\n",
      "plt.ylabel('Number of songs (movies)')"
     ],
     "language": "python",
     "metadata": {},
     "outputs": [
      {
       "metadata": {},
       "output_type": "pyout",
       "prompt_number": 360,
       "text": [
        "<matplotlib.text.Text at 0x124302290>"
       ]
      },
      {
       "metadata": {},
       "output_type": "display_data",
       "png": "[encoded data removed]",
       "text": [
        "<matplotlib.figure.Figure at 0x12430f890>"
       ]
      }
     ],
     "prompt_number": 360
    },
    {
     "cell_type": "markdown",
     "metadata": {},
     "source": [
      "Print the top 20 best-connected songs."
     ]
    },
    {
     "cell_type": "code",
     "collapsed": false,
     "input": [
      "sorted(idc.iteritems(),key=operator.itemgetter(1),reverse=True)[:20]"
     ],
     "language": "python",
     "metadata": {},
     "outputs": [
      {
       "metadata": {},
       "output_type": "pyout",
       "prompt_number": 19,
       "text": [
        "[(u'Aliens (1986) - James Horner', 20),\n",
        " (u'\"Redrum\" - Immediate Music', 17),\n",
        " (u'\"Tightwire\" - Immediate Music', 17),\n",
        " (u'Trailerhead: Triumph: \"Ode to Power\" - Immediate Music', 16),\n",
        " (u'Come See The Paradise (1990) - Randy Edelman', 13),\n",
        " (u'\"Naked Prey\" - Immediate Music', 13),\n",
        " (u'Stargate (1994) - David Arnold', 12),\n",
        " (u'Carmina Burana: \"O Fortuna\" - Carl Orff', 11),\n",
        " (u'Backdraft (1991) - Hans Zimmer', 11),\n",
        " (u'Black Rain (1989) - Hans Zimmer', 11),\n",
        " (u\"Bram Stoker's Dracula (1992) - Wojciech Kilar\", 11),\n",
        " (u'Mississippi Burning (1988) - Trevor Jones', 11),\n",
        " (u'The Shawshank Redemption (1994) - Thomas Newman', 10),\n",
        " (u'The Fugitive (1993) - James Newton Howard', 10),\n",
        " (u'Mortal Kombat (1995) - George S. Clinton', 10),\n",
        " (u'The Crow (1994) - Graeme Revell', 10),\n",
        " (u'Waterworld (1995) - James Newton Howard', 9),\n",
        " (u'Dragon: The Bruce Lee Story (1993) - Randy Edelman', 9),\n",
        " (u'Beetlejuice (1988) - Danny Elfman', 9),\n",
        " (u'\"9th Symphony\" - Ludwig van Beethoven', 9)]"
       ]
      }
     ],
     "prompt_number": 19
    },
    {
     "cell_type": "markdown",
     "metadata": {},
     "source": [
      "Print the top 20 movies with the most songs."
     ]
    },
    {
     "cell_type": "code",
     "collapsed": false,
     "input": [
      "sorted(odc.iteritems(),key=operator.itemgetter(1),reverse=True)[:20]"
     ],
     "language": "python",
     "metadata": {},
     "outputs": [
      {
       "metadata": {},
       "output_type": "pyout",
       "prompt_number": 20,
       "text": [
        "[(u'Resident Evil: Extinction (2007)', 27),\n",
        " (u'The Hitcher (2007)', 21),\n",
        " (u\"Trick 'r Treat (2009)\", 21),\n",
        " (u'Elektra (2005)', 18),\n",
        " (u'Hulk (2003)', 18),\n",
        " (u'Cry_Wolf (2005)', 18),\n",
        " (u'Blood Diamond (2006)', 17),\n",
        " (u'Harry Potter and the Order of the Phoenix (2007)', 17),\n",
        " (u\"Pirates of the Caribbean: At World's End (2007)\", 17),\n",
        " (u'Batman Begins (2005)', 15),\n",
        " (u'Beowulf (2007)', 15),\n",
        " (u'Primeval (2007)', 15),\n",
        " (u'The Grudge (2004)', 14),\n",
        " (u'Vacancy (2007)', 14),\n",
        " (u'Fantastic Four (2005)', 14),\n",
        " (u'The Invasion (2007)', 13),\n",
        " (u'Ladder 49 (2004)', 13),\n",
        " (u'Daredevil (2003)', 12),\n",
        " (u'Bangkok Dangerous (2008)', 12),\n",
        " (u'Spider-Man 3 (2007)', 12)]"
       ]
      }
     ],
     "prompt_number": 20
    },
    {
     "cell_type": "heading",
     "level": 1,
     "metadata": {},
     "source": [
      "Project to unipartite and serialize"
     ]
    },
    {
     "cell_type": "code",
     "collapsed": false,
     "input": [
      "movies_g = nx.bipartite.weighted_projected_graph(g.to_undirected(),movies)\n",
      "nx.write_gexf(movies_g,'movies.gexf')\n",
      "movies_g.number_of_edges()\n",
      "\n",
      "movies_g_components = nx.components.connected_component_subgraphs(movies_g)\n",
      "nx.write_gexf(movies_g_components[0],'movies_lcc.gexf')"
     ],
     "language": "python",
     "metadata": {},
     "outputs": [],
     "prompt_number": 21
    },
    {
     "cell_type": "code",
     "collapsed": false,
     "input": [
      "songs_g = nx.bipartite.weighted_projected_graph(g.to_undirected(),songs)\n",
      "nx.write_gexf(songs_g,'songs.gexf')\n",
      "songs_g.number_of_edges()\n",
      "\n",
      "songs_g_components = nx.components.connected_component_subgraphs(songs_g)\n",
      "nx.write_gexf(songs_g_components[0],'songs_lcc.gexf')"
     ],
     "language": "python",
     "metadata": {},
     "outputs": [],
     "prompt_number": 22
    },
    {
     "cell_type": "heading",
     "level": 1,
     "metadata": {},
     "source": [
      "Changes over time"
     ]
    },
    {
     "cell_type": "markdown",
     "metadata": {},
     "source": [
      "Define a quick function to make our lives easier. If a list has no elements in it when we call for a position, this will return a `nan` instead of an `IndexError`."
     ]
    },
    {
     "cell_type": "code",
     "collapsed": false,
     "input": [
      "def _get_list(l,index,default):\n",
      "    try:\n",
      "        return l[index]\n",
      "    except IndexError:\n",
      "        return default"
     ],
     "language": "python",
     "metadata": {},
     "outputs": [],
     "prompt_number": 35
    },
    {
     "cell_type": "markdown",
     "metadata": {},
     "source": [
      "Create a list of dictionaries that contain the name of the movie (song), the number of songs (movies) it's connected to, and the year the movie (song) was released (based on the information in title).\n",
      "\n",
      "Then convert this list of dictionaries into a `DataFrame` and coerce the years from strings to floats."
     ]
    },
    {
     "cell_type": "code",
     "collapsed": false,
     "input": [
      "movies_by_year = [{'name':movie,'connections':d,'year':_get_list(re.findall(r'[0-9]{4}',movie),0,np.nan)} for movie,d in odc.iteritems()]\n",
      "songs_by_release = [{'name':movie,'connections':d,'year':_get_list(re.findall(r'[0-9]{4}',movie),0,np.nan)} for movie,d in idc.iteritems()]\n",
      "\n",
      "df_movies = pd.DataFrame(movies_by_year)\n",
      "df_movies['year'] = df_movies['year'].apply(np.float)\n",
      "\n",
      "df_songs = pd.DataFrame(songs_by_release)\n",
      "df_songs['year'] = df_songs['year'].apply(np.float)"
     ],
     "language": "python",
     "metadata": {},
     "outputs": [],
     "prompt_number": 112
    },
    {
     "cell_type": "markdown",
     "metadata": {},
     "source": [
      "Plot the average number of connections a movie (song) had in each year."
     ]
    },
    {
     "cell_type": "code",
     "collapsed": false,
     "input": [
      "df_over_time = pd.DataFrame(index=range(1980,2015))\n",
      "df_over_time['Number of songs in trailers'] = df_movies.groupby('year').agg({'connections': lambda x: np.e**np.mean(np.log(x+1))}).ix[1980:2015]\n",
      "df_over_time['Songs referenced from this year'] = df_songs.groupby('year').agg({'connections':lambda x: np.e**np.mean(np.log(x+1))}).ix[1980:2015]\n",
      "\n",
      "df_over_time.plot(lw=4)\n",
      "plt.legend(loc='upper left')\n",
      "plt.ylim((0,4))\n",
      "plt.ylabel('Count')\n",
      "plt.xlabel('Year')\n",
      "plt.tight_layout()"
     ],
     "language": "python",
     "metadata": {},
     "outputs": [
      {
       "metadata": {},
       "output_type": "display_data",
       "png": "[encoded data removed]",
       "text": [
        "<matplotlib.figure.Figure at 0x1144c1790>"
       ]
      }
     ],
     "prompt_number": 117
    },
    {
     "cell_type": "markdown",
     "metadata": {},
     "source": [
      "Changes in network structure over time."
     ]
    },
    {
     "cell_type": "code",
     "collapsed": false,
     "input": [
      "edgelist_df = pd.DataFrame([{'movie':movie,'song':song,'year':_get_list(re.findall(r'[0-9]{4}',movie),0,np.nan)} for movie,songs in edgelist_dict.iteritems() for song in songs])\n",
      "edgelist_gb = edgelist_df.groupby('year')"
     ],
     "language": "python",
     "metadata": {},
     "outputs": [],
     "prompt_number": 131
    },
    {
     "cell_type": "code",
     "collapsed": false,
     "input": [
      "graph_list = list()\n",
      "for year in range(1980,2015):\n",
      "    g_year = nx.DiGraph()\n",
      "    year_movies = list(set(edgelist_gb.get_group(str(year))['movie']))\n",
      "    year_songs = list(set(edgelist_gb.get_group(str(year))['song']))\n",
      "    g_year.add_edges_from([(movie,song) for (i,movie,song) in list(edgelist_gb.get_group(str(year))[['movie','song']].itertuples())])\n",
      "    g_year.add_nodes_from(zip(year_movies,[{'type':'movie'}]*len(year_movies)))\n",
      "    g_year.add_nodes_from(zip(year_songs,[{'type':'song'}]*len(year_songs)))\n",
      "    graph_list.append(g_year)"
     ],
     "language": "python",
     "metadata": {},
     "outputs": [],
     "prompt_number": 156
    },
    {
     "cell_type": "code",
     "collapsed": false,
     "input": [
      "yearly_df = pd.DataFrame(index=range(1980,2015))\n",
      "yearly_df['Movies'] = [len([n for n,data in i.nodes(data=True) if data['type'] == 'movie']) for i in graph_list]\n",
      "yearly_df['Songs'] = [len([n for n,data in i.nodes(data=True) if data['type'] == 'song']) for i in graph_list]\n",
      "yearly_df['Density'] = [nx.bipartite.density(i,[n for n,data in i.nodes(data=True) if data['type'] == 'song']) for i in graph_list]\n",
      "yearly_df['Song Clustering'] = [nx.bipartite.average_clustering(i.to_undirected(),[n for n,data in i.nodes(data=True) if data['type'] == 'song']) for i in graph_list]\n",
      "yearly_df['Movie Clustering'] = [nx.bipartite.average_clustering(i.to_undirected(),[n for n,data in i.nodes(data=True) if data['type'] == 'movie']) for i in graph_list]\n",
      "yearly_df['LCC Frac'] = [len(nx.components.connected_component_subgraphs(i.to_undirected())[0])/float(len(i)) for i in graph_list]"
     ],
     "language": "python",
     "metadata": {},
     "outputs": [],
     "prompt_number": 170
    },
    {
     "cell_type": "markdown",
     "metadata": {},
     "source": [
      "Plot count of movie trailers and songs by year. The peak in 2004 and subsequent fall-off suggests there may be biases in the scope and coverage of the data."
     ]
    },
    {
     "cell_type": "code",
     "collapsed": false,
     "input": [
      "yearly_df[['Songs','Movies']].plot(lw=4)\n",
      "plt.legend(loc='upper left')\n",
      "plt.ylabel('Count')\n",
      "plt.xlabel('Year')"
     ],
     "language": "python",
     "metadata": {},
     "outputs": [
      {
       "metadata": {},
       "output_type": "pyout",
       "prompt_number": 173,
       "text": [
        "<matplotlib.text.Text at 0x1185cc750>"
       ]
      },
      {
       "metadata": {},
       "output_type": "display_data",
       "png": "[encoded data removed]",
       "text": [
        "<matplotlib.figure.Figure at 0x11678a1d0>"
       ]
      }
     ],
     "prompt_number": 173
    },
    {
     "cell_type": "markdown",
     "metadata": {},
     "source": [
      "Plot clustering over time. Song clustering suggests that songs increasingly share movies in common. Movie clustering suggests that movies decresingly shares songs in common."
     ]
    },
    {
     "cell_type": "code",
     "collapsed": false,
     "input": [
      "yearly_df[['Song Clustering','Movie Clustering']].plot(lw=4)\n",
      "plt.ylabel('Clustering coefficient')\n",
      "plt.xlabel('Year')"
     ],
     "language": "python",
     "metadata": {},
     "outputs": [
      {
       "metadata": {},
       "output_type": "pyout",
       "prompt_number": 172,
       "text": [
        "<matplotlib.text.Text at 0x1186fd850>"
       ]
      },
      {
       "metadata": {},
       "output_type": "display_data",
       "png": "[encoded data removed]",
       "text": [
        "<matplotlib.figure.Figure at 0x1187c5390>"
       ]
      }
     ],
     "prompt_number": 172
    },
    {
     "cell_type": "heading",
     "level": 1,
     "metadata": {},
     "source": [
      "Crawl OMDB"
     ]
    },
    {
     "cell_type": "code",
     "collapsed": false,
     "input": [
      "with open('imdb_data.json','rb') as f:\n",
      "    imdb_data = json.load(f)"
     ],
     "language": "python",
     "metadata": {},
     "outputs": [],
     "prompt_number": 220
    },
    {
     "cell_type": "code",
     "collapsed": false,
     "input": [
      "imdb_data_movies = [i.get('Title') for i in imdb_data]\n",
      "missing_imdb_movies = [i for i in [i[:-7] for i in movies] if i not in imdb_data_movies]"
     ],
     "language": "python",
     "metadata": {},
     "outputs": [
      {
       "metadata": {},
       "output_type": "pyout",
       "prompt_number": 189,
       "text": [
        "1241"
       ]
      }
     ],
     "prompt_number": 189
    },
    {
     "cell_type": "code",
     "collapsed": false,
     "input": [
      "imdb_trailer_data = dict()\n",
      "exceptions = list()\n",
      "for num,movie in enumerate(missing_imdb_movies):\n",
      "    try:\n",
      "        if num in range(0,len(missing_imdb_movies),int(round(len(missing_imdb_movies)/10,0))):\n",
      "            print movie\n",
      "        imdb_trailer_data[movie] = json.loads(urllib2.urlopen('http://www.omdbapi.com/?t={0}'.format(movie.replace(' ','+'))).read())\n",
      "    except:\n",
      "        exceptions.append(movie)\n",
      "        pass\n",
      "\n",
      "with open('imdb_trailer_data.json', 'wb') as f:\n",
      "  json.dump(imdb_trailer_data.values(), f)"
     ],
     "language": "python",
     "metadata": {},
     "outputs": [
      {
       "output_type": "stream",
       "stream": "stdout",
       "text": [
        "The Weatherman\n",
        "One Hour Photo"
       ]
      },
      {
       "output_type": "stream",
       "stream": "stdout",
       "text": [
        "\n",
        "The Canyons"
       ]
      },
      {
       "output_type": "stream",
       "stream": "stdout",
       "text": [
        "\n",
        "The Oh in Ohio"
       ]
      },
      {
       "output_type": "stream",
       "stream": "stdout",
       "text": [
        "\n",
        "The Last King of Scotland"
       ]
      },
      {
       "output_type": "stream",
       "stream": "stdout",
       "text": [
        "\n",
        "The Brothers Grimm"
       ]
      },
      {
       "output_type": "stream",
       "stream": "stdout",
       "text": [
        "\n",
        "Seven Years In Tibet"
       ]
      },
      {
       "output_type": "stream",
       "stream": "stdout",
       "text": [
        "\n",
        "A Time To Kill"
       ]
      },
      {
       "output_type": "stream",
       "stream": "stdout",
       "text": [
        "\n",
        "Star Wars: The Clone Wars"
       ]
      },
      {
       "output_type": "stream",
       "stream": "stdout",
       "text": [
        "\n",
        "The Krays"
       ]
      },
      {
       "output_type": "stream",
       "stream": "stdout",
       "text": [
        "\n",
        "The Last Kiss"
       ]
      },
      {
       "output_type": "stream",
       "stream": "stdout",
       "text": [
        "\n"
       ]
      }
     ],
     "prompt_number": 190
    },
    {
     "cell_type": "code",
     "collapsed": false,
     "input": [
      "for i in imdb_trailer_data.values():\n",
      "    imdb_data.append(i)\n",
      "\n",
      "with open('imdb_data2.json', 'wb') as f:\n",
      "  json.dump(imdb_data, f)"
     ],
     "language": "python",
     "metadata": {},
     "outputs": [],
     "prompt_number": 221
    },
    {
     "cell_type": "heading",
     "level": 1,
     "metadata": {},
     "source": [
      "Join data"
     ]
    },
    {
     "cell_type": "code",
     "collapsed": false,
     "input": [
      "def _to_float(v,default):\n",
      "    try:\n",
      "        return float(v)\n",
      "    except ValueError:\n",
      "        return default"
     ],
     "language": "python",
     "metadata": {},
     "outputs": [],
     "prompt_number": 286
    },
    {
     "cell_type": "code",
     "collapsed": false,
     "input": [
      "imdb_df = pd.DataFrame([i for i in imdb_data if len(i) > 4])\n",
      "\n",
      "df = imdb_df[imdb_df['Title'].isin([i[:-7] for i in movies])]\n",
      "df = df.set_index('Title')\n",
      "df['Runtime'] = df['Runtime'].apply(lambda x:_to_float(x[:-4],np.nan))\n",
      "df['imdbVotes'] = df['imdbVotes'].apply(lambda x:_to_float(x.replace(',',''),np.nan))\n",
      "df = df.replace({'N/A':np.nan})\n",
      "df['imdbRating'] = df['imdbRating'].apply(float)\n",
      "df['Metascore'] = df['Metascore'].apply(float)\n",
      "df['Year'] = pd.to_datetime(df['Released'],format='%d %b %Y',unit='D').apply(lambda x: x.year)"
     ],
     "language": "python",
     "metadata": {},
     "outputs": [],
     "prompt_number": 397
    },
    {
     "cell_type": "code",
     "collapsed": false,
     "input": [
      "s = pd.Series({name[:-7]:c for name,c in odc.iteritems() if c > 0},name='Songs')\n",
      "df = df.join(s,how='left')\n",
      "#df = df.replace({'N/A':np.nan})\n",
      "df = df.dropna(axis=0)\n",
      "df = df.reset_index()"
     ],
     "language": "python",
     "metadata": {},
     "outputs": [],
     "prompt_number": 398
    },
    {
     "cell_type": "code",
     "collapsed": false,
     "input": [
      "revenue_df = pd.read_csv('revenue.csv',encoding='utf8',index_col=0,parse_dates=['Released'])"
     ],
     "language": "python",
     "metadata": {},
     "outputs": [],
     "prompt_number": 399
    },
    {
     "cell_type": "code",
     "collapsed": false,
     "input": [
      "df2 = pd.merge(df,revenue_df,left_on=['index','Year'],right_on=['Movie','Year'])\n",
      "df2.head()"
     ],
     "language": "python",
     "metadata": {},
     "outputs": [
      {
       "html": [
        "<div style=\"max-height:1000px;max-width:1500px;overflow:auto;\">\n",
        "<table border=\"1\" class=\"dataframe\">\n",
        "  <thead>\n",
        "    <tr style=\"text-align: right;\">\n",
        "      <th></th>\n",
        "      <th>index</th>\n",
        "      <th>Actors</th>\n",
        "      <th>Awards</th>\n",
        "      <th>Country</th>\n",
        "      <th>Director</th>\n",
        "      <th>Genre_x</th>\n",
        "      <th>Language</th>\n",
        "      <th>Metascore</th>\n",
        "      <th>Plot</th>\n",
        "      <th>Poster</th>\n",
        "      <th>...</th>\n",
        "      <th>imdbID</th>\n",
        "      <th>imdbRating</th>\n",
        "      <th>imdbVotes</th>\n",
        "      <th>Songs</th>\n",
        "      <th>Released_y</th>\n",
        "      <th>Movie</th>\n",
        "      <th>Genre_y</th>\n",
        "      <th>Budget</th>\n",
        "      <th>Revenue</th>\n",
        "      <th>Trailer</th>\n",
        "    </tr>\n",
        "  </thead>\n",
        "  <tbody>\n",
        "    <tr>\n",
        "      <th>0</th>\n",
        "      <td>   101 Dalmatians</td>\n",
        "      <td> Glenn Close, Jeff Daniels, Joely Richardson, J...</td>\n",
        "      <td> Nominated for 1 Golden Globe. Another 3 wins &amp;...</td>\n",
        "      <td>          USA</td>\n",
        "      <td>   Stephen Herek</td>\n",
        "      <td> Family, Comedy, Adventure</td>\n",
        "      <td>                                  English, Spanish</td>\n",
        "      <td> 49</td>\n",
        "      <td> A woman kidnaps puppies to kill them for their...</td>\n",
        "      <td> http://ia.media-imdb.com/images/M/MV5BMTkxNjQw...</td>\n",
        "      <td>...</td>\n",
        "      <td> tt0115433</td>\n",
        "      <td> 5.6</td>\n",
        "      <td>  55501</td>\n",
        "      <td> 1</td>\n",
        "      <td>1996-11-27</td>\n",
        "      <td>   101 Dalmatians</td>\n",
        "      <td>            Comedy</td>\n",
        "      <td>       NaN</td>\n",
        "      <td> 136189294</td>\n",
        "      <td>  NaN</td>\n",
        "    </tr>\n",
        "    <tr>\n",
        "      <th>1</th>\n",
        "      <td>       15 Minutes</td>\n",
        "      <td> Robert De Niro, Edward Burns, Kelsey Grammer, ...</td>\n",
        "      <td>                                     1 nomination.</td>\n",
        "      <td> USA, Germany</td>\n",
        "      <td>   John Herzfeld</td>\n",
        "      <td>      Action, Crime, Drama</td>\n",
        "      <td>         English, Czech, Russian, Greek, Afrikaans</td>\n",
        "      <td> 34</td>\n",
        "      <td> A homicide detective and a fire marshall must ...</td>\n",
        "      <td> http://ia.media-imdb.com/images/M/MV5BMTI3MzQ1...</td>\n",
        "      <td>...</td>\n",
        "      <td> tt0179626</td>\n",
        "      <td> 6.1</td>\n",
        "      <td>  38003</td>\n",
        "      <td> 2</td>\n",
        "      <td>2001-03-09</td>\n",
        "      <td>       15 Minutes</td>\n",
        "      <td> Thriller/Suspense</td>\n",
        "      <td>  42000000</td>\n",
        "      <td>  24375436</td>\n",
        "      <td>  NaN</td>\n",
        "    </tr>\n",
        "    <tr>\n",
        "      <th>2</th>\n",
        "      <td>        16 Blocks</td>\n",
        "      <td>   Bruce Willis, Mos Def, David Morse, Jenna Stern</td>\n",
        "      <td>                                     1 nomination.</td>\n",
        "      <td> Germany, USA</td>\n",
        "      <td>  Richard Donner</td>\n",
        "      <td>      Action, Crime, Drama</td>\n",
        "      <td>                                           English</td>\n",
        "      <td> 63</td>\n",
        "      <td> An aging cop is assigned the ordinary task of ...</td>\n",
        "      <td> http://ia.media-imdb.com/images/M/MV5BMTQ1NDEw...</td>\n",
        "      <td>...</td>\n",
        "      <td> tt0450232</td>\n",
        "      <td> 6.6</td>\n",
        "      <td>  99481</td>\n",
        "      <td> 1</td>\n",
        "      <td>2006-03-03</td>\n",
        "      <td>        16 Blocks</td>\n",
        "      <td>            Action</td>\n",
        "      <td>  45000000</td>\n",
        "      <td>  36895141</td>\n",
        "      <td>  NaN</td>\n",
        "    </tr>\n",
        "    <tr>\n",
        "      <th>3</th>\n",
        "      <td> 2 Fast 2 Furious</td>\n",
        "      <td> Paul Walker, Tyrese Gibson, Eva Mendes, Cole H...</td>\n",
        "      <td>                          3 wins &amp; 13 nominations.</td>\n",
        "      <td> USA, Germany</td>\n",
        "      <td>  John Singleton</td>\n",
        "      <td>   Action, Crime, Thriller</td>\n",
        "      <td>                                  English, Spanish</td>\n",
        "      <td> 38</td>\n",
        "      <td> Brian O'Conner and childhood friend Roman Pear...</td>\n",
        "      <td> http://ia.media-imdb.com/images/M/MV5BMTIyMDUw...</td>\n",
        "      <td>...</td>\n",
        "      <td> tt0322259</td>\n",
        "      <td> 5.6</td>\n",
        "      <td> 124488</td>\n",
        "      <td> 3</td>\n",
        "      <td>2003-06-06</td>\n",
        "      <td> 2 Fast 2 Furious</td>\n",
        "      <td>            Action</td>\n",
        "      <td>  76000000</td>\n",
        "      <td> 127120058</td>\n",
        "      <td>  NaN</td>\n",
        "    </tr>\n",
        "    <tr>\n",
        "      <th>4</th>\n",
        "      <td>             2012</td>\n",
        "      <td> John Cusack, Amanda Peet, Chiwetel Ejiofor, Th...</td>\n",
        "      <td>                          4 wins &amp; 16 nominations.</td>\n",
        "      <td>          USA</td>\n",
        "      <td> Roland Emmerich</td>\n",
        "      <td> Action, Adventure, Sci-Fi</td>\n",
        "      <td> English, French, Tibetan, Mandarin, Russian, H...</td>\n",
        "      <td> 49</td>\n",
        "      <td> A frustrated writer struggles to keep his fami...</td>\n",
        "      <td> http://ia.media-imdb.com/images/M/MV5BMTY0MjEy...</td>\n",
        "      <td>...</td>\n",
        "      <td> tt1190080</td>\n",
        "      <td> 5.8</td>\n",
        "      <td> 211022</td>\n",
        "      <td> 3</td>\n",
        "      <td>2009-11-13</td>\n",
        "      <td>             2012</td>\n",
        "      <td>            Action</td>\n",
        "      <td> 200000000</td>\n",
        "      <td> 166112167</td>\n",
        "      <td> Play</td>\n",
        "    </tr>\n",
        "  </tbody>\n",
        "</table>\n",
        "<p>5 rows \u00d7 27 columns</p>\n",
        "</div>"
       ],
       "metadata": {},
       "output_type": "pyout",
       "prompt_number": 400,
       "text": [
        "              index                                             Actors  \\\n",
        "0    101 Dalmatians  Glenn Close, Jeff Daniels, Joely Richardson, J...   \n",
        "1        15 Minutes  Robert De Niro, Edward Burns, Kelsey Grammer, ...   \n",
        "2         16 Blocks    Bruce Willis, Mos Def, David Morse, Jenna Stern   \n",
        "3  2 Fast 2 Furious  Paul Walker, Tyrese Gibson, Eva Mendes, Cole H...   \n",
        "4              2012  John Cusack, Amanda Peet, Chiwetel Ejiofor, Th...   \n",
        "\n",
        "                                              Awards       Country  \\\n",
        "0  Nominated for 1 Golden Globe. Another 3 wins &...           USA   \n",
        "1                                      1 nomination.  USA, Germany   \n",
        "2                                      1 nomination.  Germany, USA   \n",
        "3                           3 wins & 13 nominations.  USA, Germany   \n",
        "4                           4 wins & 16 nominations.           USA   \n",
        "\n",
        "          Director                    Genre_x  \\\n",
        "0    Stephen Herek  Family, Comedy, Adventure   \n",
        "1    John Herzfeld       Action, Crime, Drama   \n",
        "2   Richard Donner       Action, Crime, Drama   \n",
        "3   John Singleton    Action, Crime, Thriller   \n",
        "4  Roland Emmerich  Action, Adventure, Sci-Fi   \n",
        "\n",
        "                                            Language  Metascore  \\\n",
        "0                                   English, Spanish         49   \n",
        "1          English, Czech, Russian, Greek, Afrikaans         34   \n",
        "2                                            English         63   \n",
        "3                                   English, Spanish         38   \n",
        "4  English, French, Tibetan, Mandarin, Russian, H...         49   \n",
        "\n",
        "                                                Plot  \\\n",
        "0  A woman kidnaps puppies to kill them for their...   \n",
        "1  A homicide detective and a fire marshall must ...   \n",
        "2  An aging cop is assigned the ordinary task of ...   \n",
        "3  Brian O'Conner and childhood friend Roman Pear...   \n",
        "4  A frustrated writer struggles to keep his fami...   \n",
        "\n",
        "                                              Poster  \\\n",
        "0  http://ia.media-imdb.com/images/M/MV5BMTkxNjQw...   \n",
        "1  http://ia.media-imdb.com/images/M/MV5BMTI3MzQ1...   \n",
        "2  http://ia.media-imdb.com/images/M/MV5BMTQ1NDEw...   \n",
        "3  http://ia.media-imdb.com/images/M/MV5BMTIyMDUw...   \n",
        "4  http://ia.media-imdb.com/images/M/MV5BMTY0MjEy...   \n",
        "\n",
        "                         ...                             imdbID imdbRating  \\\n",
        "0                        ...                          tt0115433        5.6   \n",
        "1                        ...                          tt0179626        6.1   \n",
        "2                        ...                          tt0450232        6.6   \n",
        "3                        ...                          tt0322259        5.6   \n",
        "4                        ...                          tt1190080        5.8   \n",
        "\n",
        "  imdbVotes  Songs Released_y             Movie            Genre_y     Budget  \\\n",
        "0     55501      1 1996-11-27    101 Dalmatians             Comedy        NaN   \n",
        "1     38003      2 2001-03-09        15 Minutes  Thriller/Suspense   42000000   \n",
        "2     99481      1 2006-03-03         16 Blocks             Action   45000000   \n",
        "3    124488      3 2003-06-06  2 Fast 2 Furious             Action   76000000   \n",
        "4    211022      3 2009-11-13              2012             Action  200000000   \n",
        "\n",
        "     Revenue  Trailer  \n",
        "0  136189294      NaN  \n",
        "1   24375436      NaN  \n",
        "2   36895141      NaN  \n",
        "3  127120058      NaN  \n",
        "4  166112167     Play  \n",
        "\n",
        "[5 rows x 27 columns]"
       ]
      }
     ],
     "prompt_number": 400
    },
    {
     "cell_type": "code",
     "collapsed": false,
     "input": [
      "df2.to_csv('joined_data.csv',encoding='utf8')"
     ],
     "language": "python",
     "metadata": {},
     "outputs": [],
     "prompt_number": 401
    },
    {
     "cell_type": "heading",
     "level": 1,
     "metadata": {},
     "source": [
      "Analysis by genre"
     ]
    },
    {
     "cell_type": "code",
     "collapsed": false,
     "input": [
      "sns.factorplot('Genre_y','Songs',data=df2,kind='auto')\n",
      "plt.xticks(rotation=60)\n",
      "plt.xlabel('')\n",
      "#plt.ylim((0,10))"
     ],
     "language": "python",
     "metadata": {},
     "outputs": [
      {
       "metadata": {},
       "output_type": "pyout",
       "prompt_number": 384,
       "text": [
        "<matplotlib.text.Text at 0x125e84cd0>"
       ]
      },
      {
       "metadata": {},
       "output_type": "display_data",
       "png": "[encoded data removed]",
       "text": [
        "<matplotlib.figure.Figure at 0x120486810>"
       ]
      }
     ],
     "prompt_number": 384
    },
    {
     "cell_type": "heading",
     "level": 1,
     "metadata": {},
     "source": [
      "Analysis by rating"
     ]
    },
    {
     "cell_type": "code",
     "collapsed": false,
     "input": [
      "df2_normal_ratings = df2[df2['Rated'].isin(['G','PG','PG-13','R','NC-17'])]\n",
      "sns.factorplot('Rated','Songs',data=df2_normal_ratings,kind='auto',x_order=['G','PG','PG-13','R','NC-17'])\n",
      "plt.xticks(rotation=60)\n",
      "plt.xlabel('')\n",
      "#plt.ylim((0,10))"
     ],
     "language": "python",
     "metadata": {},
     "outputs": [
      {
       "metadata": {},
       "output_type": "pyout",
       "prompt_number": 385,
       "text": [
        "<matplotlib.text.Text at 0x125fa6090>"
       ]
      },
      {
       "metadata": {},
       "output_type": "display_data",
       "png": "[encoded data removed]",
       "text": [
        "<matplotlib.figure.Figure at 0x120b56e50>"
       ]
      }
     ],
     "prompt_number": 385
    },
    {
     "cell_type": "heading",
     "level": 1,
     "metadata": {},
     "source": [
      "Analysis by director"
     ]
    },
    {
     "cell_type": "code",
     "collapsed": false,
     "input": [
      "directors_df = df2.groupby('Director').agg({'index':len,\n",
      "                             'Songs':np.mean})\n",
      "directors_df[directors_df['index']>=5].sort('Songs',ascending=False)"
     ],
     "language": "python",
     "metadata": {},
     "outputs": [
      {
       "html": [
        "<div style=\"max-height:1000px;max-width:1500px;overflow:auto;\">\n",
        "<table border=\"1\" class=\"dataframe\">\n",
        "  <thead>\n",
        "    <tr style=\"text-align: right;\">\n",
        "      <th></th>\n",
        "      <th>index</th>\n",
        "      <th>Songs</th>\n",
        "    </tr>\n",
        "    <tr>\n",
        "      <th>Director</th>\n",
        "      <th></th>\n",
        "      <th></th>\n",
        "    </tr>\n",
        "  </thead>\n",
        "  <tbody>\n",
        "    <tr>\n",
        "      <th>Sam Raimi</th>\n",
        "      <td>  5</td>\n",
        "      <td> 6.600000</td>\n",
        "    </tr>\n",
        "    <tr>\n",
        "      <th>Robert Zemeckis</th>\n",
        "      <td>  5</td>\n",
        "      <td> 6.200000</td>\n",
        "    </tr>\n",
        "    <tr>\n",
        "      <th>Gore Verbinski</th>\n",
        "      <td>  6</td>\n",
        "      <td> 5.666667</td>\n",
        "    </tr>\n",
        "    <tr>\n",
        "      <th>Andy Wachowski, Lana Wachowski</th>\n",
        "      <td>  5</td>\n",
        "      <td> 5.600000</td>\n",
        "    </tr>\n",
        "    <tr>\n",
        "      <th>Michael Bay</th>\n",
        "      <td>  7</td>\n",
        "      <td> 3.857143</td>\n",
        "    </tr>\n",
        "    <tr>\n",
        "      <th>Ron Howard</th>\n",
        "      <td>  7</td>\n",
        "      <td> 3.857143</td>\n",
        "    </tr>\n",
        "    <tr>\n",
        "      <th>Peter Berg</th>\n",
        "      <td>  5</td>\n",
        "      <td> 3.800000</td>\n",
        "    </tr>\n",
        "    <tr>\n",
        "      <th>James Cameron</th>\n",
        "      <td>  5</td>\n",
        "      <td> 3.600000</td>\n",
        "    </tr>\n",
        "    <tr>\n",
        "      <th>Adam Shankman</th>\n",
        "      <td>  5</td>\n",
        "      <td> 3.600000</td>\n",
        "    </tr>\n",
        "    <tr>\n",
        "      <th>Roland Emmerich</th>\n",
        "      <td>  7</td>\n",
        "      <td> 3.428571</td>\n",
        "    </tr>\n",
        "    <tr>\n",
        "      <th>Brett Ratner</th>\n",
        "      <td>  6</td>\n",
        "      <td> 3.333333</td>\n",
        "    </tr>\n",
        "    <tr>\n",
        "      <th>Peter Jackson</th>\n",
        "      <td>  6</td>\n",
        "      <td> 3.166667</td>\n",
        "    </tr>\n",
        "    <tr>\n",
        "      <th>Steven Spielberg</th>\n",
        "      <td> 10</td>\n",
        "      <td> 3.100000</td>\n",
        "    </tr>\n",
        "    <tr>\n",
        "      <th>Danny Boyle</th>\n",
        "      <td>  5</td>\n",
        "      <td> 3.000000</td>\n",
        "    </tr>\n",
        "    <tr>\n",
        "      <th>Curtis Hanson</th>\n",
        "      <td>  5</td>\n",
        "      <td> 3.000000</td>\n",
        "    </tr>\n",
        "    <tr>\n",
        "      <th>Ridley Scott</th>\n",
        "      <td>  9</td>\n",
        "      <td> 3.000000</td>\n",
        "    </tr>\n",
        "    <tr>\n",
        "      <th>M. Night Shyamalan</th>\n",
        "      <td>  7</td>\n",
        "      <td> 2.857143</td>\n",
        "    </tr>\n",
        "    <tr>\n",
        "      <th>Raja Gosnell</th>\n",
        "      <td>  5</td>\n",
        "      <td> 2.600000</td>\n",
        "    </tr>\n",
        "    <tr>\n",
        "      <th>Spike Lee</th>\n",
        "      <td>  5</td>\n",
        "      <td> 2.400000</td>\n",
        "    </tr>\n",
        "    <tr>\n",
        "      <th>Steven Soderbergh</th>\n",
        "      <td>  5</td>\n",
        "      <td> 2.400000</td>\n",
        "    </tr>\n",
        "    <tr>\n",
        "      <th>Andy Tennant</th>\n",
        "      <td>  5</td>\n",
        "      <td> 2.400000</td>\n",
        "    </tr>\n",
        "    <tr>\n",
        "      <th>Wes Craven</th>\n",
        "      <td>  6</td>\n",
        "      <td> 2.333333</td>\n",
        "    </tr>\n",
        "    <tr>\n",
        "      <th>Tony Scott</th>\n",
        "      <td>  8</td>\n",
        "      <td> 2.250000</td>\n",
        "    </tr>\n",
        "    <tr>\n",
        "      <th>Shawn Levy</th>\n",
        "      <td>  5</td>\n",
        "      <td> 2.200000</td>\n",
        "    </tr>\n",
        "    <tr>\n",
        "      <th>Tom Shadyac</th>\n",
        "      <td>  6</td>\n",
        "      <td> 2.166667</td>\n",
        "    </tr>\n",
        "    <tr>\n",
        "      <th>Martin Scorsese</th>\n",
        "      <td>  7</td>\n",
        "      <td> 2.000000</td>\n",
        "    </tr>\n",
        "    <tr>\n",
        "      <th>Clint Eastwood</th>\n",
        "      <td>  5</td>\n",
        "      <td> 2.000000</td>\n",
        "    </tr>\n",
        "    <tr>\n",
        "      <th>Michael Mann</th>\n",
        "      <td>  6</td>\n",
        "      <td> 1.833333</td>\n",
        "    </tr>\n",
        "    <tr>\n",
        "      <th>Brian Robbins</th>\n",
        "      <td>  5</td>\n",
        "      <td> 1.800000</td>\n",
        "    </tr>\n",
        "    <tr>\n",
        "      <th>Paul Verhoeven</th>\n",
        "      <td>  5</td>\n",
        "      <td> 1.600000</td>\n",
        "    </tr>\n",
        "    <tr>\n",
        "      <th>Joel Schumacher</th>\n",
        "      <td>  7</td>\n",
        "      <td> 1.571429</td>\n",
        "    </tr>\n",
        "    <tr>\n",
        "      <th>Dennis Dugan</th>\n",
        "      <td>  5</td>\n",
        "      <td> 1.400000</td>\n",
        "    </tr>\n",
        "    <tr>\n",
        "      <th>James Foley</th>\n",
        "      <td>  5</td>\n",
        "      <td> 1.200000</td>\n",
        "    </tr>\n",
        "    <tr>\n",
        "      <th>Chris Columbus</th>\n",
        "      <td>  5</td>\n",
        "      <td> 1.200000</td>\n",
        "    </tr>\n",
        "  </tbody>\n",
        "</table>\n",
        "</div>"
       ],
       "metadata": {},
       "output_type": "pyout",
       "prompt_number": 387,
       "text": [
        "                                index     Songs\n",
        "Director                                       \n",
        "Sam Raimi                           5  6.600000\n",
        "Robert Zemeckis                     5  6.200000\n",
        "Gore Verbinski                      6  5.666667\n",
        "Andy Wachowski, Lana Wachowski      5  5.600000\n",
        "Michael Bay                         7  3.857143\n",
        "Ron Howard                          7  3.857143\n",
        "Peter Berg                          5  3.800000\n",
        "James Cameron                       5  3.600000\n",
        "Adam Shankman                       5  3.600000\n",
        "Roland Emmerich                     7  3.428571\n",
        "Brett Ratner                        6  3.333333\n",
        "Peter Jackson                       6  3.166667\n",
        "Steven Spielberg                   10  3.100000\n",
        "Danny Boyle                         5  3.000000\n",
        "Curtis Hanson                       5  3.000000\n",
        "Ridley Scott                        9  3.000000\n",
        "M. Night Shyamalan                  7  2.857143\n",
        "Raja Gosnell                        5  2.600000\n",
        "Spike Lee                           5  2.400000\n",
        "Steven Soderbergh                   5  2.400000\n",
        "Andy Tennant                        5  2.400000\n",
        "Wes Craven                          6  2.333333\n",
        "Tony Scott                          8  2.250000\n",
        "Shawn Levy                          5  2.200000\n",
        "Tom Shadyac                         6  2.166667\n",
        "Martin Scorsese                     7  2.000000\n",
        "Clint Eastwood                      5  2.000000\n",
        "Michael Mann                        6  1.833333\n",
        "Brian Robbins                       5  1.800000\n",
        "Paul Verhoeven                      5  1.600000\n",
        "Joel Schumacher                     7  1.571429\n",
        "Dennis Dugan                        5  1.400000\n",
        "James Foley                         5  1.200000\n",
        "Chris Columbus                      5  1.200000"
       ]
      }
     ],
     "prompt_number": 387
    },
    {
     "cell_type": "heading",
     "level": 1,
     "metadata": {},
     "source": [
      "Statistical models"
     ]
    },
    {
     "cell_type": "code",
     "collapsed": false,
     "input": [
      "df2.columns"
     ],
     "language": "python",
     "metadata": {},
     "outputs": [
      {
       "metadata": {},
       "output_type": "pyout",
       "prompt_number": 390,
       "text": [
        "Index([u'index', u'Actors', u'Awards', u'Country', u'Director', u'Genre_x', u'Language', u'Metascore', u'Plot', u'Poster', u'Rated', u'Released_x', u'Response', u'Runtime', u'Type', u'Writer', u'Year', u'imdbID', u'imdbRating', u'imdbVotes', u'Songs', u'Released_y', u'Movie', u'Genre_y', u'Budget', u'Revenue', u'Trailer'], dtype='object')"
       ]
      }
     ],
     "prompt_number": 390
    },
    {
     "cell_type": "code",
     "collapsed": false,
     "input": [
      "m_revenue = smf.ols(formula='np.log(Revenue+1) ~ Metascore + imdbRating + C(Year) + C(Genre_y) + np.log(Budget+1) + Songs', data=df2).fit()\n",
      "print m_revenue.summary()"
     ],
     "language": "python",
     "metadata": {},
     "outputs": [
      {
       "output_type": "stream",
       "stream": "stdout",
       "text": [
        "                             OLS Regression Results                            \n",
        "===============================================================================\n",
        "Dep. Variable:     np.log(Revenue + 1)   R-squared:                       0.487\n",
        "Model:                             OLS   Adj. R-squared:                  0.460\n",
        "Method:                  Least Squares   F-statistic:                     17.78\n",
        "Date:                 Thu, 12 Jun 2014   Prob (F-statistic):           2.66e-99\n",
        "Time:                         13:58:22   Log-Likelihood:                -1145.0\n",
        "No. Observations:                  947   AIC:                             2388.\n",
        "Df Residuals:                      898   BIC:                             2626.\n",
        "Df Model:                           48                                         \n",
        "===================================================================================================\n",
        "                                      coef    std err          t      P>|t|      [95.0% Conf. Int.]\n",
        "---------------------------------------------------------------------------------------------------\n",
        "Intercept                           4.3093      0.644      6.690      0.000         3.045     5.573\n",
        "C(Year)[T.1978]                     1.9638      0.833      2.357      0.019         0.329     3.599\n",
        "C(Year)[T.1979]                     0.1618      0.579      0.280      0.780        -0.974     1.297\n",
        "C(Year)[T.1980]                    -0.6779      0.816     -0.831      0.406        -2.279     0.924\n",
        "C(Year)[T.1981]                     0.9574      0.820      1.168      0.243        -0.651     2.566\n",
        "C(Year)[T.1982]                     0.5361      0.580      0.924      0.356        -0.602     1.675\n",
        "C(Year)[T.1984]                     0.6299      0.822      0.767      0.444        -0.983     2.242\n",
        "C(Year)[T.1986]                     0.4069      0.817      0.498      0.619        -1.196     2.010\n",
        "C(Year)[T.1987]                     0.7302      0.476      1.535      0.125        -0.204     1.664\n",
        "C(Year)[T.1988]                     0.1680      0.581      0.289      0.773        -0.972     1.308\n",
        "C(Year)[T.1989]                    -0.0910      0.580     -0.157      0.875        -1.230     1.048\n",
        "C(Year)[T.1990]                     0.4545      0.816      0.557      0.578        -1.147     2.056\n",
        "C(Year)[T.1991]                     0.0166      0.580      0.029      0.977        -1.122     1.155\n",
        "C(Year)[T.1992]                     0.0845      0.476      0.178      0.859        -0.849     1.018\n",
        "C(Year)[T.1993]                     0.4230      0.300      1.410      0.159        -0.166     1.012\n",
        "C(Year)[T.1994]                     0.4458      0.240      1.856      0.064        -0.026     0.917\n",
        "C(Year)[T.1995]                    -0.0140      0.214     -0.065      0.948        -0.434     0.406\n",
        "C(Year)[T.1996]                     0.0433      0.195      0.222      0.824        -0.338     0.425\n",
        "C(Year)[T.1997]                    -0.0233      0.165     -0.141      0.888        -0.347     0.301\n",
        "C(Year)[T.1998]                    -0.0115      0.153     -0.075      0.940        -0.312     0.289\n",
        "C(Year)[T.1999]                    -0.3000      0.134     -2.237      0.026        -0.563    -0.037\n",
        "C(Year)[T.2000]                    -0.1292      0.132     -0.980      0.327        -0.388     0.130\n",
        "C(Year)[T.2001]                    -0.1640      0.132     -1.240      0.215        -0.424     0.096\n",
        "C(Year)[T.2002]                    -0.2654      0.128     -2.075      0.038        -0.516    -0.014\n",
        "C(Year)[T.2003]                    -0.1396      0.122     -1.144      0.253        -0.379     0.100\n",
        "C(Year)[T.2004]                    -0.3025      0.121     -2.500      0.013        -0.540    -0.065\n",
        "C(Year)[T.2005]                    -0.4922      0.126     -3.919      0.000        -0.739    -0.246\n",
        "C(Year)[T.2006]                    -0.3281      0.126     -2.603      0.009        -0.575    -0.081\n",
        "C(Year)[T.2007]                    -0.4511      0.134     -3.354      0.001        -0.715    -0.187\n",
        "C(Year)[T.2008]                    -0.0801      0.157     -0.510      0.610        -0.388     0.228\n",
        "C(Year)[T.2009]                     0.1973      0.170      1.162      0.246        -0.136     0.531\n",
        "C(Year)[T.2010]                     0.2349      0.244      0.963      0.336        -0.244     0.714\n",
        "C(Year)[T.2011]                    -0.1938      0.272     -0.713      0.476        -0.727     0.339\n",
        "C(Year)[T.2012]                    -0.0555      0.250     -0.222      0.825        -0.547     0.436\n",
        "C(Year)[T.2013]                    -0.0488      0.193     -0.252      0.801        -0.428     0.331\n",
        "C(Year)[T.2014]                     0.6234      0.817      0.763      0.446        -0.980     2.227\n",
        "C(Genre_y)[T.Adventure]             0.1261      0.101      1.243      0.214        -0.073     0.325\n",
        "C(Genre_y)[T.Black Comedy]         -0.3765      0.252     -1.497      0.135        -0.870     0.117\n",
        "C(Genre_y)[T.Comedy]                0.4012      0.099      4.063      0.000         0.207     0.595\n",
        "C(Genre_y)[T.Documentary]           2.1270      0.845      2.518      0.012         0.469     3.785\n",
        "C(Genre_y)[T.Drama]                -0.2450      0.096     -2.559      0.011        -0.433    -0.057\n",
        "C(Genre_y)[T.Horror]                0.3792      0.133      2.861      0.004         0.119     0.639\n",
        "C(Genre_y)[T.Musical]               0.1011      0.489      0.207      0.836        -0.859     1.061\n",
        "C(Genre_y)[T.Romantic Comedy]       0.2824      0.140      2.014      0.044         0.007     0.558\n",
        "C(Genre_y)[T.Thriller/Suspense]    -0.1182      0.111     -1.067      0.286        -0.336     0.099\n",
        "C(Genre_y)[T.Western]              -0.7815      0.252     -3.098      0.002        -1.276    -0.286\n",
        "Metascore                           0.0130      0.003      5.090      0.000         0.008     0.018\n",
        "imdbRating                          0.1100      0.042      2.592      0.010         0.027     0.193\n",
        "np.log(Budget + 1)                  0.6842      0.036     18.999      0.000         0.613     0.755\n",
        "Songs                               0.0448      0.012      3.740      0.000         0.021     0.068\n",
        "==============================================================================\n",
        "Omnibus:                      115.342   Durbin-Watson:                   1.886\n",
        "Prob(Omnibus):                  0.000   Jarque-Bera (JB):              221.998\n",
        "Skew:                          -0.748   Prob(JB):                     6.22e-49\n",
        "Kurtosis:                       4.841   Cond. No.                     4.78e+08\n",
        "==============================================================================\n",
        "\n",
        "Warnings:\n",
        "[1] The smallest eigenvalue is 1.44e-11. This might indicate that there are\n",
        "strong multicollinearity problems or that the design matrix is singular.\n"
       ]
      }
     ],
     "prompt_number": 404
    },
    {
     "cell_type": "code",
     "collapsed": false,
     "input": [
      "np.e**m_revenue.params['np.log(Budget + 1)']"
     ],
     "language": "python",
     "metadata": {},
     "outputs": [
      {
       "metadata": {},
       "output_type": "pyout",
       "prompt_number": 415,
       "text": [
        "1.9821137791249375"
       ]
      }
     ],
     "prompt_number": 415
    },
    {
     "cell_type": "code",
     "collapsed": false,
     "input": [
      "np.e**m_revenue.params['Songs']"
     ],
     "language": "python",
     "metadata": {},
     "outputs": [
      {
       "metadata": {},
       "output_type": "pyout",
       "prompt_number": 411,
       "text": [
        "1.0458289713224458"
       ]
      }
     ],
     "prompt_number": 411
    },
    {
     "cell_type": "code",
     "collapsed": false,
     "input": [
      "m_metascore = smf.ols(formula='Metascore ~ np.log(Revenue+1) + imdbRating + C(Year) + C(Genre_y) + np.log(Budget+1) + Songs', data=df2).fit()\n",
      "print m_metascore.summary()"
     ],
     "language": "python",
     "metadata": {},
     "outputs": [
      {
       "output_type": "stream",
       "stream": "stdout",
       "text": [
        "                            OLS Regression Results                            \n",
        "==============================================================================\n",
        "Dep. Variable:              Metascore   R-squared:                       0.631\n",
        "Model:                            OLS   Adj. R-squared:                  0.611\n",
        "Method:                 Least Squares   F-statistic:                     31.99\n",
        "Date:                Thu, 12 Jun 2014   Prob (F-statistic):          7.48e-161\n",
        "Time:                        14:19:04   Log-Likelihood:                -3567.1\n",
        "No. Observations:                 947   AIC:                             7232.\n",
        "Df Residuals:                     898   BIC:                             7470.\n",
        "Df Model:                          48                                         \n",
        "===================================================================================================\n",
        "                                      coef    std err          t      P>|t|      [95.0% Conf. Int.]\n",
        "---------------------------------------------------------------------------------------------------\n",
        "Intercept                         -23.7081      8.481     -2.796      0.005       -40.352    -7.064\n",
        "C(Year)[T.1978]                     9.2107     10.781      0.854      0.393       -11.947    30.369\n",
        "C(Year)[T.1979]                     0.7642      7.468      0.102      0.919       -13.892    15.420\n",
        "C(Year)[T.1980]                    14.6776     10.524      1.395      0.163        -5.977    35.332\n",
        "C(Year)[T.1981]                   -10.9991     10.580     -1.040      0.299       -31.763     9.765\n",
        "C(Year)[T.1982]                   -11.6235      7.479     -1.554      0.121       -26.302     3.055\n",
        "C(Year)[T.1984]                    10.7541     10.601      1.014      0.311       -10.052    31.560\n",
        "C(Year)[T.1986]                     7.5818     10.541      0.719      0.472       -13.106    28.270\n",
        "C(Year)[T.1987]                    -2.2205      6.148     -0.361      0.718       -14.287     9.846\n",
        "C(Year)[T.1988]                   -15.3031      7.482     -2.045      0.041       -29.988    -0.618\n",
        "C(Year)[T.1989]                    -0.0661      7.489     -0.009      0.993       -14.764    14.632\n",
        "C(Year)[T.1990]                     9.7667     10.529      0.928      0.354       -10.898    30.431\n",
        "C(Year)[T.1991]                    -5.6971      7.483     -0.761      0.447       -20.383     8.989\n",
        "C(Year)[T.1992]                     0.2628      6.141      0.043      0.966       -11.790    12.316\n",
        "C(Year)[T.1993]                     0.4612      3.876      0.119      0.905        -7.146     8.069\n",
        "C(Year)[T.1994]                    -5.0123      3.101     -1.616      0.106       -11.098     1.074\n",
        "C(Year)[T.1995]                     3.5513      2.762      1.286      0.199        -1.870     8.972\n",
        "C(Year)[T.1996]                    -0.2109      2.510     -0.084      0.933        -5.138     4.716\n",
        "C(Year)[T.1997]                     4.1300      2.127      1.942      0.052        -0.045     8.305\n",
        "C(Year)[T.1998]                    -2.7506      1.974     -1.393      0.164        -6.626     1.124\n",
        "C(Year)[T.1999]                    -2.4859      1.733     -1.434      0.152        -5.888     0.916\n",
        "C(Year)[T.2000]                    -3.7793      1.697     -2.226      0.026        -7.111    -0.448\n",
        "C(Year)[T.2001]                    -5.2099      1.699     -3.066      0.002        -8.545    -1.874\n",
        "C(Year)[T.2002]                     0.1948      1.654      0.118      0.906        -3.052     3.442\n",
        "C(Year)[T.2003]                    -2.1345      1.574     -1.356      0.175        -5.224     0.955\n",
        "C(Year)[T.2004]                    -2.6968      1.565     -1.723      0.085        -5.768     0.374\n",
        "C(Year)[T.2005]                     0.1789      1.635      0.109      0.913        -3.029     3.387\n",
        "C(Year)[T.2006]                     0.2563      1.633      0.157      0.875        -2.948     3.461\n",
        "C(Year)[T.2007]                    -0.1120      1.747     -0.064      0.949        -3.540     3.316\n",
        "C(Year)[T.2008]                    -3.7476      2.022     -1.853      0.064        -7.717     0.222\n",
        "C(Year)[T.2009]                    -2.7056      2.191     -1.235      0.217        -7.006     1.595\n",
        "C(Year)[T.2010]                    -0.2928      3.150     -0.093      0.926        -6.476     5.890\n",
        "C(Year)[T.2011]                     1.2561      3.507      0.358      0.720        -5.628     8.140\n",
        "C(Year)[T.2012]                    -3.7018      3.230     -1.146      0.252       -10.041     2.638\n",
        "C(Year)[T.2013]                    -4.8177      2.491     -1.934      0.053        -9.706     0.070\n",
        "C(Year)[T.2014]                    -1.1875     10.545     -0.113      0.910       -21.884    19.509\n",
        "C(Genre_y)[T.Adventure]             6.2348      1.293      4.821      0.000         3.696     8.773\n",
        "C(Genre_y)[T.Black Comedy]          8.9301      3.237      2.759      0.006         2.577    15.284\n",
        "C(Genre_y)[T.Comedy]                2.4870      1.284      1.938      0.053        -0.032     5.006\n",
        "C(Genre_y)[T.Documentary]          -1.0289     10.942     -0.094      0.925       -22.504    20.446\n",
        "C(Genre_y)[T.Drama]                 2.9950      1.236      2.423      0.016         0.569     5.421\n",
        "C(Genre_y)[T.Horror]               -2.7725      1.716     -1.616      0.107        -6.140     0.595\n",
        "C(Genre_y)[T.Musical]              -1.3179      6.311     -0.209      0.835       -13.705    11.069\n",
        "C(Genre_y)[T.Romantic Comedy]       1.0606      1.813      0.585      0.559        -2.498     4.619\n",
        "C(Genre_y)[T.Thriller/Suspense]    -0.9965      1.430     -0.697      0.486        -3.802     1.810\n",
        "C(Genre_y)[T.Western]               5.4580      3.267      1.671      0.095        -0.954    11.870\n",
        "np.log(Revenue + 1)                 2.1610      0.425      5.090      0.000         1.328     2.994\n",
        "imdbRating                         11.5703      0.391     29.560      0.000        10.802    12.338\n",
        "np.log(Budget + 1)                 -2.0670      0.546     -3.786      0.000        -3.138    -0.995\n",
        "Songs                              -0.1348      0.156     -0.866      0.387        -0.441     0.171\n",
        "==============================================================================\n",
        "Omnibus:                        2.609   Durbin-Watson:                   1.970\n",
        "Prob(Omnibus):                  0.271   Jarque-Bera (JB):                2.682\n",
        "Skew:                          -0.119   Prob(JB):                        0.262\n",
        "Kurtosis:                       2.893   Cond. No.                          nan\n",
        "==============================================================================\n",
        "\n",
        "Warnings:\n",
        "[1] The smallest eigenvalue is -1.75e-13. This might indicate that there are\n",
        "strong multicollinearity problems or that the design matrix is singular.\n"
       ]
      }
     ],
     "prompt_number": 416
    },
    {
     "cell_type": "code",
     "collapsed": false,
     "input": [
      "m_imdbrating = smf.ols(formula='imdbRating ~ np.log(Revenue+1) +  Metascore + C(Year) + C(Genre_y) + np.log(Budget+1) + Songs', data=df2).fit()\n",
      "print m_imdbrating.summary()"
     ],
     "language": "python",
     "metadata": {},
     "outputs": [
      {
       "output_type": "stream",
       "stream": "stdout",
       "text": [
        "                            OLS Regression Results                            \n",
        "==============================================================================\n",
        "Dep. Variable:             imdbRating   R-squared:                       0.635\n",
        "Model:                            OLS   Adj. R-squared:                  0.616\n",
        "Method:                 Least Squares   F-statistic:                     32.58\n",
        "Date:                Thu, 12 Jun 2014   Prob (F-statistic):          4.93e-163\n",
        "Time:                        14:19:06   Log-Likelihood:                -913.69\n",
        "No. Observations:                 947   AIC:                             1925.\n",
        "Df Residuals:                     898   BIC:                             2163.\n",
        "Df Model:                          48                                         \n",
        "===================================================================================================\n",
        "                                      coef    std err          t      P>|t|      [95.0% Conf. Int.]\n",
        "---------------------------------------------------------------------------------------------------\n",
        "Intercept                           3.2075      0.506      6.342      0.000         2.215     4.200\n",
        "C(Year)[T.1978]                     0.1519      0.655      0.232      0.817        -1.133     1.437\n",
        "C(Year)[T.1979]                     0.2039      0.453      0.450      0.653        -0.686     1.093\n",
        "C(Year)[T.1980]                    -0.0159      0.639     -0.025      0.980        -1.271     1.239\n",
        "C(Year)[T.1981]                     0.5774      0.642      0.899      0.369        -0.683     1.838\n",
        "C(Year)[T.1982]                     0.6902      0.454      1.520      0.129        -0.201     1.581\n",
        "C(Year)[T.1984]                     0.1259      0.644      0.196      0.845        -1.138     1.389\n",
        "C(Year)[T.1986]                     0.4616      0.640      0.722      0.471        -0.794     1.717\n",
        "C(Year)[T.1987]                     0.2642      0.373      0.708      0.479        -0.468     0.996\n",
        "C(Year)[T.1988]                     1.2102      0.453      2.669      0.008         0.320     2.100\n",
        "C(Year)[T.1989]                    -0.0808      0.455     -0.178      0.859        -0.973     0.811\n",
        "C(Year)[T.1990]                    -0.6823      0.639     -1.068      0.286        -1.936     0.572\n",
        "C(Year)[T.1991]                     0.1611      0.454      0.355      0.723        -0.731     1.053\n",
        "C(Year)[T.1992]                     0.0030      0.373      0.008      0.994        -0.729     0.735\n",
        "C(Year)[T.1993]                     0.0869      0.235      0.369      0.712        -0.375     0.549\n",
        "C(Year)[T.1994]                     0.4089      0.188      2.175      0.030         0.040     0.778\n",
        "C(Year)[T.1995]                    -0.2402      0.168     -1.433      0.152        -0.569     0.089\n",
        "C(Year)[T.1996]                     0.0220      0.152      0.144      0.885        -0.277     0.321\n",
        "C(Year)[T.1997]                    -0.3189      0.129     -2.473      0.014        -0.572    -0.066\n",
        "C(Year)[T.1998]                     0.0234      0.120      0.195      0.846        -0.212     0.259\n",
        "C(Year)[T.1999]                     0.1307      0.105      1.242      0.215        -0.076     0.337\n",
        "C(Year)[T.2000]                  3.454e-05      0.103      0.000      1.000        -0.203     0.203\n",
        "C(Year)[T.2001]                     0.0379      0.104      0.366      0.715        -0.166     0.241\n",
        "C(Year)[T.2002]                    -0.2401      0.100     -2.399      0.017        -0.437    -0.044\n",
        "C(Year)[T.2003]                    -0.0595      0.096     -0.622      0.534        -0.247     0.128\n",
        "C(Year)[T.2004]                     0.0303      0.095      0.319      0.750        -0.156     0.217\n",
        "C(Year)[T.2005]                    -0.1030      0.099     -1.038      0.299        -0.298     0.092\n",
        "C(Year)[T.2006]                    -0.1129      0.099     -1.140      0.255        -0.307     0.081\n",
        "C(Year)[T.2007]                     0.1110      0.106      1.048      0.295        -0.097     0.319\n",
        "C(Year)[T.2008]                    -0.1162      0.123     -0.945      0.345        -0.357     0.125\n",
        "C(Year)[T.2009]                    -0.0300      0.133     -0.226      0.821        -0.291     0.231\n",
        "C(Year)[T.2010]                    -0.3691      0.191     -1.934      0.053        -0.744     0.005\n",
        "C(Year)[T.2011]                     0.1411      0.213      0.663      0.508        -0.277     0.559\n",
        "C(Year)[T.2012]                     0.0876      0.196      0.447      0.655        -0.297     0.473\n",
        "C(Year)[T.2013]                     0.0966      0.151      0.638      0.524        -0.201     0.394\n",
        "C(Year)[T.2014]                     0.5505      0.640      0.861      0.390        -0.705     1.806\n",
        "C(Genre_y)[T.Adventure]            -0.1362      0.079     -1.716      0.086        -0.292     0.020\n",
        "C(Genre_y)[T.Black Comedy]          0.0547      0.197      0.277      0.782        -0.333     0.442\n",
        "C(Genre_y)[T.Comedy]               -0.3464      0.077     -4.487      0.000        -0.498    -0.195\n",
        "C(Genre_y)[T.Documentary]           0.2539      0.664      0.382      0.702        -1.049     1.557\n",
        "C(Genre_y)[T.Drama]                 0.1553      0.075      2.067      0.039         0.008     0.303\n",
        "C(Genre_y)[T.Horror]               -0.2118      0.104     -2.035      0.042        -0.416    -0.008\n",
        "C(Genre_y)[T.Musical]               0.3524      0.383      0.920      0.358        -0.399     1.104\n",
        "C(Genre_y)[T.Romantic Comedy]      -0.2501      0.110     -2.279      0.023        -0.466    -0.035\n",
        "C(Genre_y)[T.Thriller/Suspense]     0.2272      0.086      2.627      0.009         0.057     0.397\n",
        "C(Genre_y)[T.Western]               0.0032      0.199      0.016      0.987        -0.387     0.393\n",
        "np.log(Revenue + 1)                 0.0675      0.026      2.592      0.010         0.016     0.119\n",
        "Metascore                           0.0426      0.001     29.560      0.000         0.040     0.045\n",
        "np.log(Budget + 1)                 -0.0070      0.033     -0.209      0.834        -0.073     0.059\n",
        "Songs                               0.0032      0.009      0.340      0.734        -0.015     0.022\n",
        "==============================================================================\n",
        "Omnibus:                       50.556   Durbin-Watson:                   1.956\n",
        "Prob(Omnibus):                  0.000   Jarque-Bera (JB):               82.845\n",
        "Skew:                          -0.413   Prob(JB):                     1.02e-18\n",
        "Kurtosis:                       4.191   Cond. No.                     7.16e+08\n",
        "==============================================================================\n",
        "\n",
        "Warnings:\n",
        "[1] The smallest eigenvalue is 6.88e-12. This might indicate that there are\n",
        "strong multicollinearity problems or that the design matrix is singular.\n"
       ]
      }
     ],
     "prompt_number": 417
    },
    {
     "cell_type": "code",
     "collapsed": false,
     "input": [
      "m_budget = smf.ols(formula='np.log(Budget+1) ~ imdbRating + np.log(Revenue+1) +  Metascore + C(Year) + C(Genre_y) + Songs', data=df2).fit()\n",
      "print m_budget.summary()"
     ],
     "language": "python",
     "metadata": {},
     "outputs": [
      {
       "output_type": "stream",
       "stream": "stdout",
       "text": [
        "                            OLS Regression Results                            \n",
        "==============================================================================\n",
        "Dep. Variable:     np.log(Budget + 1)   R-squared:                       0.548\n",
        "Model:                            OLS   Adj. R-squared:                  0.524\n",
        "Method:                 Least Squares   F-statistic:                     22.70\n",
        "Date:                Thu, 12 Jun 2014   Prob (F-statistic):          8.53e-123\n",
        "Time:                        14:19:42   Log-Likelihood:                -912.85\n",
        "No. Observations:                 947   AIC:                             1924.\n",
        "Df Residuals:                     898   BIC:                             2162.\n",
        "Df Model:                          48                                         \n",
        "===================================================================================================\n",
        "                                      coef    std err          t      P>|t|      [95.0% Conf. Int.]\n",
        "---------------------------------------------------------------------------------------------------\n",
        "Intercept                          10.1387      0.390     25.978      0.000         9.373    10.905\n",
        "C(Year)[T.1978]                    -3.3151      0.645     -5.143      0.000        -4.580    -2.050\n",
        "C(Year)[T.1979]                    -0.0037      0.453     -0.008      0.993        -0.893     0.885\n",
        "C(Year)[T.1980]                     0.5886      0.639      0.922      0.357        -0.665     1.842\n",
        "C(Year)[T.1981]                    -1.1842      0.641     -1.848      0.065        -2.442     0.073\n",
        "C(Year)[T.1982]                    -0.6667      0.454     -1.470      0.142        -1.557     0.224\n",
        "C(Year)[T.1984]                    -1.2468      0.642     -1.942      0.052        -2.507     0.013\n",
        "C(Year)[T.1986]                    -0.4661      0.639     -0.729      0.466        -1.721     0.788\n",
        "C(Year)[T.1987]                    -0.4821      0.373     -1.294      0.196        -1.213     0.249\n",
        "C(Year)[T.1988]                     0.2700      0.455      0.594      0.553        -0.622     1.162\n",
        "C(Year)[T.1989]                     0.4349      0.454      0.958      0.338        -0.456     1.326\n",
        "C(Year)[T.1990]                     0.4037      0.639      0.632      0.527        -0.850     1.657\n",
        "C(Year)[T.1991]                     0.6946      0.453      1.532      0.126        -0.195     1.584\n",
        "C(Year)[T.1992]                     0.5037      0.372      1.354      0.176        -0.226     1.234\n",
        "C(Year)[T.1993]                     0.4548      0.235      1.939      0.053        -0.006     0.915\n",
        "C(Year)[T.1994]                     0.2226      0.188      1.183      0.237        -0.147     0.592\n",
        "C(Year)[T.1995]                     0.6356      0.166      3.822      0.000         0.309     0.962\n",
        "C(Year)[T.1996]                     0.5087      0.151      3.363      0.001         0.212     0.806\n",
        "C(Year)[T.1997]                     0.8556      0.126      6.787      0.000         0.608     1.103\n",
        "C(Year)[T.1998]                     0.6114      0.118      5.176      0.000         0.380     0.843\n",
        "C(Year)[T.1999]                     0.6708      0.103      6.523      0.000         0.469     0.873\n",
        "C(Year)[T.2000]                     0.6625      0.101      6.571      0.000         0.465     0.860\n",
        "C(Year)[T.2001]                     0.7412      0.101      7.368      0.000         0.544     0.939\n",
        "C(Year)[T.2002]                     0.6935      0.098      7.104      0.000         0.502     0.885\n",
        "C(Year)[T.2003]                     0.6054      0.093      6.481      0.000         0.422     0.789\n",
        "C(Year)[T.2004]                     0.7035      0.092      7.638      0.000         0.523     0.884\n",
        "C(Year)[T.2005]                     0.7772      0.096      8.123      0.000         0.589     0.965\n",
        "C(Year)[T.2006]                     0.6467      0.097      6.692      0.000         0.457     0.836\n",
        "C(Year)[T.2007]                     0.6204      0.104      5.973      0.000         0.417     0.824\n",
        "C(Year)[T.2008]                     0.7173      0.121      5.951      0.000         0.481     0.954\n",
        "C(Year)[T.2009]                     0.8074      0.130      6.199      0.000         0.552     1.063\n",
        "C(Year)[T.2010]                     0.9196      0.189      4.877      0.000         0.550     1.290\n",
        "C(Year)[T.2011]                     0.8641      0.211      4.100      0.000         0.450     1.278\n",
        "C(Year)[T.2012]                     0.7900      0.194      4.067      0.000         0.409     1.171\n",
        "C(Year)[T.2013]                     0.9217      0.148      6.220      0.000         0.631     1.213\n",
        "C(Year)[T.2014]                     0.1781      0.639      0.279      0.781        -1.077     1.433\n",
        "C(Genre_y)[T.Adventure]             0.1499      0.079      1.891      0.059        -0.006     0.306\n",
        "C(Genre_y)[T.Black Comedy]         -0.8866      0.195     -4.549      0.000        -1.269    -0.504\n",
        "C(Genre_y)[T.Comedy]               -0.6683      0.075     -8.941      0.000        -0.815    -0.522\n",
        "C(Genre_y)[T.Documentary]          -2.5106      0.658     -3.814      0.000        -3.802    -1.219\n",
        "C(Genre_y)[T.Drama]                -0.3968      0.074     -5.360      0.000        -0.542    -0.252\n",
        "C(Genre_y)[T.Horror]               -1.0125      0.099    -10.270      0.000        -1.206    -0.819\n",
        "C(Genre_y)[T.Musical]              -0.0654      0.383     -0.171      0.864        -0.817     0.686\n",
        "C(Genre_y)[T.Romantic Comedy]      -0.6458      0.108     -5.988      0.000        -0.857    -0.434\n",
        "C(Genre_y)[T.Thriller/Suspense]    -0.3629      0.086     -4.225      0.000        -0.531    -0.194\n",
        "C(Genre_y)[T.Western]               0.2095      0.198      1.056      0.291        -0.180     0.599\n",
        "imdbRating                         -0.0070      0.033     -0.209      0.834        -0.072     0.058\n",
        "np.log(Revenue + 1)                 0.4191      0.022     18.999      0.000         0.376     0.462\n",
        "Metascore                          -0.0076      0.002     -3.786      0.000        -0.012    -0.004\n",
        "Songs                               0.0223      0.009      2.371      0.018         0.004     0.041\n",
        "==============================================================================\n",
        "Omnibus:                      106.875   Durbin-Watson:                   1.906\n",
        "Prob(Omnibus):                  0.000   Jarque-Bera (JB):              195.398\n",
        "Skew:                          -0.719   Prob(JB):                     3.71e-43\n",
        "Kurtosis:                       4.699   Cond. No.                          nan\n",
        "==============================================================================\n",
        "\n",
        "Warnings:\n",
        "[1] The smallest eigenvalue is -1.13e-11. This might indicate that there are\n",
        "strong multicollinearity problems or that the design matrix is singular.\n"
       ]
      }
     ],
     "prompt_number": 418
    },
    {
     "cell_type": "code",
     "collapsed": false,
     "input": [
      "plt.scatter(df2['Trailer songs'].values,df2['Revenue'].values,alpha=.1)\n",
      "plt.yscale('symlog')\n",
      "#plt.ylim((0,1e10))"
     ],
     "language": "python",
     "metadata": {},
     "outputs": [
      {
       "metadata": {},
       "output_type": "pyout",
       "prompt_number": 358,
       "text": [
        "(0, 10000000000.0)"
       ]
      },
      {
       "metadata": {},
       "output_type": "display_data",
       "png": "[encoded data removed]",
       "text": [
        "<matplotlib.figure.Figure at 0x12030a050>"
       ]
      }
     ],
     "prompt_number": 358
    },
    {
     "cell_type": "code",
     "collapsed": false,
     "input": [],
     "language": "python",
     "metadata": {},
     "outputs": []
    }
   ],
   "metadata": {}
  }
 ]
}