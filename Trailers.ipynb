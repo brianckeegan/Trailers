{
 "metadata": {
  "name": "",
  "signature": "sha256:832c036bb93fbf52bcbc0710513d590d7ac8994becc8383c5f9ca31cb2f50aec"
 },
 "nbformat": 3,
 "nbformat_minor": 0,
 "worksheets": [
  {
   "cells": [
    {
     "cell_type": "code",
     "collapsed": false,
     "input": [
      "%matplotlib inline\n",
      "import numpy as np\n",
      "import matplotlib.pyplot as plt\n",
      "import pandas as pd\n",
      "import networkx as nx\n",
      "import seaborn as sns\n",
      "sns.set(style=\"white\",rc={\"figure.figsize\": (6, 6)})\n",
      "from bs4 import BeautifulSoup\n",
      "from collections import Counter\n",
      "import urllib2, datetime, string, json, re, operator"
     ],
     "language": "python",
     "metadata": {},
     "outputs": [],
     "prompt_number": 115
    },
    {
     "cell_type": "heading",
     "level": 1,
     "metadata": {},
     "source": [
      "Crawl data"
     ]
    },
    {
     "cell_type": "code",
     "collapsed": false,
     "input": [
      "pages = [i for i in string.printable[10:36]]\n",
      "pages.append('NUM')"
     ],
     "language": "python",
     "metadata": {},
     "outputs": [],
     "prompt_number": 28
    },
    {
     "cell_type": "markdown",
     "metadata": {},
     "source": [
      "Get a list of all movies from http://www.soundtrack.net/trailers/."
     ]
    },
    {
     "cell_type": "code",
     "collapsed": false,
     "input": [
      "mapping = dict()\n",
      "for page in pages:\n",
      "    soup = BeautifulSoup(urllib2.urlopen('http://www.soundtrack.net/trailers/?cid={0}'.format(page)).read())\n",
      "    names = [i.text for i in soup.findAll('div',{'id':'chunk','class':'resources-left-table'})[0].findAll('a')]\n",
      "    urls = [i['href'] for i in soup.findAll('div',{'id':'chunk','class':'resources-left-table'})[0].findAll('a')]\n",
      "    mapping.update(dict(zip(names,urls)))"
     ],
     "language": "python",
     "metadata": {},
     "outputs": [],
     "prompt_number": 31
    },
    {
     "cell_type": "markdown",
     "metadata": {},
     "source": [
      "Save the data to `name_url_mapping.json`"
     ]
    },
    {
     "cell_type": "code",
     "collapsed": false,
     "input": [
      "with open('name_url_mapping.json','wb') as f:\n",
      "    json.dump(mapping,f)\n",
      "\n",
      "len(mapping)"
     ],
     "language": "python",
     "metadata": {},
     "outputs": [
      {
       "metadata": {},
       "output_type": "pyout",
       "prompt_number": 38,
       "text": [
        "2414"
       ]
      }
     ],
     "prompt_number": 38
    },
    {
     "cell_type": "heading",
     "level": 1,
     "metadata": {},
     "source": [
      "Songs per trailer"
     ]
    },
    {
     "cell_type": "code",
     "collapsed": false,
     "input": [
      "soup = BeautifulSoup(urllib2.urlopen('http://www.soundtrack.net{0}'.format(url)).read())\n",
      "songs = soup.findAll('ul',{'id':'trailer'})[0].text"
     ],
     "language": "python",
     "metadata": {},
     "outputs": []
    },
    {
     "cell_type": "markdown",
     "metadata": {},
     "source": [
      "Crawl all the songs in each record, store in `name_song_mapping`. Only include songs in full \"Theatrical Trailer\" -- excludes teasers, TV spots, etc."
     ]
    },
    {
     "cell_type": "code",
     "collapsed": false,
     "input": [
      "name_song_mapping = dict()\n",
      "\n",
      "for movie,url in mapping.iteritems():\n",
      "    soup = BeautifulSoup(urllib2.urlopen('http://www.soundtrack.net{0}'.format(url)).read())\n",
      "    songs = soup.findAll('ul',{'id':'trailer'})[0].text\n",
      "    if 'THEATRICAL TRAILER' in songs:\n",
      "        name_song_mapping[movie] = songs"
     ],
     "language": "python",
     "metadata": {},
     "outputs": [],
     "prompt_number": 39
    },
    {
     "cell_type": "markdown",
     "metadata": {},
     "source": [
      "Save `name_song_mapping` to `name_song_mapping.json`"
     ]
    },
    {
     "cell_type": "code",
     "collapsed": false,
     "input": [
      "with open('name_song_mapping.json','wb') as f:\n",
      "    json.dump(name_song_mapping,f)\n",
      "\n",
      "len(name_song_mapping)"
     ],
     "language": "python",
     "metadata": {},
     "outputs": [
      {
       "metadata": {},
       "output_type": "pyout",
       "prompt_number": 42,
       "text": [
        "2182"
       ]
      }
     ],
     "prompt_number": 42
    },
    {
     "cell_type": "heading",
     "level": 1,
     "metadata": {},
     "source": [
      "Load data"
     ]
    },
    {
     "cell_type": "markdown",
     "metadata": {},
     "source": [
      "Load `name_song_mapping.json` from disk. Should have 2182 elements."
     ]
    },
    {
     "cell_type": "code",
     "collapsed": false,
     "input": [
      "with open('name_song_mapping.json','rb') as f:\n",
      "    name_song_mapping = json.load(f)\n",
      "    \n",
      "len(name_song_mapping)"
     ],
     "language": "python",
     "metadata": {},
     "outputs": [
      {
       "metadata": {},
       "output_type": "pyout",
       "prompt_number": 3,
       "text": [
        "2182"
       ]
      }
     ],
     "prompt_number": 3
    },
    {
     "cell_type": "heading",
     "level": 1,
     "metadata": {},
     "source": [
      "Begin analysis"
     ]
    },
    {
     "cell_type": "markdown",
     "metadata": {},
     "source": [
      "Create a dictionary that is an edgelist of movies connected to songs."
     ]
    },
    {
     "cell_type": "code",
     "collapsed": false,
     "input": [
      "edgelist_dict = {movie:text.split('\\n')[1:-1] for movie,text in name_song_mapping.iteritems()}\n",
      "edgelist_dict.items()[:3]"
     ],
     "language": "python",
     "metadata": {},
     "outputs": [
      {
       "metadata": {},
       "output_type": "pyout",
       "prompt_number": 4,
       "text": [
        "[(u'Drop Dead Gorgeous (1999)',\n",
        "  [u'\"Conga\" - Gloria Estefan & Miami Sound Machine',\n",
        "   u'\"Get Ready For This\" - 2 Unlimited']),\n",
        " (u'The Peacemaker (1997)',\n",
        "  [u'\"Original Trailer Music\" - Harry Gregson-Williams']),\n",
        " (u'The Covenant (2006)',\n",
        "  [u'\"River of Joy\" - Black Lab', u'\"Save Yourself\" - Stabbing Westward'])]"
       ]
      }
     ],
     "prompt_number": 4
    },
    {
     "cell_type": "markdown",
     "metadata": {},
     "source": [
      "Iterate over this edgelist object and make a `NetworkX` object."
     ]
    },
    {
     "cell_type": "code",
     "collapsed": false,
     "input": [
      "g = nx.DiGraph()\n",
      "for movie,songs in edgelist_dict.iteritems():\n",
      "    for song in songs:\n",
      "        g.add_edge(movie,song)\n",
      "        g.add_node(movie,year=re.findall(r'[0-9]{4}',movie)[0],kind='Movie')\n",
      "        g.add_node(song,year=0,kind='Song')\n",
      "        \n",
      "# Remove \"Original trailer music\" as this may refer to distinct songs\n",
      "g.remove_nodes_from([i for i in g.nodes() if 'Original Trailer Music' in i])  \n",
      "\n",
      "# Save the nodes corresponding to movies and songs in lists\n",
      "movies = [n for n,data in g.nodes(data=True) if data['kind'] == 'Movie']\n",
      "songs = [n for n,data in g.nodes(data=True) if data['kind'] == 'Song']\n",
      "\n",
      "# Print the number of edges, nodes, and network density\n",
      "g.number_of_edges(),g.number_of_nodes(),nx.bipartite.density(g,songs)"
     ],
     "language": "python",
     "metadata": {},
     "outputs": [
      {
       "metadata": {},
       "output_type": "pyout",
       "prompt_number": 15,
       "text": [
        "(4810, 5862, 0.00029951081975052805)"
       ]
      }
     ],
     "prompt_number": 15
    },
    {
     "cell_type": "markdown",
     "metadata": {},
     "source": [
      "Compute the fraction of nodes in the largest connected component."
     ]
    },
    {
     "cell_type": "code",
     "collapsed": false,
     "input": [
      "components = nx.components.connected_component_subgraphs(g.to_undirected())\n",
      "len(components[0])/float(g.number_of_nodes())"
     ],
     "language": "python",
     "metadata": {},
     "outputs": [
      {
       "metadata": {},
       "output_type": "pyout",
       "prompt_number": 16,
       "text": [
        "0.3553394745820539"
       ]
      }
     ],
     "prompt_number": 16
    },
    {
     "cell_type": "markdown",
     "metadata": {},
     "source": [
      "Compute the degree distribution."
     ]
    },
    {
     "cell_type": "code",
     "collapsed": false,
     "input": [
      "idc = {k:int(round(v*(len(g)-1),0)) for k,v in nx.in_degree_centrality(g).iteritems()}\n",
      "idc_counter = Counter(idc.values())\n",
      "\n",
      "odc = {k:int(round(v*(len(g)-1),0)) for k,v in nx.out_degree_centrality(g).iteritems()}\n",
      "odc_counter = Counter(odc.values())\n",
      "\n",
      "plt.scatter(idc_counter.keys(),idc_counter.values(),label='Songs',color='r',s=100,marker='^')\n",
      "plt.scatter(odc_counter.keys(),odc_counter.values(),label='Movies',color='b',s=100)\n",
      "plt.xscale('symlog')\n",
      "plt.yscale('symlog')\n",
      "plt.xlim((.5,2e2))\n",
      "plt.ylim((0,1e4))\n",
      "plt.legend(scatterpoints=1)\n",
      "plt.xlabel('Number of movies (songs)')\n",
      "plt.ylabel('Number of songs (movies)')"
     ],
     "language": "python",
     "metadata": {},
     "outputs": [
      {
       "metadata": {},
       "output_type": "pyout",
       "prompt_number": 360,
       "text": [
        "<matplotlib.text.Text at 0x124302290>"
       ]
      },
      {
       "metadata": {},
       "output_type": "display_data",
       "png": "[encoded data removed]",
       "text": [
        "<matplotlib.figure.Figure at 0x12430f890>"
       ]
      }
     ],
     "prompt_number": 360
    },
    {
     "cell_type": "markdown",
     "metadata": {},
     "source": [
      "Print the top 20 best-connected songs."
     ]
    },
    {
     "cell_type": "code",
     "collapsed": false,
     "input": [
      "sorted(idc.iteritems(),key=operator.itemgetter(1),reverse=True)[:20]"
     ],
     "language": "python",
     "metadata": {},
     "outputs": [
      {
       "metadata": {},
       "output_type": "pyout",
       "prompt_number": 19,
       "text": [
        "[(u'Aliens (1986) - James Horner', 20),\n",
        " (u'\"Redrum\" - Immediate Music', 17),\n",
        " (u'\"Tightwire\" - Immediate Music', 17),\n",
        " (u'Trailerhead: Triumph: \"Ode to Power\" - Immediate Music', 16),\n",
        " (u'Come See The Paradise (1990) - Randy Edelman', 13),\n",
        " (u'\"Naked Prey\" - Immediate Music', 13),\n",
        " (u'Stargate (1994) - David Arnold', 12),\n",
        " (u'Carmina Burana: \"O Fortuna\" - Carl Orff', 11),\n",
        " (u'Backdraft (1991) - Hans Zimmer', 11),\n",
        " (u'Black Rain (1989) - Hans Zimmer', 11),\n",
        " (u\"Bram Stoker's Dracula (1992) - Wojciech Kilar\", 11),\n",
        " (u'Mississippi Burning (1988) - Trevor Jones', 11),\n",
        " (u'The Shawshank Redemption (1994) - Thomas Newman', 10),\n",
        " (u'The Fugitive (1993) - James Newton Howard', 10),\n",
        " (u'Mortal Kombat (1995) - George S. Clinton', 10),\n",
        " (u'The Crow (1994) - Graeme Revell', 10),\n",
        " (u'Waterworld (1995) - James Newton Howard', 9),\n",
        " (u'Dragon: The Bruce Lee Story (1993) - Randy Edelman', 9),\n",
        " (u'Beetlejuice (1988) - Danny Elfman', 9),\n",
        " (u'\"9th Symphony\" - Ludwig van Beethoven', 9)]"
       ]
      }
     ],
     "prompt_number": 19
    },
    {
     "cell_type": "markdown",
     "metadata": {},
     "source": [
      "Print the top 20 movies with the most songs."
     ]
    },
    {
     "cell_type": "code",
     "collapsed": false,
     "input": [
      "sorted(odc.iteritems(),key=operator.itemgetter(1),reverse=True)[:20]"
     ],
     "language": "python",
     "metadata": {},
     "outputs": [
      {
       "metadata": {},
       "output_type": "pyout",
       "prompt_number": 20,
       "text": [
        "[(u'Resident Evil: Extinction (2007)', 27),\n",
        " (u'The Hitcher (2007)', 21),\n",
        " (u\"Trick 'r Treat (2009)\", 21),\n",
        " (u'Elektra (2005)', 18),\n",
        " (u'Hulk (2003)', 18),\n",
        " (u'Cry_Wolf (2005)', 18),\n",
        " (u'Blood Diamond (2006)', 17),\n",
        " (u'Harry Potter and the Order of the Phoenix (2007)', 17),\n",
        " (u\"Pirates of the Caribbean: At World's End (2007)\", 17),\n",
        " (u'Batman Begins (2005)', 15),\n",
        " (u'Beowulf (2007)', 15),\n",
        " (u'Primeval (2007)', 15),\n",
        " (u'The Grudge (2004)', 14),\n",
        " (u'Vacancy (2007)', 14),\n",
        " (u'Fantastic Four (2005)', 14),\n",
        " (u'The Invasion (2007)', 13),\n",
        " (u'Ladder 49 (2004)', 13),\n",
        " (u'Daredevil (2003)', 12),\n",
        " (u'Bangkok Dangerous (2008)', 12),\n",
        " (u'Spider-Man 3 (2007)', 12)]"
       ]
      }
     ],
     "prompt_number": 20
    },
    {
     "cell_type": "heading",
     "level": 1,
     "metadata": {},
     "source": [
      "Project to unipartite and serialize"
     ]
    },
    {
     "cell_type": "code",
     "collapsed": false,
     "input": [
      "movies_g = nx.bipartite.weighted_projected_graph(g.to_undirected(),movies)\n",
      "nx.write_gexf(movies_g,'movies.gexf')\n",
      "movies_g.number_of_edges()\n",
      "\n",
      "movies_g_components = nx.components.connected_component_subgraphs(movies_g)\n",
      "nx.write_gexf(movies_g_components[0],'movies_lcc.gexf')"
     ],
     "language": "python",
     "metadata": {},
     "outputs": [],
     "prompt_number": 21
    },
    {
     "cell_type": "code",
     "collapsed": false,
     "input": [
      "songs_g = nx.bipartite.weighted_projected_graph(g.to_undirected(),songs)\n",
      "nx.write_gexf(songs_g,'songs.gexf')\n",
      "songs_g.number_of_edges()\n",
      "\n",
      "songs_g_components = nx.components.connected_component_subgraphs(songs_g)\n",
      "nx.write_gexf(songs_g_components[0],'songs_lcc.gexf')"
     ],
     "language": "python",
     "metadata": {},
     "outputs": [],
     "prompt_number": 22
    },
    {
     "cell_type": "heading",
     "level": 1,
     "metadata": {},
     "source": [
      "Changes over time"
     ]
    },
    {
     "cell_type": "markdown",
     "metadata": {},
     "source": [
      "Define a quick function to make our lives easier. If a list has no elements in it when we call for a position, this will return a `nan` instead of an `IndexError`."
     ]
    },
    {
     "cell_type": "code",
     "collapsed": false,
     "input": [
      "def _get_list(l,index,default):\n",
      "    try:\n",
      "        return l[index]\n",
      "    except IndexError:\n",
      "        return default"
     ],
     "language": "python",
     "metadata": {},
     "outputs": [],
     "prompt_number": 35
    },
    {
     "cell_type": "markdown",
     "metadata": {},
     "source": [
      "Create a list of dictionaries that contain the name of the movie (song), the number of songs (movies) it's connected to, and the year the movie (song) was released (based on the information in title).\n",
      "\n",
      "Then convert this list of dictionaries into a `DataFrame` and coerce the years from strings to floats."
     ]
    },
    {
     "cell_type": "code",
     "collapsed": false,
     "input": [
      "movies_by_year = [{'name':movie,'connections':d,'year':_get_list(re.findall(r'[0-9]{4}',movie),0,np.nan)} for movie,d in odc.iteritems()]\n",
      "songs_by_release = [{'name':movie,'connections':d,'year':_get_list(re.findall(r'[0-9]{4}',movie),0,np.nan)} for movie,d in idc.iteritems()]\n",
      "\n",
      "df_movies = pd.DataFrame(movies_by_year)\n",
      "df_movies['year'] = df_movies['year'].apply(np.float)\n",
      "\n",
      "df_songs = pd.DataFrame(songs_by_release)\n",
      "df_songs['year'] = df_songs['year'].apply(np.float)"
     ],
     "language": "python",
     "metadata": {},
     "outputs": [],
     "prompt_number": 112
    },
    {
     "cell_type": "markdown",
     "metadata": {},
     "source": [
      "Plot the average number of connections a movie (song) had in each year."
     ]
    },
    {
     "cell_type": "code",
     "collapsed": false,
     "input": [
      "df_over_time = pd.DataFrame(index=range(1980,2015))\n",
      "df_over_time['Number of songs in trailers'] = df_movies.groupby('year').agg({'connections': lambda x: np.e**np.mean(np.log(x+1))}).ix[1980:2015]\n",
      "df_over_time['Songs referenced from this year'] = df_songs.groupby('year').agg({'connections':lambda x: np.e**np.mean(np.log(x+1))}).ix[1980:2015]\n",
      "\n",
      "df_over_time.plot(lw=4)\n",
      "plt.legend(loc='upper left')\n",
      "plt.ylim((0,4))\n",
      "plt.ylabel('Count')\n",
      "plt.xlabel('Year')\n",
      "plt.tight_layout()"
     ],
     "language": "python",
     "metadata": {},
     "outputs": [
      {
       "metadata": {},
       "output_type": "display_data",
       "png": "[encoded data removed]",
       "text": [
        "<matplotlib.figure.Figure at 0x1144c1790>"
       ]
      }
     ],
     "prompt_number": 117
    },
    {
     "cell_type": "markdown",
     "metadata": {},
     "source": [
      "Changes in network structure over time."
     ]
    },
    {
     "cell_type": "code",
     "collapsed": false,
     "input": [
      "edgelist_df = pd.DataFrame([{'movie':movie,'song':song,'year':_get_list(re.findall(r'[0-9]{4}',movie),0,np.nan)} for movie,songs in edgelist_dict.iteritems() for song in songs])\n",
      "edgelist_gb = edgelist_df.groupby('year')"
     ],
     "language": "python",
     "metadata": {},
     "outputs": [],
     "prompt_number": 131
    },
    {
     "cell_type": "code",
     "collapsed": false,
     "input": [
      "graph_list = list()\n",
      "for year in range(1980,2015):\n",
      "    g_year = nx.DiGraph()\n",
      "    year_movies = list(set(edgelist_gb.get_group(str(year))['movie']))\n",
      "    year_songs = list(set(edgelist_gb.get_group(str(year))['song']))\n",
      "    g_year.add_edges_from([(movie,song) for (i,movie,song) in list(edgelist_gb.get_group(str(year))[['movie','song']].itertuples())])\n",
      "    g_year.add_nodes_from(zip(year_movies,[{'type':'movie'}]*len(year_movies)))\n",
      "    g_year.add_nodes_from(zip(year_songs,[{'type':'song'}]*len(year_songs)))\n",
      "    graph_list.append(g_year)"
     ],
     "language": "python",
     "metadata": {},
     "outputs": [],
     "prompt_number": 156
    },
    {
     "cell_type": "code",
     "collapsed": false,
     "input": [
      "yearly_df = pd.DataFrame(index=range(1980,2015))\n",
      "yearly_df['Movies'] = [len([n for n,data in i.nodes(data=True) if data['type'] == 'movie']) for i in graph_list]\n",
      "yearly_df['Songs'] = [len([n for n,data in i.nodes(data=True) if data['type'] == 'song']) for i in graph_list]\n",
      "yearly_df['Density'] = [nx.bipartite.density(i,[n for n,data in i.nodes(data=True) if data['type'] == 'song']) for i in graph_list]\n",
      "yearly_df['Song Clustering'] = [nx.bipartite.average_clustering(i.to_undirected(),[n for n,data in i.nodes(data=True) if data['type'] == 'song']) for i in graph_list]\n",
      "yearly_df['Movie Clustering'] = [nx.bipartite.average_clustering(i.to_undirected(),[n for n,data in i.nodes(data=True) if data['type'] == 'movie']) for i in graph_list]\n",
      "yearly_df['LCC Frac'] = [len(nx.components.connected_component_subgraphs(i.to_undirected())[0])/float(len(i)) for i in graph_list]"
     ],
     "language": "python",
     "metadata": {},
     "outputs": [],
     "prompt_number": 170
    },
    {
     "cell_type": "markdown",
     "metadata": {},
     "source": [
      "Plot count of movie trailers and songs by year. The peak in 2004 and subsequent fall-off suggests there may be biases in the scope and coverage of the data."
     ]
    },
    {
     "cell_type": "code",
     "collapsed": false,
     "input": [
      "yearly_df[['Songs','Movies']].plot(lw=4)\n",
      "plt.legend(loc='upper left')\n",
      "plt.ylabel('Count')\n",
      "plt.xlabel('Year')"
     ],
     "language": "python",
     "metadata": {},
     "outputs": [
      {
       "metadata": {},
       "output_type": "pyout",
       "prompt_number": 173,
       "text": [
        "<matplotlib.text.Text at 0x1185cc750>"
       ]
      },
      {
       "metadata": {},
       "output_type": "display_data",
       "png": "[encoded data removed]",
       "text": [
        "<matplotlib.figure.Figure at 0x11678a1d0>"
       ]
      }
     ],
     "prompt_number": 173
    },
    {
     "cell_type": "markdown",
     "metadata": {},
     "source": [
      "Plot clustering over time. Song clustering suggests that songs increasingly share movies in common. Movie clustering suggests that movies decresingly shares songs in common."
     ]
    },
    {
     "cell_type": "code",
     "collapsed": false,
     "input": [
      "yearly_df[['Song Clustering','Movie Clustering']].plot(lw=4)\n",
      "plt.ylabel('Clustering coefficient')\n",
      "plt.xlabel('Year')"
     ],
     "language": "python",
     "metadata": {},
     "outputs": [
      {
       "metadata": {},
       "output_type": "pyout",
       "prompt_number": 172,
       "text": [
        "<matplotlib.text.Text at 0x1186fd850>"
       ]
      },
      {
       "metadata": {},
       "output_type": "display_data",
       "png": "[encoded data removed]",
       "text": [
        "<matplotlib.figure.Figure at 0x1187c5390>"
       ]
      }
     ],
     "prompt_number": 172
    },
    {
     "cell_type": "heading",
     "level": 1,
     "metadata": {},
     "source": [
      "Crawl OMDB"
     ]
    },
    {
     "cell_type": "code",
     "collapsed": false,
     "input": [
      "with open('imdb_data.json','rb') as f:\n",
      "    imdb_data = json.load(f)"
     ],
     "language": "python",
     "metadata": {},
     "outputs": [],
     "prompt_number": 220
    },
    {
     "cell_type": "code",
     "collapsed": false,
     "input": [
      "imdb_data_movies = [i.get('Title') for i in imdb_data]\n",
      "missing_imdb_movies = [i for i in [i[:-7] for i in movies] if i not in imdb_data_movies]"
     ],
     "language": "python",
     "metadata": {},
     "outputs": [
      {
       "metadata": {},
       "output_type": "pyout",
       "prompt_number": 189,
       "text": [
        "1241"
       ]
      }
     ],
     "prompt_number": 189
    },
    {
     "cell_type": "code",
     "collapsed": false,
     "input": [
      "imdb_trailer_data = dict()\n",
      "exceptions = list()\n",
      "for num,movie in enumerate(missing_imdb_movies):\n",
      "    try:\n",
      "        if num in range(0,len(missing_imdb_movies),int(round(len(missing_imdb_movies)/10,0))):\n",
      "            print movie\n",
      "        imdb_trailer_data[movie] = json.loads(urllib2.urlopen('http://www.omdbapi.com/?t={0}'.format(movie.replace(' ','+'))).read())\n",
      "    except:\n",
      "        exceptions.append(movie)\n",
      "        pass\n",
      "\n",
      "with open('imdb_trailer_data.json', 'wb') as f:\n",
      "  json.dump(imdb_trailer_data.values(), f)"
     ],
     "language": "python",
     "metadata": {},
     "outputs": [
      {
       "output_type": "stream",
       "stream": "stdout",
       "text": [
        "The Weatherman\n",
        "One Hour Photo"
       ]
      },
      {
       "output_type": "stream",
       "stream": "stdout",
       "text": [
        "\n",
        "The Canyons"
       ]
      },
      {
       "output_type": "stream",
       "stream": "stdout",
       "text": [
        "\n",
        "The Oh in Ohio"
       ]
      },
      {
       "output_type": "stream",
       "stream": "stdout",
       "text": [
        "\n",
        "The Last King of Scotland"
       ]
      },
      {
       "output_type": "stream",
       "stream": "stdout",
       "text": [
        "\n",
        "The Brothers Grimm"
       ]
      },
      {
       "output_type": "stream",
       "stream": "stdout",
       "text": [
        "\n",
        "Seven Years In Tibet"
       ]
      },
      {
       "output_type": "stream",
       "stream": "stdout",
       "text": [
        "\n",
        "A Time To Kill"
       ]
      },
      {
       "output_type": "stream",
       "stream": "stdout",
       "text": [
        "\n",
        "Star Wars: The Clone Wars"
       ]
      },
      {
       "output_type": "stream",
       "stream": "stdout",
       "text": [
        "\n",
        "The Krays"
       ]
      },
      {
       "output_type": "stream",
       "stream": "stdout",
       "text": [
        "\n",
        "The Last Kiss"
       ]
      },
      {
       "output_type": "stream",
       "stream": "stdout",
       "text": [
        "\n"
       ]
      }
     ],
     "prompt_number": 190
    },
    {
     "cell_type": "code",
     "collapsed": false,
     "input": [
      "for i in imdb_trailer_data.values():\n",
      "    imdb_data.append(i)\n",
      "\n",
      "with open('imdb_data2.json', 'wb') as f:\n",
      "  json.dump(imdb_data, f)"
     ],
     "language": "python",
     "metadata": {},
     "outputs": [],
     "prompt_number": 221
    },
    {
     "cell_type": "heading",
     "level": 1,
     "metadata": {},
     "source": [
      "Join data"
     ]
    },
    {
     "cell_type": "code",
     "collapsed": false,
     "input": [
      "def _to_float(v,default):\n",
      "    try:\n",
      "        return float(v)\n",
      "    except ValueError:\n",
      "        return default"
     ],
     "language": "python",
     "metadata": {},
     "outputs": [],
     "prompt_number": 286
    },
    {
     "cell_type": "code",
     "collapsed": false,
     "input": [
      "imdb_df = pd.DataFrame([i for i in imdb_data if len(i) > 4])\n",
      "\n",
      "df = imdb_df[imdb_df['Title'].isin([i[:-7] for i in movies])]\n",
      "df = df.set_index('Title')\n",
      "df['Runtime'] = df['Runtime'].apply(lambda x:_to_float(x[:-4],np.nan))\n",
      "df['imdbVotes'] = df['imdbVotes'].apply(lambda x:_to_float(x.replace(',',''),np.nan))\n",
      "df = df.replace({'N/A':np.nan})\n",
      "df['Year'] = pd.to_datetime(df['Released'],format='%d %b %Y',unit='D').apply(lambda x: x.year)"
     ],
     "language": "python",
     "metadata": {},
     "outputs": [],
     "prompt_number": 363
    },
    {
     "cell_type": "code",
     "collapsed": false,
     "input": [
      "s = pd.Series({name[:-7]:c for name,c in odc.iteritems() if c > 0},name='Trailer songs')\n",
      "df = df.join(s,how='left')\n",
      "#df = df.replace({'N/A':np.nan})\n",
      "df = df.dropna(axis=0)\n",
      "df = df.reset_index()"
     ],
     "language": "python",
     "metadata": {},
     "outputs": [],
     "prompt_number": 364
    },
    {
     "cell_type": "code",
     "collapsed": false,
     "input": [
      "revenue_df = pd.read_csv('revenue.csv',encoding='utf8',index_col=0,parse_dates=['Released'])"
     ],
     "language": "python",
     "metadata": {},
     "outputs": [],
     "prompt_number": 365
    },
    {
     "cell_type": "code",
     "collapsed": false,
     "input": [
      "df2 = pd.merge(df,revenue_df,left_on=['index','Year'],right_on=['Movie','Year'])\n",
      "df2.head()"
     ],
     "language": "python",
     "metadata": {},
     "outputs": [
      {
       "html": [
        "<div style=\"max-height:1000px;max-width:1500px;overflow:auto;\">\n",
        "<table border=\"1\" class=\"dataframe\">\n",
        "  <thead>\n",
        "    <tr style=\"text-align: right;\">\n",
        "      <th></th>\n",
        "      <th>index</th>\n",
        "      <th>Actors</th>\n",
        "      <th>Awards</th>\n",
        "      <th>Country</th>\n",
        "      <th>Director</th>\n",
        "      <th>Genre_x</th>\n",
        "      <th>Language</th>\n",
        "      <th>Metascore</th>\n",
        "      <th>Plot</th>\n",
        "      <th>Poster</th>\n",
        "      <th>...</th>\n",
        "      <th>imdbID</th>\n",
        "      <th>imdbRating</th>\n",
        "      <th>imdbVotes</th>\n",
        "      <th>Trailer songs</th>\n",
        "      <th>Released_y</th>\n",
        "      <th>Movie</th>\n",
        "      <th>Genre_y</th>\n",
        "      <th>Budget</th>\n",
        "      <th>Revenue</th>\n",
        "      <th>Trailer</th>\n",
        "    </tr>\n",
        "  </thead>\n",
        "  <tbody>\n",
        "    <tr>\n",
        "      <th>0</th>\n",
        "      <td>   101 Dalmatians</td>\n",
        "      <td> Glenn Close, Jeff Daniels, Joely Richardson, J...</td>\n",
        "      <td> Nominated for 1 Golden Globe. Another 3 wins &amp;...</td>\n",
        "      <td>          USA</td>\n",
        "      <td>   Stephen Herek</td>\n",
        "      <td> Family, Comedy, Adventure</td>\n",
        "      <td>                                  English, Spanish</td>\n",
        "      <td> 49</td>\n",
        "      <td> A woman kidnaps puppies to kill them for their...</td>\n",
        "      <td> http://ia.media-imdb.com/images/M/MV5BMTkxNjQw...</td>\n",
        "      <td>...</td>\n",
        "      <td> tt0115433</td>\n",
        "      <td> 5.6</td>\n",
        "      <td>  55501</td>\n",
        "      <td> 1</td>\n",
        "      <td>1996-11-27</td>\n",
        "      <td>   101 Dalmatians</td>\n",
        "      <td>            Comedy</td>\n",
        "      <td>       NaN</td>\n",
        "      <td> 136189294</td>\n",
        "      <td>  NaN</td>\n",
        "    </tr>\n",
        "    <tr>\n",
        "      <th>1</th>\n",
        "      <td>       15 Minutes</td>\n",
        "      <td> Robert De Niro, Edward Burns, Kelsey Grammer, ...</td>\n",
        "      <td>                                     1 nomination.</td>\n",
        "      <td> USA, Germany</td>\n",
        "      <td>   John Herzfeld</td>\n",
        "      <td>      Action, Crime, Drama</td>\n",
        "      <td>         English, Czech, Russian, Greek, Afrikaans</td>\n",
        "      <td> 34</td>\n",
        "      <td> A homicide detective and a fire marshall must ...</td>\n",
        "      <td> http://ia.media-imdb.com/images/M/MV5BMTI3MzQ1...</td>\n",
        "      <td>...</td>\n",
        "      <td> tt0179626</td>\n",
        "      <td> 6.1</td>\n",
        "      <td>  38003</td>\n",
        "      <td> 2</td>\n",
        "      <td>2001-03-09</td>\n",
        "      <td>       15 Minutes</td>\n",
        "      <td> Thriller/Suspense</td>\n",
        "      <td>  42000000</td>\n",
        "      <td>  24375436</td>\n",
        "      <td>  NaN</td>\n",
        "    </tr>\n",
        "    <tr>\n",
        "      <th>2</th>\n",
        "      <td>        16 Blocks</td>\n",
        "      <td>   Bruce Willis, Mos Def, David Morse, Jenna Stern</td>\n",
        "      <td>                                     1 nomination.</td>\n",
        "      <td> Germany, USA</td>\n",
        "      <td>  Richard Donner</td>\n",
        "      <td>      Action, Crime, Drama</td>\n",
        "      <td>                                           English</td>\n",
        "      <td> 63</td>\n",
        "      <td> An aging cop is assigned the ordinary task of ...</td>\n",
        "      <td> http://ia.media-imdb.com/images/M/MV5BMTQ1NDEw...</td>\n",
        "      <td>...</td>\n",
        "      <td> tt0450232</td>\n",
        "      <td> 6.6</td>\n",
        "      <td>  99481</td>\n",
        "      <td> 1</td>\n",
        "      <td>2006-03-03</td>\n",
        "      <td>        16 Blocks</td>\n",
        "      <td>            Action</td>\n",
        "      <td>  45000000</td>\n",
        "      <td>  36895141</td>\n",
        "      <td>  NaN</td>\n",
        "    </tr>\n",
        "    <tr>\n",
        "      <th>3</th>\n",
        "      <td> 2 Fast 2 Furious</td>\n",
        "      <td> Paul Walker, Tyrese Gibson, Eva Mendes, Cole H...</td>\n",
        "      <td>                          3 wins &amp; 13 nominations.</td>\n",
        "      <td> USA, Germany</td>\n",
        "      <td>  John Singleton</td>\n",
        "      <td>   Action, Crime, Thriller</td>\n",
        "      <td>                                  English, Spanish</td>\n",
        "      <td> 38</td>\n",
        "      <td> Brian O'Conner and childhood friend Roman Pear...</td>\n",
        "      <td> http://ia.media-imdb.com/images/M/MV5BMTIyMDUw...</td>\n",
        "      <td>...</td>\n",
        "      <td> tt0322259</td>\n",
        "      <td> 5.6</td>\n",
        "      <td> 124488</td>\n",
        "      <td> 3</td>\n",
        "      <td>2003-06-06</td>\n",
        "      <td> 2 Fast 2 Furious</td>\n",
        "      <td>            Action</td>\n",
        "      <td>  76000000</td>\n",
        "      <td> 127120058</td>\n",
        "      <td>  NaN</td>\n",
        "    </tr>\n",
        "    <tr>\n",
        "      <th>4</th>\n",
        "      <td>             2012</td>\n",
        "      <td> John Cusack, Amanda Peet, Chiwetel Ejiofor, Th...</td>\n",
        "      <td>                          4 wins &amp; 16 nominations.</td>\n",
        "      <td>          USA</td>\n",
        "      <td> Roland Emmerich</td>\n",
        "      <td> Action, Adventure, Sci-Fi</td>\n",
        "      <td> English, French, Tibetan, Mandarin, Russian, H...</td>\n",
        "      <td> 49</td>\n",
        "      <td> A frustrated writer struggles to keep his fami...</td>\n",
        "      <td> http://ia.media-imdb.com/images/M/MV5BMTY0MjEy...</td>\n",
        "      <td>...</td>\n",
        "      <td> tt1190080</td>\n",
        "      <td> 5.8</td>\n",
        "      <td> 211022</td>\n",
        "      <td> 3</td>\n",
        "      <td>2009-11-13</td>\n",
        "      <td>             2012</td>\n",
        "      <td>            Action</td>\n",
        "      <td> 200000000</td>\n",
        "      <td> 166112167</td>\n",
        "      <td> Play</td>\n",
        "    </tr>\n",
        "  </tbody>\n",
        "</table>\n",
        "<p>5 rows \u00d7 27 columns</p>\n",
        "</div>"
       ],
       "metadata": {},
       "output_type": "pyout",
       "prompt_number": 366,
       "text": [
        "              index                                             Actors  \\\n",
        "0    101 Dalmatians  Glenn Close, Jeff Daniels, Joely Richardson, J...   \n",
        "1        15 Minutes  Robert De Niro, Edward Burns, Kelsey Grammer, ...   \n",
        "2         16 Blocks    Bruce Willis, Mos Def, David Morse, Jenna Stern   \n",
        "3  2 Fast 2 Furious  Paul Walker, Tyrese Gibson, Eva Mendes, Cole H...   \n",
        "4              2012  John Cusack, Amanda Peet, Chiwetel Ejiofor, Th...   \n",
        "\n",
        "                                              Awards       Country  \\\n",
        "0  Nominated for 1 Golden Globe. Another 3 wins &...           USA   \n",
        "1                                      1 nomination.  USA, Germany   \n",
        "2                                      1 nomination.  Germany, USA   \n",
        "3                           3 wins & 13 nominations.  USA, Germany   \n",
        "4                           4 wins & 16 nominations.           USA   \n",
        "\n",
        "          Director                    Genre_x  \\\n",
        "0    Stephen Herek  Family, Comedy, Adventure   \n",
        "1    John Herzfeld       Action, Crime, Drama   \n",
        "2   Richard Donner       Action, Crime, Drama   \n",
        "3   John Singleton    Action, Crime, Thriller   \n",
        "4  Roland Emmerich  Action, Adventure, Sci-Fi   \n",
        "\n",
        "                                            Language Metascore  \\\n",
        "0                                   English, Spanish        49   \n",
        "1          English, Czech, Russian, Greek, Afrikaans        34   \n",
        "2                                            English        63   \n",
        "3                                   English, Spanish        38   \n",
        "4  English, French, Tibetan, Mandarin, Russian, H...        49   \n",
        "\n",
        "                                                Plot  \\\n",
        "0  A woman kidnaps puppies to kill them for their...   \n",
        "1  A homicide detective and a fire marshall must ...   \n",
        "2  An aging cop is assigned the ordinary task of ...   \n",
        "3  Brian O'Conner and childhood friend Roman Pear...   \n",
        "4  A frustrated writer struggles to keep his fami...   \n",
        "\n",
        "                                              Poster  \\\n",
        "0  http://ia.media-imdb.com/images/M/MV5BMTkxNjQw...   \n",
        "1  http://ia.media-imdb.com/images/M/MV5BMTI3MzQ1...   \n",
        "2  http://ia.media-imdb.com/images/M/MV5BMTQ1NDEw...   \n",
        "3  http://ia.media-imdb.com/images/M/MV5BMTIyMDUw...   \n",
        "4  http://ia.media-imdb.com/images/M/MV5BMTY0MjEy...   \n",
        "\n",
        "                         ...                             imdbID imdbRating  \\\n",
        "0                        ...                          tt0115433        5.6   \n",
        "1                        ...                          tt0179626        6.1   \n",
        "2                        ...                          tt0450232        6.6   \n",
        "3                        ...                          tt0322259        5.6   \n",
        "4                        ...                          tt1190080        5.8   \n",
        "\n",
        "  imdbVotes  Trailer songs Released_y             Movie            Genre_y  \\\n",
        "0     55501              1 1996-11-27    101 Dalmatians             Comedy   \n",
        "1     38003              2 2001-03-09        15 Minutes  Thriller/Suspense   \n",
        "2     99481              1 2006-03-03         16 Blocks             Action   \n",
        "3    124488              3 2003-06-06  2 Fast 2 Furious             Action   \n",
        "4    211022              3 2009-11-13              2012             Action   \n",
        "\n",
        "      Budget    Revenue  Trailer  \n",
        "0        NaN  136189294      NaN  \n",
        "1   42000000   24375436      NaN  \n",
        "2   45000000   36895141      NaN  \n",
        "3   76000000  127120058      NaN  \n",
        "4  200000000  166112167     Play  \n",
        "\n",
        "[5 rows x 27 columns]"
       ]
      }
     ],
     "prompt_number": 366
    },
    {
     "cell_type": "code",
     "collapsed": false,
     "input": [
      "df2.to_csv('joined_data.csv',encoding='utf8')"
     ],
     "language": "python",
     "metadata": {},
     "outputs": [],
     "prompt_number": 367
    },
    {
     "cell_type": "heading",
     "level": 1,
     "metadata": {},
     "source": [
      "Movie trailer relationships"
     ]
    },
    {
     "cell_type": "code",
     "collapsed": false,
     "input": [
      "sns.factorplot('Genre_y','Trailer songs',data=df2,kind='auto')\n",
      "plt.xticks(rotation=60)\n",
      "plt.xlabel('')\n",
      "#plt.ylim((0,10))"
     ],
     "language": "python",
     "metadata": {},
     "outputs": [
      {
       "metadata": {},
       "output_type": "pyout",
       "prompt_number": 353,
       "text": [
        "<matplotlib.text.Text at 0x124425cd0>"
       ]
      },
      {
       "metadata": {},
       "output_type": "display_data",
       "png": "[encoded data removed]",
       "text": [
        "<matplotlib.figure.Figure at 0x1225de390>"
       ]
      }
     ],
     "prompt_number": 353
    },
    {
     "cell_type": "code",
     "collapsed": false,
     "input": [
      "plt.scatter(df2['Trailer songs'].values,df2['Revenue'].values,alpha=.1)\n",
      "plt.yscale('symlog')\n",
      "plt.ylim((0,1e10))"
     ],
     "language": "python",
     "metadata": {},
     "outputs": [
      {
       "metadata": {},
       "output_type": "pyout",
       "prompt_number": 358,
       "text": [
        "(0, 10000000000.0)"
       ]
      },
      {
       "metadata": {},
       "output_type": "display_data",
       "png": "[encoded data removed]",
       "text": [
        "<matplotlib.figure.Figure at 0x12030a050>"
       ]
      }
     ],
     "prompt_number": 358
    },
    {
     "cell_type": "code",
     "collapsed": false,
     "input": [
      "df2.groupby('Director').agg({'index':len,\n",
      "                             'Trailer songs':np.mean})"
     ],
     "language": "python",
     "metadata": {},
     "outputs": [
      {
       "html": [
        "<div style=\"max-height:1000px;max-width:1500px;overflow:auto;\">\n",
        "<table border=\"1\" class=\"dataframe\">\n",
        "  <thead>\n",
        "    <tr style=\"text-align: right;\">\n",
        "      <th></th>\n",
        "      <th>index</th>\n",
        "      <th>Trailer songs</th>\n",
        "    </tr>\n",
        "    <tr>\n",
        "      <th>Director</th>\n",
        "      <th></th>\n",
        "      <th></th>\n",
        "    </tr>\n",
        "  </thead>\n",
        "  <tbody>\n",
        "    <tr>\n",
        "      <th>Aaron Blaise, Robert Walker</th>\n",
        "      <td> 1</td>\n",
        "      <td> 1.000000</td>\n",
        "    </tr>\n",
        "    <tr>\n",
        "      <th>Aaron Seltzer, Jason Friedberg</th>\n",
        "      <td> 1</td>\n",
        "      <td> 4.000000</td>\n",
        "    </tr>\n",
        "    <tr>\n",
        "      <th>Adam Green</th>\n",
        "      <td> 1</td>\n",
        "      <td> 1.000000</td>\n",
        "    </tr>\n",
        "    <tr>\n",
        "      <th>Adam McKay</th>\n",
        "      <td> 1</td>\n",
        "      <td> 5.000000</td>\n",
        "    </tr>\n",
        "    <tr>\n",
        "      <th>Adam Shankman</th>\n",
        "      <td> 5</td>\n",
        "      <td> 3.600000</td>\n",
        "    </tr>\n",
        "    <tr>\n",
        "      <th>Adrian Lyne</th>\n",
        "      <td> 2</td>\n",
        "      <td> 1.500000</td>\n",
        "    </tr>\n",
        "    <tr>\n",
        "      <th>Alan J. Pakula</th>\n",
        "      <td> 1</td>\n",
        "      <td> 2.000000</td>\n",
        "    </tr>\n",
        "    <tr>\n",
        "      <th>Alan Parker</th>\n",
        "      <td> 1</td>\n",
        "      <td> 1.000000</td>\n",
        "    </tr>\n",
        "    <tr>\n",
        "      <th>Alan Taylor</th>\n",
        "      <td> 1</td>\n",
        "      <td> 1.000000</td>\n",
        "    </tr>\n",
        "    <tr>\n",
        "      <th>Albert Hughes, Allen Hughes</th>\n",
        "      <td> 2</td>\n",
        "      <td> 3.500000</td>\n",
        "    </tr>\n",
        "    <tr>\n",
        "      <th>Alejandro Agresti</th>\n",
        "      <td> 1</td>\n",
        "      <td> 3.000000</td>\n",
        "    </tr>\n",
        "    <tr>\n",
        "      <th>Alejandro Gonz\u00e1lez I\u00f1\u00e1rritu</th>\n",
        "      <td> 2</td>\n",
        "      <td> 2.500000</td>\n",
        "    </tr>\n",
        "    <tr>\n",
        "      <th>Alex Proyas</th>\n",
        "      <td> 3</td>\n",
        "      <td> 5.000000</td>\n",
        "    </tr>\n",
        "    <tr>\n",
        "      <th>Alexander Witt</th>\n",
        "      <td> 1</td>\n",
        "      <td> 1.000000</td>\n",
        "    </tr>\n",
        "    <tr>\n",
        "      <th>Alexandre Aja</th>\n",
        "      <td> 2</td>\n",
        "      <td> 1.500000</td>\n",
        "    </tr>\n",
        "    <tr>\n",
        "      <th>Alfonso Cuar\u00f3n</th>\n",
        "      <td> 2</td>\n",
        "      <td> 3.000000</td>\n",
        "    </tr>\n",
        "    <tr>\n",
        "      <th>Allen Coulter</th>\n",
        "      <td> 1</td>\n",
        "      <td> 1.000000</td>\n",
        "    </tr>\n",
        "    <tr>\n",
        "      <th>Amy Heckerling</th>\n",
        "      <td> 1</td>\n",
        "      <td> 4.000000</td>\n",
        "    </tr>\n",
        "    <tr>\n",
        "      <th>Anand Tucker</th>\n",
        "      <td> 1</td>\n",
        "      <td> 3.000000</td>\n",
        "    </tr>\n",
        "    <tr>\n",
        "      <th>Andrew Adamson</th>\n",
        "      <td> 1</td>\n",
        "      <td> 4.000000</td>\n",
        "    </tr>\n",
        "    <tr>\n",
        "      <th>Andrew Adamson, Kelly Asbury, Conrad Vernon</th>\n",
        "      <td> 1</td>\n",
        "      <td> 1.000000</td>\n",
        "    </tr>\n",
        "    <tr>\n",
        "      <th>Andrew Adamson, Vicky Jenson</th>\n",
        "      <td> 1</td>\n",
        "      <td> 4.000000</td>\n",
        "    </tr>\n",
        "    <tr>\n",
        "      <th>Andrew Davis</th>\n",
        "      <td> 3</td>\n",
        "      <td> 1.666667</td>\n",
        "    </tr>\n",
        "    <tr>\n",
        "      <th>Andrew Dominik</th>\n",
        "      <td> 1</td>\n",
        "      <td> 4.000000</td>\n",
        "    </tr>\n",
        "    <tr>\n",
        "      <th>Andrew Douglas</th>\n",
        "      <td> 1</td>\n",
        "      <td> 7.000000</td>\n",
        "    </tr>\n",
        "    <tr>\n",
        "      <th>Andrew Fleming</th>\n",
        "      <td> 1</td>\n",
        "      <td> 2.000000</td>\n",
        "    </tr>\n",
        "    <tr>\n",
        "      <th>Andrew Niccol</th>\n",
        "      <td> 2</td>\n",
        "      <td> 2.000000</td>\n",
        "    </tr>\n",
        "    <tr>\n",
        "      <th>Andrew Stanton</th>\n",
        "      <td> 1</td>\n",
        "      <td> 1.000000</td>\n",
        "    </tr>\n",
        "    <tr>\n",
        "      <th>Andrew Stanton, Lee Unkrich</th>\n",
        "      <td> 1</td>\n",
        "      <td> 2.000000</td>\n",
        "    </tr>\n",
        "    <tr>\n",
        "      <th>Andrzej Bartkowiak</th>\n",
        "      <td> 4</td>\n",
        "      <td> 2.000000</td>\n",
        "    </tr>\n",
        "    <tr>\n",
        "      <th>...</th>\n",
        "      <td>...</td>\n",
        "      <td>...</td>\n",
        "    </tr>\n",
        "    <tr>\n",
        "      <th>Tom Tykwer</th>\n",
        "      <td> 2</td>\n",
        "      <td> 1.000000</td>\n",
        "    </tr>\n",
        "    <tr>\n",
        "      <th>Tony Bancroft, Barry Cook</th>\n",
        "      <td> 1</td>\n",
        "      <td> 3.000000</td>\n",
        "    </tr>\n",
        "    <tr>\n",
        "      <th>Tony Bill</th>\n",
        "      <td> 1</td>\n",
        "      <td> 2.000000</td>\n",
        "    </tr>\n",
        "    <tr>\n",
        "      <th>Tony Goldwyn</th>\n",
        "      <td> 1</td>\n",
        "      <td> 2.000000</td>\n",
        "    </tr>\n",
        "    <tr>\n",
        "      <th>Tony Kaye</th>\n",
        "      <td> 1</td>\n",
        "      <td> 1.000000</td>\n",
        "    </tr>\n",
        "    <tr>\n",
        "      <th>Tony Scott</th>\n",
        "      <td> 8</td>\n",
        "      <td> 2.250000</td>\n",
        "    </tr>\n",
        "    <tr>\n",
        "      <th>Trey Parker</th>\n",
        "      <td> 1</td>\n",
        "      <td> 2.000000</td>\n",
        "    </tr>\n",
        "    <tr>\n",
        "      <th>Uli Edel</th>\n",
        "      <td> 1</td>\n",
        "      <td> 1.000000</td>\n",
        "    </tr>\n",
        "    <tr>\n",
        "      <th>Ulu Grosbard</th>\n",
        "      <td> 1</td>\n",
        "      <td> 2.000000</td>\n",
        "    </tr>\n",
        "    <tr>\n",
        "      <th>Uwe Boll</th>\n",
        "      <td> 1</td>\n",
        "      <td> 4.000000</td>\n",
        "    </tr>\n",
        "    <tr>\n",
        "      <th>Vadim Perelman</th>\n",
        "      <td> 1</td>\n",
        "      <td> 4.000000</td>\n",
        "    </tr>\n",
        "    <tr>\n",
        "      <th>Victor Salva</th>\n",
        "      <td> 2</td>\n",
        "      <td> 1.500000</td>\n",
        "    </tr>\n",
        "    <tr>\n",
        "      <th>Wallace Wolodarsky</th>\n",
        "      <td> 1</td>\n",
        "      <td> 3.000000</td>\n",
        "    </tr>\n",
        "    <tr>\n",
        "      <th>Walt Becker</th>\n",
        "      <td> 1</td>\n",
        "      <td> 6.000000</td>\n",
        "    </tr>\n",
        "    <tr>\n",
        "      <th>Walter Salles</th>\n",
        "      <td> 1</td>\n",
        "      <td> 9.000000</td>\n",
        "    </tr>\n",
        "    <tr>\n",
        "      <th>Warren Beatty</th>\n",
        "      <td> 1</td>\n",
        "      <td> 1.000000</td>\n",
        "    </tr>\n",
        "    <tr>\n",
        "      <th>Wayne Kramer</th>\n",
        "      <td> 1</td>\n",
        "      <td> 3.000000</td>\n",
        "    </tr>\n",
        "    <tr>\n",
        "      <th>Wayne Wang</th>\n",
        "      <td> 3</td>\n",
        "      <td> 1.333333</td>\n",
        "    </tr>\n",
        "    <tr>\n",
        "      <th>Werner Herzog</th>\n",
        "      <td> 2</td>\n",
        "      <td> 3.500000</td>\n",
        "    </tr>\n",
        "    <tr>\n",
        "      <th>Wes Anderson</th>\n",
        "      <td> 2</td>\n",
        "      <td> 4.000000</td>\n",
        "    </tr>\n",
        "    <tr>\n",
        "      <th>Wes Craven</th>\n",
        "      <td> 6</td>\n",
        "      <td> 2.333333</td>\n",
        "    </tr>\n",
        "    <tr>\n",
        "      <th>William Friedkin</th>\n",
        "      <td> 3</td>\n",
        "      <td> 2.333333</td>\n",
        "    </tr>\n",
        "    <tr>\n",
        "      <th>William Shatner</th>\n",
        "      <td> 1</td>\n",
        "      <td> 1.000000</td>\n",
        "    </tr>\n",
        "    <tr>\n",
        "      <th>Wolfgang Petersen</th>\n",
        "      <td> 4</td>\n",
        "      <td> 3.500000</td>\n",
        "    </tr>\n",
        "    <tr>\n",
        "      <th>Woody Allen</th>\n",
        "      <td> 2</td>\n",
        "      <td> 2.000000</td>\n",
        "    </tr>\n",
        "    <tr>\n",
        "      <th>Wych Kaosayananda</th>\n",
        "      <td> 1</td>\n",
        "      <td> 3.000000</td>\n",
        "    </tr>\n",
        "    <tr>\n",
        "      <th>Xavier Gens</th>\n",
        "      <td> 1</td>\n",
        "      <td> 1.000000</td>\n",
        "    </tr>\n",
        "    <tr>\n",
        "      <th>Zach Braff</th>\n",
        "      <td> 1</td>\n",
        "      <td> 2.000000</td>\n",
        "    </tr>\n",
        "    <tr>\n",
        "      <th>Zach Helm</th>\n",
        "      <td> 1</td>\n",
        "      <td> 2.000000</td>\n",
        "    </tr>\n",
        "    <tr>\n",
        "      <th>Zack Snyder</th>\n",
        "      <td> 4</td>\n",
        "      <td> 5.250000</td>\n",
        "    </tr>\n",
        "  </tbody>\n",
        "</table>\n",
        "<p>648 rows \u00d7 2 columns</p>\n",
        "</div>"
       ],
       "metadata": {},
       "output_type": "pyout",
       "prompt_number": 369,
       "text": [
        "                                             index  Trailer songs\n",
        "Director                                                         \n",
        "Aaron Blaise, Robert Walker                      1       1.000000\n",
        "Aaron Seltzer, Jason Friedberg                   1       4.000000\n",
        "Adam Green                                       1       1.000000\n",
        "Adam McKay                                       1       5.000000\n",
        "Adam Shankman                                    5       3.600000\n",
        "Adrian Lyne                                      2       1.500000\n",
        "Alan J. Pakula                                   1       2.000000\n",
        "Alan Parker                                      1       1.000000\n",
        "Alan Taylor                                      1       1.000000\n",
        "Albert Hughes, Allen Hughes                      2       3.500000\n",
        "Alejandro Agresti                                1       3.000000\n",
        "Alejandro Gonz\u00e1lez I\u00f1\u00e1rritu                      2       2.500000\n",
        "Alex Proyas                                      3       5.000000\n",
        "Alexander Witt                                   1       1.000000\n",
        "Alexandre Aja                                    2       1.500000\n",
        "Alfonso Cuar\u00f3n                                   2       3.000000\n",
        "Allen Coulter                                    1       1.000000\n",
        "Amy Heckerling                                   1       4.000000\n",
        "Anand Tucker                                     1       3.000000\n",
        "Andrew Adamson                                   1       4.000000\n",
        "Andrew Adamson, Kelly Asbury, Conrad Vernon      1       1.000000\n",
        "Andrew Adamson, Vicky Jenson                     1       4.000000\n",
        "Andrew Davis                                     3       1.666667\n",
        "Andrew Dominik                                   1       4.000000\n",
        "Andrew Douglas                                   1       7.000000\n",
        "Andrew Fleming                                   1       2.000000\n",
        "Andrew Niccol                                    2       2.000000\n",
        "Andrew Stanton                                   1       1.000000\n",
        "Andrew Stanton, Lee Unkrich                      1       2.000000\n",
        "Andrzej Bartkowiak                               4       2.000000\n",
        "...                                            ...            ...\n",
        "Tom Tykwer                                       2       1.000000\n",
        "Tony Bancroft, Barry Cook                        1       3.000000\n",
        "Tony Bill                                        1       2.000000\n",
        "Tony Goldwyn                                     1       2.000000\n",
        "Tony Kaye                                        1       1.000000\n",
        "Tony Scott                                       8       2.250000\n",
        "Trey Parker                                      1       2.000000\n",
        "Uli Edel                                         1       1.000000\n",
        "Ulu Grosbard                                     1       2.000000\n",
        "Uwe Boll                                         1       4.000000\n",
        "Vadim Perelman                                   1       4.000000\n",
        "Victor Salva                                     2       1.500000\n",
        "Wallace Wolodarsky                               1       3.000000\n",
        "Walt Becker                                      1       6.000000\n",
        "Walter Salles                                    1       9.000000\n",
        "Warren Beatty                                    1       1.000000\n",
        "Wayne Kramer                                     1       3.000000\n",
        "Wayne Wang                                       3       1.333333\n",
        "Werner Herzog                                    2       3.500000\n",
        "Wes Anderson                                     2       4.000000\n",
        "Wes Craven                                       6       2.333333\n",
        "William Friedkin                                 3       2.333333\n",
        "William Shatner                                  1       1.000000\n",
        "Wolfgang Petersen                                4       3.500000\n",
        "Woody Allen                                      2       2.000000\n",
        "Wych Kaosayananda                                1       3.000000\n",
        "Xavier Gens                                      1       1.000000\n",
        "Zach Braff                                       1       2.000000\n",
        "Zach Helm                                        1       2.000000\n",
        "Zack Snyder                                      4       5.250000\n",
        "\n",
        "[648 rows x 2 columns]"
       ]
      }
     ],
     "prompt_number": 369
    },
    {
     "cell_type": "code",
     "collapsed": false,
     "input": [],
     "language": "python",
     "metadata": {},
     "outputs": []
    }
   ],
   "metadata": {}
  }
 ]
}