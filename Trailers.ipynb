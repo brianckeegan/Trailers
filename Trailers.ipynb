{
 "metadata": {
  "name": "",
  "signature": "sha256:111cc7e136337713aae36f7b8811bea65fd6d6768d9274e906d900ca2b38d403"
 },
 "nbformat": 3,
 "nbformat_minor": 0,
 "worksheets": [
  {
   "cells": [
    {
     "cell_type": "code",
     "collapsed": false,
     "input": [
      "%matplotlib inline\n",
      "import numpy as np\n",
      "import matplotlib.pyplot as plt\n",
      "import pandas as pd\n",
      "import networkx as nx\n",
      "import seaborn as sns\n",
      "sns.set(style=\"white\",rc={\"figure.figsize\": (6, 6)})\n",
      "from bs4 import BeautifulSoup\n",
      "from collections import Counter\n",
      "import urllib2, datetime, string, json, re, operator"
     ],
     "language": "python",
     "metadata": {},
     "outputs": [],
     "prompt_number": 115
    },
    {
     "cell_type": "heading",
     "level": 1,
     "metadata": {},
     "source": [
      "Crawl data"
     ]
    },
    {
     "cell_type": "code",
     "collapsed": false,
     "input": [
      "pages = [i for i in string.printable[10:36]]\n",
      "pages.append('NUM')"
     ],
     "language": "python",
     "metadata": {},
     "outputs": [],
     "prompt_number": 28
    },
    {
     "cell_type": "markdown",
     "metadata": {},
     "source": [
      "Get a list of all movies from http://www.soundtrack.net/trailers/."
     ]
    },
    {
     "cell_type": "code",
     "collapsed": false,
     "input": [
      "mapping = dict()\n",
      "for page in pages:\n",
      "    soup = BeautifulSoup(urllib2.urlopen('http://www.soundtrack.net/trailers/?cid={0}'.format(page)).read())\n",
      "    names = [i.text for i in soup.findAll('div',{'id':'chunk','class':'resources-left-table'})[0].findAll('a')]\n",
      "    urls = [i['href'] for i in soup.findAll('div',{'id':'chunk','class':'resources-left-table'})[0].findAll('a')]\n",
      "    mapping.update(dict(zip(names,urls)))"
     ],
     "language": "python",
     "metadata": {},
     "outputs": [],
     "prompt_number": 31
    },
    {
     "cell_type": "markdown",
     "metadata": {},
     "source": [
      "Save the data to `name_url_mapping.json`"
     ]
    },
    {
     "cell_type": "code",
     "collapsed": false,
     "input": [
      "with open('name_url_mapping.json','wb') as f:\n",
      "    json.dump(mapping,f)\n",
      "\n",
      "len(mapping)"
     ],
     "language": "python",
     "metadata": {},
     "outputs": [
      {
       "metadata": {},
       "output_type": "pyout",
       "prompt_number": 38,
       "text": [
        "2414"
       ]
      }
     ],
     "prompt_number": 38
    },
    {
     "cell_type": "heading",
     "level": 1,
     "metadata": {},
     "source": [
      "Songs per trailer"
     ]
    },
    {
     "cell_type": "code",
     "collapsed": false,
     "input": [
      "soup = BeautifulSoup(urllib2.urlopen('http://www.soundtrack.net{0}'.format(url)).read())\n",
      "songs = soup.findAll('ul',{'id':'trailer'})[0].text"
     ],
     "language": "python",
     "metadata": {},
     "outputs": []
    },
    {
     "cell_type": "markdown",
     "metadata": {},
     "source": [
      "Crawl all the songs in each record, store in `name_song_mapping`. Only include songs in full \"Theatrical Trailer\" -- excludes teasers, TV spots, etc."
     ]
    },
    {
     "cell_type": "code",
     "collapsed": false,
     "input": [
      "name_song_mapping = dict()\n",
      "\n",
      "for movie,url in mapping.iteritems():\n",
      "    soup = BeautifulSoup(urllib2.urlopen('http://www.soundtrack.net{0}'.format(url)).read())\n",
      "    songs = soup.findAll('ul',{'id':'trailer'})[0].text\n",
      "    if 'THEATRICAL TRAILER' in songs:\n",
      "        name_song_mapping[movie] = songs"
     ],
     "language": "python",
     "metadata": {},
     "outputs": [],
     "prompt_number": 39
    },
    {
     "cell_type": "markdown",
     "metadata": {},
     "source": [
      "Save `name_song_mapping` to `name_song_mapping.json`"
     ]
    },
    {
     "cell_type": "code",
     "collapsed": false,
     "input": [
      "with open('name_song_mapping.json','wb') as f:\n",
      "    json.dump(name_song_mapping,f)\n",
      "\n",
      "len(name_song_mapping)"
     ],
     "language": "python",
     "metadata": {},
     "outputs": [
      {
       "metadata": {},
       "output_type": "pyout",
       "prompt_number": 42,
       "text": [
        "2182"
       ]
      }
     ],
     "prompt_number": 42
    },
    {
     "cell_type": "heading",
     "level": 1,
     "metadata": {},
     "source": [
      "Load data"
     ]
    },
    {
     "cell_type": "markdown",
     "metadata": {},
     "source": [
      "Load `name_song_mapping.json` from disk. Should have 2182 elements."
     ]
    },
    {
     "cell_type": "code",
     "collapsed": false,
     "input": [
      "with open('name_song_mapping.json','rb') as f:\n",
      "    name_song_mapping = json.load(f)\n",
      "    \n",
      "len(name_song_mapping)"
     ],
     "language": "python",
     "metadata": {},
     "outputs": [
      {
       "metadata": {},
       "output_type": "pyout",
       "prompt_number": 3,
       "text": [
        "2182"
       ]
      }
     ],
     "prompt_number": 3
    },
    {
     "cell_type": "heading",
     "level": 1,
     "metadata": {},
     "source": [
      "Begin analysis"
     ]
    },
    {
     "cell_type": "markdown",
     "metadata": {},
     "source": [
      "Create a dictionary that is an edgelist of movies connected to songs."
     ]
    },
    {
     "cell_type": "code",
     "collapsed": false,
     "input": [
      "edgelist_dict = {movie:text.split('\\n')[1:-1] for movie,text in name_song_mapping.iteritems()}\n",
      "edgelist_dict.items()[:3]"
     ],
     "language": "python",
     "metadata": {},
     "outputs": [
      {
       "metadata": {},
       "output_type": "pyout",
       "prompt_number": 4,
       "text": [
        "[(u'Drop Dead Gorgeous (1999)',\n",
        "  [u'\"Conga\" - Gloria Estefan & Miami Sound Machine',\n",
        "   u'\"Get Ready For This\" - 2 Unlimited']),\n",
        " (u'The Peacemaker (1997)',\n",
        "  [u'\"Original Trailer Music\" - Harry Gregson-Williams']),\n",
        " (u'The Covenant (2006)',\n",
        "  [u'\"River of Joy\" - Black Lab', u'\"Save Yourself\" - Stabbing Westward'])]"
       ]
      }
     ],
     "prompt_number": 4
    },
    {
     "cell_type": "markdown",
     "metadata": {},
     "source": [
      "Iterate over this edgelist object and make a `NetworkX` object."
     ]
    },
    {
     "cell_type": "code",
     "collapsed": false,
     "input": [
      "g = nx.DiGraph()\n",
      "for movie,songs in edgelist_dict.iteritems():\n",
      "    for song in songs:\n",
      "        g.add_edge(movie,song)\n",
      "        g.add_node(movie,year=re.findall(r'[0-9]{4}',movie)[0],kind='Movie')\n",
      "        g.add_node(song,year=0,kind='Song')\n",
      "        \n",
      "# Remove \"Original trailer music\" as this may refer to distinct songs\n",
      "g.remove_nodes_from([i for i in g.nodes() if 'Original Trailer Music' in i])  \n",
      "\n",
      "# Save the nodes corresponding to movies and songs in lists\n",
      "movies = [n for n,data in g.nodes(data=True) if data['kind'] == 'Movie']\n",
      "songs = [n for n,data in g.nodes(data=True) if data['kind'] == 'Song']\n",
      "\n",
      "# Print the number of edges, nodes, and network density\n",
      "g.number_of_edges(),g.number_of_nodes(),nx.bipartite.density(g,songs)"
     ],
     "language": "python",
     "metadata": {},
     "outputs": [
      {
       "metadata": {},
       "output_type": "pyout",
       "prompt_number": 15,
       "text": [
        "(4810, 5862, 0.00029951081975052805)"
       ]
      }
     ],
     "prompt_number": 15
    },
    {
     "cell_type": "markdown",
     "metadata": {},
     "source": [
      "Compute the fraction of nodes in the largest connected component."
     ]
    },
    {
     "cell_type": "code",
     "collapsed": false,
     "input": [
      "components = nx.components.connected_component_subgraphs(g.to_undirected())\n",
      "len(components[0])/float(g.number_of_nodes())"
     ],
     "language": "python",
     "metadata": {},
     "outputs": [
      {
       "metadata": {},
       "output_type": "pyout",
       "prompt_number": 16,
       "text": [
        "0.3553394745820539"
       ]
      }
     ],
     "prompt_number": 16
    },
    {
     "cell_type": "markdown",
     "metadata": {},
     "source": [
      "Compute the degree distribution."
     ]
    },
    {
     "cell_type": "code",
     "collapsed": false,
     "input": [
      "idc = {k:int(round(v*(len(g)-1),0)) for k,v in nx.in_degree_centrality(g).iteritems()}\n",
      "idc_counter = Counter(idc.values())\n",
      "\n",
      "odc = {k:int(round(v*(len(g)-1),0)) for k,v in nx.out_degree_centrality(g).iteritems()}\n",
      "odc_counter = Counter(odc.values())\n",
      "\n",
      "plt.scatter(idc_counter.keys(),idc_counter.values(),label='In-degree',color='r',s=100,marker='^')\n",
      "plt.scatter(odc_counter.keys(),odc_counter.values(),label='Out-degree',color='b',s=100)\n",
      "plt.xscale('symlog')\n",
      "plt.yscale('symlog')\n",
      "plt.xlim((.5,2e2))\n",
      "plt.ylim((0,1e4))\n",
      "plt.legend(scatterpoints=1)\n",
      "plt.xlabel('Number of movies (songs)')\n",
      "plt.ylabel('Number of songs (movies)')"
     ],
     "language": "python",
     "metadata": {},
     "outputs": [
      {
       "metadata": {},
       "output_type": "pyout",
       "prompt_number": 119,
       "text": [
        "<matplotlib.text.Text at 0x114239e50>"
       ]
      },
      {
       "metadata": {},
       "output_type": "display_data",
       "png": "[encoded data removed]",
       "text": [
        "<matplotlib.figure.Figure at 0x1144cba50>"
       ]
      }
     ],
     "prompt_number": 119
    },
    {
     "cell_type": "markdown",
     "metadata": {},
     "source": [
      "Print the top 20 best-connected songs."
     ]
    },
    {
     "cell_type": "code",
     "collapsed": false,
     "input": [
      "sorted(idc.iteritems(),key=operator.itemgetter(1),reverse=True)[:20]"
     ],
     "language": "python",
     "metadata": {},
     "outputs": [
      {
       "metadata": {},
       "output_type": "pyout",
       "prompt_number": 19,
       "text": [
        "[(u'Aliens (1986) - James Horner', 20),\n",
        " (u'\"Redrum\" - Immediate Music', 17),\n",
        " (u'\"Tightwire\" - Immediate Music', 17),\n",
        " (u'Trailerhead: Triumph: \"Ode to Power\" - Immediate Music', 16),\n",
        " (u'Come See The Paradise (1990) - Randy Edelman', 13),\n",
        " (u'\"Naked Prey\" - Immediate Music', 13),\n",
        " (u'Stargate (1994) - David Arnold', 12),\n",
        " (u'Carmina Burana: \"O Fortuna\" - Carl Orff', 11),\n",
        " (u'Backdraft (1991) - Hans Zimmer', 11),\n",
        " (u'Black Rain (1989) - Hans Zimmer', 11),\n",
        " (u\"Bram Stoker's Dracula (1992) - Wojciech Kilar\", 11),\n",
        " (u'Mississippi Burning (1988) - Trevor Jones', 11),\n",
        " (u'The Shawshank Redemption (1994) - Thomas Newman', 10),\n",
        " (u'The Fugitive (1993) - James Newton Howard', 10),\n",
        " (u'Mortal Kombat (1995) - George S. Clinton', 10),\n",
        " (u'The Crow (1994) - Graeme Revell', 10),\n",
        " (u'Waterworld (1995) - James Newton Howard', 9),\n",
        " (u'Dragon: The Bruce Lee Story (1993) - Randy Edelman', 9),\n",
        " (u'Beetlejuice (1988) - Danny Elfman', 9),\n",
        " (u'\"9th Symphony\" - Ludwig van Beethoven', 9)]"
       ]
      }
     ],
     "prompt_number": 19
    },
    {
     "cell_type": "markdown",
     "metadata": {},
     "source": [
      "Print the top 20 movies with the most songs."
     ]
    },
    {
     "cell_type": "code",
     "collapsed": false,
     "input": [
      "sorted(odc.iteritems(),key=operator.itemgetter(1),reverse=True)[:20]"
     ],
     "language": "python",
     "metadata": {},
     "outputs": [
      {
       "metadata": {},
       "output_type": "pyout",
       "prompt_number": 20,
       "text": [
        "[(u'Resident Evil: Extinction (2007)', 27),\n",
        " (u'The Hitcher (2007)', 21),\n",
        " (u\"Trick 'r Treat (2009)\", 21),\n",
        " (u'Elektra (2005)', 18),\n",
        " (u'Hulk (2003)', 18),\n",
        " (u'Cry_Wolf (2005)', 18),\n",
        " (u'Blood Diamond (2006)', 17),\n",
        " (u'Harry Potter and the Order of the Phoenix (2007)', 17),\n",
        " (u\"Pirates of the Caribbean: At World's End (2007)\", 17),\n",
        " (u'Batman Begins (2005)', 15),\n",
        " (u'Beowulf (2007)', 15),\n",
        " (u'Primeval (2007)', 15),\n",
        " (u'The Grudge (2004)', 14),\n",
        " (u'Vacancy (2007)', 14),\n",
        " (u'Fantastic Four (2005)', 14),\n",
        " (u'The Invasion (2007)', 13),\n",
        " (u'Ladder 49 (2004)', 13),\n",
        " (u'Daredevil (2003)', 12),\n",
        " (u'Bangkok Dangerous (2008)', 12),\n",
        " (u'Spider-Man 3 (2007)', 12)]"
       ]
      }
     ],
     "prompt_number": 20
    },
    {
     "cell_type": "heading",
     "level": 1,
     "metadata": {},
     "source": [
      "Project to unipartite and serialize"
     ]
    },
    {
     "cell_type": "code",
     "collapsed": false,
     "input": [
      "movies_g = nx.bipartite.weighted_projected_graph(g.to_undirected(),movies)\n",
      "nx.write_gexf(movies_g,'movies.gexf')\n",
      "movies_g.number_of_edges()\n",
      "\n",
      "movies_g_components = nx.components.connected_component_subgraphs(movies_g)\n",
      "nx.write_gexf(movies_g_components[0],'movies_lcc.gexf')"
     ],
     "language": "python",
     "metadata": {},
     "outputs": [],
     "prompt_number": 21
    },
    {
     "cell_type": "code",
     "collapsed": false,
     "input": [
      "songs_g = nx.bipartite.weighted_projected_graph(g.to_undirected(),songs)\n",
      "nx.write_gexf(songs_g,'songs.gexf')\n",
      "songs_g.number_of_edges()\n",
      "\n",
      "songs_g_components = nx.components.connected_component_subgraphs(songs_g)\n",
      "nx.write_gexf(songs_g_components[0],'songs_lcc.gexf')"
     ],
     "language": "python",
     "metadata": {},
     "outputs": [],
     "prompt_number": 22
    },
    {
     "cell_type": "heading",
     "level": 1,
     "metadata": {},
     "source": [
      "Changes over time"
     ]
    },
    {
     "cell_type": "markdown",
     "metadata": {},
     "source": [
      "Define a quick function to make our lives easier. If a list has no elements in it when we call for a position, this will return a `nan` instead of an `IndexError`."
     ]
    },
    {
     "cell_type": "code",
     "collapsed": false,
     "input": [
      "def _get_list(l,index,default):\n",
      "    try:\n",
      "        return l[index]\n",
      "    except IndexError:\n",
      "        return default"
     ],
     "language": "python",
     "metadata": {},
     "outputs": [],
     "prompt_number": 35
    },
    {
     "cell_type": "markdown",
     "metadata": {},
     "source": [
      "Create a list of dictionaries that contain the name of the movie (song), the number of songs (movies) it's connected to, and the year the movie (song) was released (based on the information in title).\n",
      "\n",
      "Then convert this list of dictionaries into a `DataFrame` and coerce the years from strings to floats."
     ]
    },
    {
     "cell_type": "code",
     "collapsed": false,
     "input": [
      "movies_by_year = [{'name':movie,'connections':d,'year':_get_list(re.findall(r'[0-9]{4}',movie),0,np.nan)} for movie,d in odc.iteritems()]\n",
      "songs_by_release = [{'name':movie,'connections':d,'year':_get_list(re.findall(r'[0-9]{4}',movie),0,np.nan)} for movie,d in idc.iteritems()]\n",
      "\n",
      "df_movies = pd.DataFrame(movies_by_year)\n",
      "df_movies['year'] = df_movies['year'].apply(np.float)\n",
      "\n",
      "df_songs = pd.DataFrame(songs_by_release)\n",
      "df_songs['year'] = df_songs['year'].apply(np.float)"
     ],
     "language": "python",
     "metadata": {},
     "outputs": [],
     "prompt_number": 112
    },
    {
     "cell_type": "markdown",
     "metadata": {},
     "source": [
      "Plot the average number of connections a movie (song) had in each year."
     ]
    },
    {
     "cell_type": "code",
     "collapsed": false,
     "input": [
      "df_over_time = pd.DataFrame(index=range(1980,2015))\n",
      "df_over_time['Number of songs in trailers'] = df_movies.groupby('year').agg({'connections': lambda x: np.e**np.mean(np.log(x+1))}).ix[1980:2015]\n",
      "df_over_time['Songs referenced from this year'] = df_songs.groupby('year').agg({'connections':lambda x: np.e**np.mean(np.log(x+1))}).ix[1980:2015]\n",
      "\n",
      "df_over_time.plot(lw=4)\n",
      "plt.legend(loc='upper left')\n",
      "plt.ylim((0,4))\n",
      "plt.ylabel('Count')\n",
      "plt.xlabel('Year')\n",
      "plt.tight_layout()"
     ],
     "language": "python",
     "metadata": {},
     "outputs": [
      {
       "metadata": {},
       "output_type": "display_data",
       "png": "[encoded data removed]",
       "text": [
        "<matplotlib.figure.Figure at 0x1144c1790>"
       ]
      }
     ],
     "prompt_number": 117
    },
    {
     "cell_type": "markdown",
     "metadata": {},
     "source": [
      "Changes in network structure over time."
     ]
    },
    {
     "cell_type": "code",
     "collapsed": false,
     "input": [
      "edgelist_df = pd.DataFrame([{'movie':movie,'song':song,'year':_get_list(re.findall(r'[0-9]{4}',movie),0,np.nan)} for movie,songs in edgelist_dict.iteritems() for song in songs])\n",
      "edgelist_gb = edgelist_df.groupby('year')"
     ],
     "language": "python",
     "metadata": {},
     "outputs": [],
     "prompt_number": 131
    },
    {
     "cell_type": "code",
     "collapsed": false,
     "input": [
      "graph_list = list()\n",
      "for year in range(1980,2015):\n",
      "    g_year = nx.DiGraph()\n",
      "    year_movies = list(set(edgelist_gb.get_group(str(year))['movie']))\n",
      "    year_songs = list(set(edgelist_gb.get_group(str(year))['song']))\n",
      "    g_year.add_edges_from([(movie,song) for (i,movie,song) in list(edgelist_gb.get_group(str(year))[['movie','song']].itertuples())])\n",
      "    g_year.add_nodes_from(zip(year_movies,[{'type':'movie'}]*len(year_movies)))\n",
      "    g_year.add_nodes_from(zip(year_songs,[{'type':'song'}]*len(year_songs)))\n",
      "    graph_list.append(g_year)"
     ],
     "language": "python",
     "metadata": {},
     "outputs": [],
     "prompt_number": 156
    },
    {
     "cell_type": "code",
     "collapsed": false,
     "input": [
      "yearly_df = pd.DataFrame(index=range(1980,2015))\n",
      "yearly_df['Movies'] = [len([n for n,data in i.nodes(data=True) if data['type'] == 'movie']) for i in graph_list]\n",
      "yearly_df['Songs'] = [len([n for n,data in i.nodes(data=True) if data['type'] == 'song']) for i in graph_list]\n",
      "yearly_df['Density'] = [nx.bipartite.density(i,[n for n,data in i.nodes(data=True) if data['type'] == 'song']) for i in graph_list]\n",
      "yearly_df['Song Clustering'] = [nx.bipartite.average_clustering(i.to_undirected(),[n for n,data in i.nodes(data=True) if data['type'] == 'song']) for i in graph_list]\n",
      "yearly_df['Movie Clustering'] = [nx.bipartite.average_clustering(i.to_undirected(),[n for n,data in i.nodes(data=True) if data['type'] == 'movie']) for i in graph_list]\n",
      "yearly_df['LCC Frac'] = [len(nx.components.connected_component_subgraphs(i.to_undirected())[0])/float(len(i)) for i in graph_list]"
     ],
     "language": "python",
     "metadata": {},
     "outputs": [],
     "prompt_number": 170
    },
    {
     "cell_type": "markdown",
     "metadata": {},
     "source": [
      "Plot count of movie trailers and songs by year. The peak in 2004 and subsequent fall-off suggests there may be biases in the scope and coverage of the data."
     ]
    },
    {
     "cell_type": "code",
     "collapsed": false,
     "input": [
      "yearly_df[['Songs','Movies']].plot(lw=4)\n",
      "plt.legend(loc='upper left')\n",
      "plt.ylabel('Count')\n",
      "plt.xlabel('Year')"
     ],
     "language": "python",
     "metadata": {},
     "outputs": [
      {
       "metadata": {},
       "output_type": "pyout",
       "prompt_number": 173,
       "text": [
        "<matplotlib.text.Text at 0x1185cc750>"
       ]
      },
      {
       "metadata": {},
       "output_type": "display_data",
       "png": "[encoded data removed]",
       "text": [
        "<matplotlib.figure.Figure at 0x11678a1d0>"
       ]
      }
     ],
     "prompt_number": 173
    },
    {
     "cell_type": "markdown",
     "metadata": {},
     "source": [
      "Plot clustering over time. Song clustering suggests that songs increasingly share movies in common. Movie clustering suggests that movies decresingly shares songs in common."
     ]
    },
    {
     "cell_type": "code",
     "collapsed": false,
     "input": [
      "yearly_df[['Song Clustering','Movie Clustering']].plot(lw=4)\n",
      "plt.ylabel('Clustering coefficient')\n",
      "plt.xlabel('Year')"
     ],
     "language": "python",
     "metadata": {},
     "outputs": [
      {
       "metadata": {},
       "output_type": "pyout",
       "prompt_number": 172,
       "text": [
        "<matplotlib.text.Text at 0x1186fd850>"
       ]
      },
      {
       "metadata": {},
       "output_type": "display_data",
       "png": "[encoded data removed]",
       "text": [
        "<matplotlib.figure.Figure at 0x1187c5390>"
       ]
      }
     ],
     "prompt_number": 172
    },
    {
     "cell_type": "heading",
     "level": 1,
     "metadata": {},
     "source": [
      "Crawl OMDB"
     ]
    },
    {
     "cell_type": "code",
     "collapsed": false,
     "input": [
      "with open('imdb_data.json','rb') as f:\n",
      "    imdb_data = json.load(f)"
     ],
     "language": "python",
     "metadata": {},
     "outputs": [],
     "prompt_number": 220
    },
    {
     "cell_type": "code",
     "collapsed": false,
     "input": [
      "imdb_data_movies = [i.get('Title') for i in imdb_data]\n",
      "missing_imdb_movies = [i for i in [i[:-7] for i in movies] if i not in imdb_data_movies]"
     ],
     "language": "python",
     "metadata": {},
     "outputs": [
      {
       "metadata": {},
       "output_type": "pyout",
       "prompt_number": 189,
       "text": [
        "1241"
       ]
      }
     ],
     "prompt_number": 189
    },
    {
     "cell_type": "code",
     "collapsed": false,
     "input": [
      "imdb_trailer_data = dict()\n",
      "exceptions = list()\n",
      "for num,movie in enumerate(missing_imdb_movies):\n",
      "    try:\n",
      "        if num in range(0,len(missing_imdb_movies),int(round(len(missing_imdb_movies)/10,0))):\n",
      "            print movie\n",
      "        imdb_trailer_data[movie] = json.loads(urllib2.urlopen('http://www.omdbapi.com/?t={0}'.format(movie.replace(' ','+'))).read())\n",
      "    except:\n",
      "        exceptions.append(movie)\n",
      "        pass\n",
      "\n",
      "with open('imdb_trailer_data.json', 'wb') as f:\n",
      "  json.dump(imdb_trailer_data.values(), f)"
     ],
     "language": "python",
     "metadata": {},
     "outputs": [
      {
       "output_type": "stream",
       "stream": "stdout",
       "text": [
        "The Weatherman\n",
        "One Hour Photo"
       ]
      },
      {
       "output_type": "stream",
       "stream": "stdout",
       "text": [
        "\n",
        "The Canyons"
       ]
      },
      {
       "output_type": "stream",
       "stream": "stdout",
       "text": [
        "\n",
        "The Oh in Ohio"
       ]
      },
      {
       "output_type": "stream",
       "stream": "stdout",
       "text": [
        "\n",
        "The Last King of Scotland"
       ]
      },
      {
       "output_type": "stream",
       "stream": "stdout",
       "text": [
        "\n",
        "The Brothers Grimm"
       ]
      },
      {
       "output_type": "stream",
       "stream": "stdout",
       "text": [
        "\n",
        "Seven Years In Tibet"
       ]
      },
      {
       "output_type": "stream",
       "stream": "stdout",
       "text": [
        "\n",
        "A Time To Kill"
       ]
      },
      {
       "output_type": "stream",
       "stream": "stdout",
       "text": [
        "\n",
        "Star Wars: The Clone Wars"
       ]
      },
      {
       "output_type": "stream",
       "stream": "stdout",
       "text": [
        "\n",
        "The Krays"
       ]
      },
      {
       "output_type": "stream",
       "stream": "stdout",
       "text": [
        "\n",
        "The Last Kiss"
       ]
      },
      {
       "output_type": "stream",
       "stream": "stdout",
       "text": [
        "\n"
       ]
      }
     ],
     "prompt_number": 190
    },
    {
     "cell_type": "code",
     "collapsed": false,
     "input": [
      "for i in imdb_trailer_data.values():\n",
      "    imdb_data.append(i)\n",
      "\n",
      "with open('imdb_data2.json', 'wb') as f:\n",
      "  json.dump(imdb_data, f)"
     ],
     "language": "python",
     "metadata": {},
     "outputs": [],
     "prompt_number": 221
    },
    {
     "cell_type": "heading",
     "level": 1,
     "metadata": {},
     "source": [
      "Join data"
     ]
    },
    {
     "cell_type": "code",
     "collapsed": false,
     "input": [
      "def _to_float(v,default):\n",
      "    try:\n",
      "        return float(v)\n",
      "    except ValueError:\n",
      "        return default"
     ],
     "language": "python",
     "metadata": {},
     "outputs": [],
     "prompt_number": 286
    },
    {
     "cell_type": "code",
     "collapsed": false,
     "input": [
      "imdb_df = pd.DataFrame([i for i in imdb_data if len(i) > 4])\n",
      "\n",
      "df = imdb_df[imdb_df['Title'].isin([i[:-7] for i in movies])]\n",
      "df = df.set_index('Title')\n",
      "df['Runtime'] = df['Runtime'].apply(lambda x:_to_float(x[:-4],np.nan))\n",
      "df['imdbVotes'] = df['imdbVotes'].apply(lambda x:_to_float(x.replace(',',''),np.nan))\n",
      "\n",
      "s = pd.Series({name[:-7]:c for name,c in odc.iteritems() if c > 0},name='Trailer songs')\n",
      "df = df.join(s,how='left')\n",
      "df = df.replace({'N/A':np.nan})\n",
      "df = df.dropna(axis=0)\n",
      "df.head()"
     ],
     "language": "python",
     "metadata": {},
     "outputs": [
      {
       "html": [
        "<div style=\"max-height:1000px;max-width:1500px;overflow:auto;\">\n",
        "<table border=\"1\" class=\"dataframe\">\n",
        "  <thead>\n",
        "    <tr style=\"text-align: right;\">\n",
        "      <th></th>\n",
        "      <th>Actors</th>\n",
        "      <th>Awards</th>\n",
        "      <th>Country</th>\n",
        "      <th>Director</th>\n",
        "      <th>Genre</th>\n",
        "      <th>Language</th>\n",
        "      <th>Metascore</th>\n",
        "      <th>Plot</th>\n",
        "      <th>Poster</th>\n",
        "      <th>Rated</th>\n",
        "      <th>Released</th>\n",
        "      <th>Response</th>\n",
        "      <th>Runtime</th>\n",
        "      <th>Type</th>\n",
        "      <th>Writer</th>\n",
        "      <th>Year</th>\n",
        "      <th>imdbID</th>\n",
        "      <th>imdbRating</th>\n",
        "      <th>imdbVotes</th>\n",
        "      <th>Trailer songs</th>\n",
        "    </tr>\n",
        "  </thead>\n",
        "  <tbody>\n",
        "    <tr>\n",
        "      <th>10 Things I Hate About You</th>\n",
        "      <td> Heath Ledger, Julia Stiles, Joseph Gordon-Levi...</td>\n",
        "      <td>                          2 wins &amp; 12 nominations.</td>\n",
        "      <td>          USA</td>\n",
        "      <td>     Gil Junger</td>\n",
        "      <td>    Comedy, Drama, Romance</td>\n",
        "      <td>                           English, French</td>\n",
        "      <td> 70</td>\n",
        "      <td> A new kid must find a guy to date the meanest ...</td>\n",
        "      <td> http://ia.media-imdb.com/images/M/MV5BMTI4MzU5...</td>\n",
        "      <td> PG-13</td>\n",
        "      <td> 31 Mar 1999</td>\n",
        "      <td> True</td>\n",
        "      <td>  97</td>\n",
        "      <td> movie</td>\n",
        "      <td>                     Karen McCullah, Kirsten Smith</td>\n",
        "      <td> 1999</td>\n",
        "      <td> tt0147800</td>\n",
        "      <td> 7.2</td>\n",
        "      <td> 162494</td>\n",
        "      <td> 2</td>\n",
        "    </tr>\n",
        "    <tr>\n",
        "      <th>101 Dalmatians</th>\n",
        "      <td> Glenn Close, Jeff Daniels, Joely Richardson, J...</td>\n",
        "      <td> Nominated for 1 Golden Globe. Another 3 wins &amp;...</td>\n",
        "      <td>          USA</td>\n",
        "      <td>  Stephen Herek</td>\n",
        "      <td> Family, Comedy, Adventure</td>\n",
        "      <td>                          English, Spanish</td>\n",
        "      <td> 49</td>\n",
        "      <td> A woman kidnaps puppies to kill them for their...</td>\n",
        "      <td> http://ia.media-imdb.com/images/M/MV5BMTkxNjQw...</td>\n",
        "      <td>     G</td>\n",
        "      <td> 27 Nov 1996</td>\n",
        "      <td> True</td>\n",
        "      <td> 103</td>\n",
        "      <td> movie</td>\n",
        "      <td>     Dodie Smith (novel), John Hughes (screenplay)</td>\n",
        "      <td> 1996</td>\n",
        "      <td> tt0115433</td>\n",
        "      <td> 5.6</td>\n",
        "      <td>  55501</td>\n",
        "      <td> 1</td>\n",
        "    </tr>\n",
        "    <tr>\n",
        "      <th>15 Minutes</th>\n",
        "      <td> Robert De Niro, Edward Burns, Kelsey Grammer, ...</td>\n",
        "      <td>                                     1 nomination.</td>\n",
        "      <td> USA, Germany</td>\n",
        "      <td>  John Herzfeld</td>\n",
        "      <td>      Action, Crime, Drama</td>\n",
        "      <td> English, Czech, Russian, Greek, Afrikaans</td>\n",
        "      <td> 34</td>\n",
        "      <td> A homicide detective and a fire marshall must ...</td>\n",
        "      <td> http://ia.media-imdb.com/images/M/MV5BMTI3MzQ1...</td>\n",
        "      <td>     R</td>\n",
        "      <td> 09 Mar 2001</td>\n",
        "      <td> True</td>\n",
        "      <td> 120</td>\n",
        "      <td> movie</td>\n",
        "      <td>                                     John Herzfeld</td>\n",
        "      <td> 2001</td>\n",
        "      <td> tt0179626</td>\n",
        "      <td> 6.1</td>\n",
        "      <td>  38003</td>\n",
        "      <td> 2</td>\n",
        "    </tr>\n",
        "    <tr>\n",
        "      <th>16 Blocks</th>\n",
        "      <td>   Bruce Willis, Mos Def, David Morse, Jenna Stern</td>\n",
        "      <td>                                     1 nomination.</td>\n",
        "      <td> Germany, USA</td>\n",
        "      <td> Richard Donner</td>\n",
        "      <td>      Action, Crime, Drama</td>\n",
        "      <td>                                   English</td>\n",
        "      <td> 63</td>\n",
        "      <td> An aging cop is assigned the ordinary task of ...</td>\n",
        "      <td> http://ia.media-imdb.com/images/M/MV5BMTQ1NDEw...</td>\n",
        "      <td> PG-13</td>\n",
        "      <td> 03 Mar 2006</td>\n",
        "      <td> True</td>\n",
        "      <td> 105</td>\n",
        "      <td> movie</td>\n",
        "      <td>                                      Richard Wenk</td>\n",
        "      <td> 2006</td>\n",
        "      <td> tt0450232</td>\n",
        "      <td> 6.6</td>\n",
        "      <td>  99481</td>\n",
        "      <td> 1</td>\n",
        "    </tr>\n",
        "    <tr>\n",
        "      <th>2 Fast 2 Furious</th>\n",
        "      <td> Paul Walker, Tyrese Gibson, Eva Mendes, Cole H...</td>\n",
        "      <td>                          3 wins &amp; 13 nominations.</td>\n",
        "      <td> USA, Germany</td>\n",
        "      <td> John Singleton</td>\n",
        "      <td>   Action, Crime, Thriller</td>\n",
        "      <td>                          English, Spanish</td>\n",
        "      <td> 38</td>\n",
        "      <td> Brian O'Conner and childhood friend Roman Pear...</td>\n",
        "      <td> http://ia.media-imdb.com/images/M/MV5BMTIyMDUw...</td>\n",
        "      <td> PG-13</td>\n",
        "      <td> 06 Jun 2003</td>\n",
        "      <td> True</td>\n",
        "      <td> 107</td>\n",
        "      <td> movie</td>\n",
        "      <td> Gary Scott Thompson (characters), Michael Bran...</td>\n",
        "      <td> 2003</td>\n",
        "      <td> tt0322259</td>\n",
        "      <td> 5.6</td>\n",
        "      <td> 124488</td>\n",
        "      <td> 3</td>\n",
        "    </tr>\n",
        "  </tbody>\n",
        "</table>\n",
        "</div>"
       ],
       "metadata": {},
       "output_type": "pyout",
       "prompt_number": 295,
       "text": [
        "                                                                       Actors  \\\n",
        "10 Things I Hate About You  Heath Ledger, Julia Stiles, Joseph Gordon-Levi...   \n",
        "101 Dalmatians              Glenn Close, Jeff Daniels, Joely Richardson, J...   \n",
        "15 Minutes                  Robert De Niro, Edward Burns, Kelsey Grammer, ...   \n",
        "16 Blocks                     Bruce Willis, Mos Def, David Morse, Jenna Stern   \n",
        "2 Fast 2 Furious            Paul Walker, Tyrese Gibson, Eva Mendes, Cole H...   \n",
        "\n",
        "                                                                       Awards  \\\n",
        "10 Things I Hate About You                           2 wins & 12 nominations.   \n",
        "101 Dalmatians              Nominated for 1 Golden Globe. Another 3 wins &...   \n",
        "15 Minutes                                                      1 nomination.   \n",
        "16 Blocks                                                       1 nomination.   \n",
        "2 Fast 2 Furious                                     3 wins & 13 nominations.   \n",
        "\n",
        "                                 Country        Director  \\\n",
        "10 Things I Hate About You           USA      Gil Junger   \n",
        "101 Dalmatians                       USA   Stephen Herek   \n",
        "15 Minutes                  USA, Germany   John Herzfeld   \n",
        "16 Blocks                   Germany, USA  Richard Donner   \n",
        "2 Fast 2 Furious            USA, Germany  John Singleton   \n",
        "\n",
        "                                                Genre  \\\n",
        "10 Things I Hate About You     Comedy, Drama, Romance   \n",
        "101 Dalmatians              Family, Comedy, Adventure   \n",
        "15 Minutes                       Action, Crime, Drama   \n",
        "16 Blocks                        Action, Crime, Drama   \n",
        "2 Fast 2 Furious              Action, Crime, Thriller   \n",
        "\n",
        "                                                             Language  \\\n",
        "10 Things I Hate About You                            English, French   \n",
        "101 Dalmatians                                       English, Spanish   \n",
        "15 Minutes                  English, Czech, Russian, Greek, Afrikaans   \n",
        "16 Blocks                                                     English   \n",
        "2 Fast 2 Furious                                     English, Spanish   \n",
        "\n",
        "                           Metascore  \\\n",
        "10 Things I Hate About You        70   \n",
        "101 Dalmatians                    49   \n",
        "15 Minutes                        34   \n",
        "16 Blocks                         63   \n",
        "2 Fast 2 Furious                  38   \n",
        "\n",
        "                                                                         Plot  \\\n",
        "10 Things I Hate About You  A new kid must find a guy to date the meanest ...   \n",
        "101 Dalmatians              A woman kidnaps puppies to kill them for their...   \n",
        "15 Minutes                  A homicide detective and a fire marshall must ...   \n",
        "16 Blocks                   An aging cop is assigned the ordinary task of ...   \n",
        "2 Fast 2 Furious            Brian O'Conner and childhood friend Roman Pear...   \n",
        "\n",
        "                                                                       Poster  \\\n",
        "10 Things I Hate About You  http://ia.media-imdb.com/images/M/MV5BMTI4MzU5...   \n",
        "101 Dalmatians              http://ia.media-imdb.com/images/M/MV5BMTkxNjQw...   \n",
        "15 Minutes                  http://ia.media-imdb.com/images/M/MV5BMTI3MzQ1...   \n",
        "16 Blocks                   http://ia.media-imdb.com/images/M/MV5BMTQ1NDEw...   \n",
        "2 Fast 2 Furious            http://ia.media-imdb.com/images/M/MV5BMTIyMDUw...   \n",
        "\n",
        "                            Rated     Released Response  Runtime   Type  \\\n",
        "10 Things I Hate About You  PG-13  31 Mar 1999     True       97  movie   \n",
        "101 Dalmatians                  G  27 Nov 1996     True      103  movie   \n",
        "15 Minutes                      R  09 Mar 2001     True      120  movie   \n",
        "16 Blocks                   PG-13  03 Mar 2006     True      105  movie   \n",
        "2 Fast 2 Furious            PG-13  06 Jun 2003     True      107  movie   \n",
        "\n",
        "                                                                       Writer  \\\n",
        "10 Things I Hate About You                      Karen McCullah, Kirsten Smith   \n",
        "101 Dalmatians                  Dodie Smith (novel), John Hughes (screenplay)   \n",
        "15 Minutes                                                      John Herzfeld   \n",
        "16 Blocks                                                        Richard Wenk   \n",
        "2 Fast 2 Furious            Gary Scott Thompson (characters), Michael Bran...   \n",
        "\n",
        "                            Year     imdbID imdbRating  imdbVotes  \\\n",
        "10 Things I Hate About You  1999  tt0147800        7.2     162494   \n",
        "101 Dalmatians              1996  tt0115433        5.6      55501   \n",
        "15 Minutes                  2001  tt0179626        6.1      38003   \n",
        "16 Blocks                   2006  tt0450232        6.6      99481   \n",
        "2 Fast 2 Furious            2003  tt0322259        5.6     124488   \n",
        "\n",
        "                            Trailer songs  \n",
        "10 Things I Hate About You              2  \n",
        "101 Dalmatians                          1  \n",
        "15 Minutes                              2  \n",
        "16 Blocks                               1  \n",
        "2 Fast 2 Furious                        3  "
       ]
      }
     ],
     "prompt_number": 295
    },
    {
     "cell_type": "code",
     "collapsed": false,
     "input": [
      "plt.scatter(df['Trailer songs'].values,df['imdbVotes'].values,alpha=.1)\n",
      "plt.yscale('log')"
     ],
     "language": "python",
     "metadata": {},
     "outputs": [
      {
       "metadata": {},
       "output_type": "display_data",
       "png": "[encoded data removed]",
       "text": [
        "<matplotlib.figure.Figure at 0x11de28250>"
       ]
      }
     ],
     "prompt_number": 297
    },
    {
     "cell_type": "code",
     "collapsed": false,
     "input": [],
     "language": "python",
     "metadata": {},
     "outputs": []
    }
   ],
   "metadata": {}
  }
 ]
}