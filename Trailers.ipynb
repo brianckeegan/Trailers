{
 "metadata": {
  "name": "",
  "signature": "sha256:551deaf56cfd3444dbbdae9251ab684b2e5029fb2a1983fac217e4558e1b8a71"
 },
 "nbformat": 3,
 "nbformat_minor": 0,
 "worksheets": [
  {
   "cells": [
    {
     "cell_type": "code",
     "collapsed": false,
     "input": [
      "%matplotlib inline\n",
      "import numpy as np\n",
      "import matplotlib.pyplot as plt\n",
      "import pandas as pd\n",
      "import networkx as nx\n",
      "import seaborn as sns\n",
      "sns.set(style=\"white\",rc={\"figure.figsize\": (6, 6)})\n",
      "from bs4 import BeautifulSoup\n",
      "from collections import Counter\n",
      "import statsmodels.formula.api as smf\n",
      "import urllib2, datetime, string, json, re, operator"
     ],
     "language": "python",
     "metadata": {},
     "outputs": [],
     "prompt_number": 374
    },
    {
     "cell_type": "heading",
     "level": 1,
     "metadata": {},
     "source": [
      "Crawl data"
     ]
    },
    {
     "cell_type": "code",
     "collapsed": false,
     "input": [
      "pages = [i for i in string.printable[10:36]]\n",
      "pages.append('NUM')"
     ],
     "language": "python",
     "metadata": {},
     "outputs": [],
     "prompt_number": 28
    },
    {
     "cell_type": "markdown",
     "metadata": {},
     "source": [
      "Get a list of all movies from http://www.soundtrack.net/trailers/."
     ]
    },
    {
     "cell_type": "code",
     "collapsed": false,
     "input": [
      "mapping = dict()\n",
      "for page in pages:\n",
      "    soup = BeautifulSoup(urllib2.urlopen('http://www.soundtrack.net/trailers/?cid={0}'.format(page)).read())\n",
      "    names = [i.text for i in soup.findAll('div',{'id':'chunk','class':'resources-left-table'})[0].findAll('a')]\n",
      "    urls = [i['href'] for i in soup.findAll('div',{'id':'chunk','class':'resources-left-table'})[0].findAll('a')]\n",
      "    mapping.update(dict(zip(names,urls)))"
     ],
     "language": "python",
     "metadata": {},
     "outputs": [],
     "prompt_number": 31
    },
    {
     "cell_type": "markdown",
     "metadata": {},
     "source": [
      "Save the data to `name_url_mapping.json`"
     ]
    },
    {
     "cell_type": "code",
     "collapsed": false,
     "input": [
      "with open('name_url_mapping.json','wb') as f:\n",
      "    json.dump(mapping,f)\n",
      "\n",
      "len(mapping)"
     ],
     "language": "python",
     "metadata": {},
     "outputs": [
      {
       "metadata": {},
       "output_type": "pyout",
       "prompt_number": 38,
       "text": [
        "2414"
       ]
      }
     ],
     "prompt_number": 38
    },
    {
     "cell_type": "heading",
     "level": 1,
     "metadata": {},
     "source": [
      "Songs per trailer"
     ]
    },
    {
     "cell_type": "code",
     "collapsed": false,
     "input": [
      "soup = BeautifulSoup(urllib2.urlopen('http://www.soundtrack.net{0}'.format(url)).read())\n",
      "songs = soup.findAll('ul',{'id':'trailer'})[0].text"
     ],
     "language": "python",
     "metadata": {},
     "outputs": []
    },
    {
     "cell_type": "markdown",
     "metadata": {},
     "source": [
      "Crawl all the songs in each record, store in `name_song_mapping`. Only include songs in full \"Theatrical Trailer\" -- excludes teasers, TV spots, etc."
     ]
    },
    {
     "cell_type": "code",
     "collapsed": false,
     "input": [
      "name_song_mapping = dict()\n",
      "\n",
      "for movie,url in mapping.iteritems():\n",
      "    soup = BeautifulSoup(urllib2.urlopen('http://www.soundtrack.net{0}'.format(url)).read())\n",
      "    songs = soup.findAll('ul',{'id':'trailer'})[0].text\n",
      "    if 'THEATRICAL TRAILER' in songs:\n",
      "        name_song_mapping[movie] = songs"
     ],
     "language": "python",
     "metadata": {},
     "outputs": [],
     "prompt_number": 39
    },
    {
     "cell_type": "markdown",
     "metadata": {},
     "source": [
      "Save `name_song_mapping` to `name_song_mapping.json`"
     ]
    },
    {
     "cell_type": "code",
     "collapsed": false,
     "input": [
      "with open('name_song_mapping.json','wb') as f:\n",
      "    json.dump(name_song_mapping,f)\n",
      "\n",
      "len(name_song_mapping)"
     ],
     "language": "python",
     "metadata": {},
     "outputs": [
      {
       "metadata": {},
       "output_type": "pyout",
       "prompt_number": 42,
       "text": [
        "2182"
       ]
      }
     ],
     "prompt_number": 42
    },
    {
     "cell_type": "heading",
     "level": 1,
     "metadata": {},
     "source": [
      "Load data"
     ]
    },
    {
     "cell_type": "markdown",
     "metadata": {},
     "source": [
      "Load `name_song_mapping.json` from disk. Should have 2182 elements."
     ]
    },
    {
     "cell_type": "code",
     "collapsed": false,
     "input": [
      "with open('name_song_mapping.json','rb') as f:\n",
      "    name_song_mapping = json.load(f)\n",
      "    \n",
      "len(name_song_mapping)"
     ],
     "language": "python",
     "metadata": {},
     "outputs": [
      {
       "metadata": {},
       "output_type": "pyout",
       "prompt_number": 3,
       "text": [
        "2182"
       ]
      }
     ],
     "prompt_number": 3
    },
    {
     "cell_type": "heading",
     "level": 1,
     "metadata": {},
     "source": [
      "Begin analysis"
     ]
    },
    {
     "cell_type": "markdown",
     "metadata": {},
     "source": [
      "Create a dictionary that is an edgelist of movies connected to songs."
     ]
    },
    {
     "cell_type": "code",
     "collapsed": false,
     "input": [
      "edgelist_dict = {movie:text.split('\\n')[1:-1] for movie,text in name_song_mapping.iteritems()}\n",
      "edgelist_dict.items()[:3]"
     ],
     "language": "python",
     "metadata": {},
     "outputs": [
      {
       "metadata": {},
       "output_type": "pyout",
       "prompt_number": 4,
       "text": [
        "[(u'Drop Dead Gorgeous (1999)',\n",
        "  [u'\"Conga\" - Gloria Estefan & Miami Sound Machine',\n",
        "   u'\"Get Ready For This\" - 2 Unlimited']),\n",
        " (u'The Peacemaker (1997)',\n",
        "  [u'\"Original Trailer Music\" - Harry Gregson-Williams']),\n",
        " (u'The Covenant (2006)',\n",
        "  [u'\"River of Joy\" - Black Lab', u'\"Save Yourself\" - Stabbing Westward'])]"
       ]
      }
     ],
     "prompt_number": 4
    },
    {
     "cell_type": "markdown",
     "metadata": {},
     "source": [
      "Iterate over this edgelist object and make a `NetworkX` object."
     ]
    },
    {
     "cell_type": "code",
     "collapsed": false,
     "input": [
      "g = nx.DiGraph()\n",
      "for movie,songs in edgelist_dict.iteritems():\n",
      "    for song in songs:\n",
      "        g.add_edge(movie,song)\n",
      "        g.add_node(movie,year=re.findall(r'[0-9]{4}',movie)[0],kind='Movie')\n",
      "        g.add_node(song,year=0,kind='Song')\n",
      "        \n",
      "# Remove \"Original trailer music\" as this may refer to distinct songs\n",
      "g.remove_nodes_from([i for i in g.nodes() if 'Original Trailer Music' in i])  \n",
      "\n",
      "# Save the nodes corresponding to movies and songs in lists\n",
      "movies = [n for n,data in g.nodes(data=True) if data['kind'] == 'Movie']\n",
      "songs = [n for n,data in g.nodes(data=True) if data['kind'] == 'Song']\n",
      "\n",
      "# Print the number of edges, nodes, and network density\n",
      "g.number_of_edges(),g.number_of_nodes(),nx.bipartite.density(g,songs)"
     ],
     "language": "python",
     "metadata": {},
     "outputs": [
      {
       "metadata": {},
       "output_type": "pyout",
       "prompt_number": 15,
       "text": [
        "(4810, 5862, 0.00029951081975052805)"
       ]
      }
     ],
     "prompt_number": 15
    },
    {
     "cell_type": "markdown",
     "metadata": {},
     "source": [
      "Compute the fraction of nodes in the largest connected component."
     ]
    },
    {
     "cell_type": "code",
     "collapsed": false,
     "input": [
      "components = nx.components.connected_component_subgraphs(g.to_undirected())\n",
      "len(components[0])/float(g.number_of_nodes())"
     ],
     "language": "python",
     "metadata": {},
     "outputs": [
      {
       "metadata": {},
       "output_type": "pyout",
       "prompt_number": 16,
       "text": [
        "0.3553394745820539"
       ]
      }
     ],
     "prompt_number": 16
    },
    {
     "cell_type": "markdown",
     "metadata": {},
     "source": [
      "Compute the degree distribution."
     ]
    },
    {
     "cell_type": "code",
     "collapsed": false,
     "input": [
      "idc = {k:int(round(v*(len(g)-1),0)) for k,v in nx.in_degree_centrality(g).iteritems()}\n",
      "idc_counter = Counter(idc.values())\n",
      "\n",
      "odc = {k:int(round(v*(len(g)-1),0)) for k,v in nx.out_degree_centrality(g).iteritems()}\n",
      "odc_counter = Counter(odc.values())\n",
      "\n",
      "plt.scatter(idc_counter.keys(),idc_counter.values(),label='Songs',color='r',s=100,marker='^')\n",
      "plt.scatter(odc_counter.keys(),odc_counter.values(),label='Movies',color='b',s=100)\n",
      "plt.xscale('symlog')\n",
      "plt.yscale('symlog')\n",
      "plt.xlim((.5,2e2))\n",
      "plt.ylim((0,1e4))\n",
      "plt.legend(scatterpoints=1)\n",
      "plt.xlabel('Number of movies (songs)')\n",
      "plt.ylabel('Number of songs (movies)')"
     ],
     "language": "python",
     "metadata": {},
     "outputs": [
      {
       "metadata": {},
       "output_type": "pyout",
       "prompt_number": 360,
       "text": [
        "<matplotlib.text.Text at 0x124302290>"
       ]
      },
      {
       "metadata": {},
       "output_type": "display_data",
       "png": "[encoded data removed]",
       "text": [
        "<matplotlib.figure.Figure at 0x12430f890>"
       ]
      }
     ],
     "prompt_number": 360
    },
    {
     "cell_type": "markdown",
     "metadata": {},
     "source": [
      "Print the top 20 best-connected songs."
     ]
    },
    {
     "cell_type": "code",
     "collapsed": false,
     "input": [
      "sorted(idc.iteritems(),key=operator.itemgetter(1),reverse=True)[:20]"
     ],
     "language": "python",
     "metadata": {},
     "outputs": [
      {
       "metadata": {},
       "output_type": "pyout",
       "prompt_number": 19,
       "text": [
        "[(u'Aliens (1986) - James Horner', 20),\n",
        " (u'\"Redrum\" - Immediate Music', 17),\n",
        " (u'\"Tightwire\" - Immediate Music', 17),\n",
        " (u'Trailerhead: Triumph: \"Ode to Power\" - Immediate Music', 16),\n",
        " (u'Come See The Paradise (1990) - Randy Edelman', 13),\n",
        " (u'\"Naked Prey\" - Immediate Music', 13),\n",
        " (u'Stargate (1994) - David Arnold', 12),\n",
        " (u'Carmina Burana: \"O Fortuna\" - Carl Orff', 11),\n",
        " (u'Backdraft (1991) - Hans Zimmer', 11),\n",
        " (u'Black Rain (1989) - Hans Zimmer', 11),\n",
        " (u\"Bram Stoker's Dracula (1992) - Wojciech Kilar\", 11),\n",
        " (u'Mississippi Burning (1988) - Trevor Jones', 11),\n",
        " (u'The Shawshank Redemption (1994) - Thomas Newman', 10),\n",
        " (u'The Fugitive (1993) - James Newton Howard', 10),\n",
        " (u'Mortal Kombat (1995) - George S. Clinton', 10),\n",
        " (u'The Crow (1994) - Graeme Revell', 10),\n",
        " (u'Waterworld (1995) - James Newton Howard', 9),\n",
        " (u'Dragon: The Bruce Lee Story (1993) - Randy Edelman', 9),\n",
        " (u'Beetlejuice (1988) - Danny Elfman', 9),\n",
        " (u'\"9th Symphony\" - Ludwig van Beethoven', 9)]"
       ]
      }
     ],
     "prompt_number": 19
    },
    {
     "cell_type": "markdown",
     "metadata": {},
     "source": [
      "Print the top 20 movies with the most songs."
     ]
    },
    {
     "cell_type": "code",
     "collapsed": false,
     "input": [
      "sorted(odc.iteritems(),key=operator.itemgetter(1),reverse=True)[:20]"
     ],
     "language": "python",
     "metadata": {},
     "outputs": [
      {
       "metadata": {},
       "output_type": "pyout",
       "prompt_number": 20,
       "text": [
        "[(u'Resident Evil: Extinction (2007)', 27),\n",
        " (u'The Hitcher (2007)', 21),\n",
        " (u\"Trick 'r Treat (2009)\", 21),\n",
        " (u'Elektra (2005)', 18),\n",
        " (u'Hulk (2003)', 18),\n",
        " (u'Cry_Wolf (2005)', 18),\n",
        " (u'Blood Diamond (2006)', 17),\n",
        " (u'Harry Potter and the Order of the Phoenix (2007)', 17),\n",
        " (u\"Pirates of the Caribbean: At World's End (2007)\", 17),\n",
        " (u'Batman Begins (2005)', 15),\n",
        " (u'Beowulf (2007)', 15),\n",
        " (u'Primeval (2007)', 15),\n",
        " (u'The Grudge (2004)', 14),\n",
        " (u'Vacancy (2007)', 14),\n",
        " (u'Fantastic Four (2005)', 14),\n",
        " (u'The Invasion (2007)', 13),\n",
        " (u'Ladder 49 (2004)', 13),\n",
        " (u'Daredevil (2003)', 12),\n",
        " (u'Bangkok Dangerous (2008)', 12),\n",
        " (u'Spider-Man 3 (2007)', 12)]"
       ]
      }
     ],
     "prompt_number": 20
    },
    {
     "cell_type": "heading",
     "level": 1,
     "metadata": {},
     "source": [
      "Project to unipartite and serialize"
     ]
    },
    {
     "cell_type": "code",
     "collapsed": false,
     "input": [
      "movies_g = nx.bipartite.weighted_projected_graph(g.to_undirected(),movies)\n",
      "nx.write_gexf(movies_g,'movies.gexf')\n",
      "movies_g.number_of_edges()\n",
      "\n",
      "movies_g_components = nx.components.connected_component_subgraphs(movies_g)\n",
      "nx.write_gexf(movies_g_components[0],'movies_lcc.gexf')"
     ],
     "language": "python",
     "metadata": {},
     "outputs": [],
     "prompt_number": 21
    },
    {
     "cell_type": "code",
     "collapsed": false,
     "input": [
      "songs_g = nx.bipartite.weighted_projected_graph(g.to_undirected(),songs)\n",
      "nx.write_gexf(songs_g,'songs.gexf')\n",
      "songs_g.number_of_edges()\n",
      "\n",
      "songs_g_components = nx.components.connected_component_subgraphs(songs_g)\n",
      "nx.write_gexf(songs_g_components[0],'songs_lcc.gexf')"
     ],
     "language": "python",
     "metadata": {},
     "outputs": [],
     "prompt_number": 22
    },
    {
     "cell_type": "heading",
     "level": 1,
     "metadata": {},
     "source": [
      "Changes over time"
     ]
    },
    {
     "cell_type": "markdown",
     "metadata": {},
     "source": [
      "Define a quick function to make our lives easier. If a list has no elements in it when we call for a position, this will return a `nan` instead of an `IndexError`."
     ]
    },
    {
     "cell_type": "code",
     "collapsed": false,
     "input": [
      "def _get_list(l,index,default):\n",
      "    try:\n",
      "        return l[index]\n",
      "    except IndexError:\n",
      "        return default"
     ],
     "language": "python",
     "metadata": {},
     "outputs": [],
     "prompt_number": 35
    },
    {
     "cell_type": "markdown",
     "metadata": {},
     "source": [
      "Create a list of dictionaries that contain the name of the movie (song), the number of songs (movies) it's connected to, and the year the movie (song) was released (based on the information in title).\n",
      "\n",
      "Then convert this list of dictionaries into a `DataFrame` and coerce the years from strings to floats."
     ]
    },
    {
     "cell_type": "code",
     "collapsed": false,
     "input": [
      "movies_by_year = [{'name':movie,'connections':d,'year':_get_list(re.findall(r'[0-9]{4}',movie),0,np.nan)} for movie,d in odc.iteritems()]\n",
      "songs_by_release = [{'name':movie,'connections':d,'year':_get_list(re.findall(r'[0-9]{4}',movie),0,np.nan)} for movie,d in idc.iteritems()]\n",
      "\n",
      "df_movies = pd.DataFrame(movies_by_year)\n",
      "df_movies['year'] = df_movies['year'].apply(np.float)\n",
      "\n",
      "df_songs = pd.DataFrame(songs_by_release)\n",
      "df_songs['year'] = df_songs['year'].apply(np.float)"
     ],
     "language": "python",
     "metadata": {},
     "outputs": [],
     "prompt_number": 112
    },
    {
     "cell_type": "markdown",
     "metadata": {},
     "source": [
      "Plot the average number of connections a movie (song) had in each year."
     ]
    },
    {
     "cell_type": "code",
     "collapsed": false,
     "input": [
      "df_over_time = pd.DataFrame(index=range(1980,2015))\n",
      "df_over_time['Number of songs in trailers'] = df_movies.groupby('year').agg({'connections': lambda x: np.e**np.mean(np.log(x+1))}).ix[1980:2015]\n",
      "df_over_time['Songs referenced from this year'] = df_songs.groupby('year').agg({'connections':lambda x: np.e**np.mean(np.log(x+1))}).ix[1980:2015]\n",
      "\n",
      "df_over_time.plot(lw=4)\n",
      "plt.legend(loc='upper left')\n",
      "plt.ylim((0,4))\n",
      "plt.ylabel('Count')\n",
      "plt.xlabel('Year')\n",
      "plt.tight_layout()"
     ],
     "language": "python",
     "metadata": {},
     "outputs": [
      {
       "metadata": {},
       "output_type": "display_data",
       "png": "[encoded data removed]",
       "text": [
        "<matplotlib.figure.Figure at 0x1144c1790>"
       ]
      }
     ],
     "prompt_number": 117
    },
    {
     "cell_type": "markdown",
     "metadata": {},
     "source": [
      "Changes in network structure over time."
     ]
    },
    {
     "cell_type": "code",
     "collapsed": false,
     "input": [
      "edgelist_df = pd.DataFrame([{'movie':movie,'song':song,'year':_get_list(re.findall(r'[0-9]{4}',movie),0,np.nan)} for movie,songs in edgelist_dict.iteritems() for song in songs])\n",
      "edgelist_gb = edgelist_df.groupby('year')"
     ],
     "language": "python",
     "metadata": {},
     "outputs": [],
     "prompt_number": 131
    },
    {
     "cell_type": "code",
     "collapsed": false,
     "input": [
      "graph_list = list()\n",
      "for year in range(1980,2015):\n",
      "    g_year = nx.DiGraph()\n",
      "    year_movies = list(set(edgelist_gb.get_group(str(year))['movie']))\n",
      "    year_songs = list(set(edgelist_gb.get_group(str(year))['song']))\n",
      "    g_year.add_edges_from([(movie,song) for (i,movie,song) in list(edgelist_gb.get_group(str(year))[['movie','song']].itertuples())])\n",
      "    g_year.add_nodes_from(zip(year_movies,[{'type':'movie'}]*len(year_movies)))\n",
      "    g_year.add_nodes_from(zip(year_songs,[{'type':'song'}]*len(year_songs)))\n",
      "    graph_list.append(g_year)"
     ],
     "language": "python",
     "metadata": {},
     "outputs": [],
     "prompt_number": 156
    },
    {
     "cell_type": "code",
     "collapsed": false,
     "input": [
      "yearly_df = pd.DataFrame(index=range(1980,2015))\n",
      "yearly_df['Movies'] = [len([n for n,data in i.nodes(data=True) if data['type'] == 'movie']) for i in graph_list]\n",
      "yearly_df['Songs'] = [len([n for n,data in i.nodes(data=True) if data['type'] == 'song']) for i in graph_list]\n",
      "yearly_df['Density'] = [nx.bipartite.density(i,[n for n,data in i.nodes(data=True) if data['type'] == 'song']) for i in graph_list]\n",
      "yearly_df['Song Clustering'] = [nx.bipartite.average_clustering(i.to_undirected(),[n for n,data in i.nodes(data=True) if data['type'] == 'song']) for i in graph_list]\n",
      "yearly_df['Movie Clustering'] = [nx.bipartite.average_clustering(i.to_undirected(),[n for n,data in i.nodes(data=True) if data['type'] == 'movie']) for i in graph_list]\n",
      "yearly_df['LCC Frac'] = [len(nx.components.connected_component_subgraphs(i.to_undirected())[0])/float(len(i)) for i in graph_list]"
     ],
     "language": "python",
     "metadata": {},
     "outputs": [],
     "prompt_number": 170
    },
    {
     "cell_type": "markdown",
     "metadata": {},
     "source": [
      "Plot count of movie trailers and songs by year. The peak in 2004 and subsequent fall-off suggests there may be biases in the scope and coverage of the data."
     ]
    },
    {
     "cell_type": "code",
     "collapsed": false,
     "input": [
      "yearly_df[['Songs','Movies']].plot(lw=4)\n",
      "plt.legend(loc='upper left')\n",
      "plt.ylabel('Count')\n",
      "plt.xlabel('Year')"
     ],
     "language": "python",
     "metadata": {},
     "outputs": [
      {
       "metadata": {},
       "output_type": "pyout",
       "prompt_number": 173,
       "text": [
        "<matplotlib.text.Text at 0x1185cc750>"
       ]
      },
      {
       "metadata": {},
       "output_type": "display_data",
       "png": "[encoded data removed]",
       "text": [
        "<matplotlib.figure.Figure at 0x11678a1d0>"
       ]
      }
     ],
     "prompt_number": 173
    },
    {
     "cell_type": "markdown",
     "metadata": {},
     "source": [
      "Plot clustering over time. Song clustering suggests that songs increasingly share movies in common. Movie clustering suggests that movies decresingly shares songs in common."
     ]
    },
    {
     "cell_type": "code",
     "collapsed": false,
     "input": [
      "yearly_df[['Song Clustering','Movie Clustering']].plot(lw=4)\n",
      "plt.ylabel('Clustering coefficient')\n",
      "plt.xlabel('Year')"
     ],
     "language": "python",
     "metadata": {},
     "outputs": [
      {
       "metadata": {},
       "output_type": "pyout",
       "prompt_number": 172,
       "text": [
        "<matplotlib.text.Text at 0x1186fd850>"
       ]
      },
      {
       "metadata": {},
       "output_type": "display_data",
       "png": "[encoded data removed]",
       "text": [
        "<matplotlib.figure.Figure at 0x1187c5390>"
       ]
      }
     ],
     "prompt_number": 172
    },
    {
     "cell_type": "heading",
     "level": 1,
     "metadata": {},
     "source": [
      "Crawl OMDB"
     ]
    },
    {
     "cell_type": "code",
     "collapsed": false,
     "input": [
      "with open('imdb_data.json','rb') as f:\n",
      "    imdb_data = json.load(f)"
     ],
     "language": "python",
     "metadata": {},
     "outputs": [],
     "prompt_number": 220
    },
    {
     "cell_type": "code",
     "collapsed": false,
     "input": [
      "imdb_data_movies = [i.get('Title') for i in imdb_data]\n",
      "missing_imdb_movies = [i for i in [i[:-7] for i in movies] if i not in imdb_data_movies]"
     ],
     "language": "python",
     "metadata": {},
     "outputs": [
      {
       "metadata": {},
       "output_type": "pyout",
       "prompt_number": 189,
       "text": [
        "1241"
       ]
      }
     ],
     "prompt_number": 189
    },
    {
     "cell_type": "code",
     "collapsed": false,
     "input": [
      "imdb_trailer_data = dict()\n",
      "exceptions = list()\n",
      "for num,movie in enumerate(missing_imdb_movies):\n",
      "    try:\n",
      "        if num in range(0,len(missing_imdb_movies),int(round(len(missing_imdb_movies)/10,0))):\n",
      "            print movie\n",
      "        imdb_trailer_data[movie] = json.loads(urllib2.urlopen('http://www.omdbapi.com/?t={0}'.format(movie.replace(' ','+'))).read())\n",
      "    except:\n",
      "        exceptions.append(movie)\n",
      "        pass\n",
      "\n",
      "with open('imdb_trailer_data.json', 'wb') as f:\n",
      "  json.dump(imdb_trailer_data.values(), f)"
     ],
     "language": "python",
     "metadata": {},
     "outputs": [
      {
       "output_type": "stream",
       "stream": "stdout",
       "text": [
        "The Weatherman\n",
        "One Hour Photo"
       ]
      },
      {
       "output_type": "stream",
       "stream": "stdout",
       "text": [
        "\n",
        "The Canyons"
       ]
      },
      {
       "output_type": "stream",
       "stream": "stdout",
       "text": [
        "\n",
        "The Oh in Ohio"
       ]
      },
      {
       "output_type": "stream",
       "stream": "stdout",
       "text": [
        "\n",
        "The Last King of Scotland"
       ]
      },
      {
       "output_type": "stream",
       "stream": "stdout",
       "text": [
        "\n",
        "The Brothers Grimm"
       ]
      },
      {
       "output_type": "stream",
       "stream": "stdout",
       "text": [
        "\n",
        "Seven Years In Tibet"
       ]
      },
      {
       "output_type": "stream",
       "stream": "stdout",
       "text": [
        "\n",
        "A Time To Kill"
       ]
      },
      {
       "output_type": "stream",
       "stream": "stdout",
       "text": [
        "\n",
        "Star Wars: The Clone Wars"
       ]
      },
      {
       "output_type": "stream",
       "stream": "stdout",
       "text": [
        "\n",
        "The Krays"
       ]
      },
      {
       "output_type": "stream",
       "stream": "stdout",
       "text": [
        "\n",
        "The Last Kiss"
       ]
      },
      {
       "output_type": "stream",
       "stream": "stdout",
       "text": [
        "\n"
       ]
      }
     ],
     "prompt_number": 190
    },
    {
     "cell_type": "code",
     "collapsed": false,
     "input": [
      "for i in imdb_trailer_data.values():\n",
      "    imdb_data.append(i)\n",
      "\n",
      "with open('imdb_data2.json', 'wb') as f:\n",
      "  json.dump(imdb_data, f)"
     ],
     "language": "python",
     "metadata": {},
     "outputs": [],
     "prompt_number": 221
    },
    {
     "cell_type": "heading",
     "level": 1,
     "metadata": {},
     "source": [
      "Join data"
     ]
    },
    {
     "cell_type": "code",
     "collapsed": false,
     "input": [
      "def _to_float(v,default):\n",
      "    try:\n",
      "        return float(v)\n",
      "    except ValueError:\n",
      "        return default"
     ],
     "language": "python",
     "metadata": {},
     "outputs": [],
     "prompt_number": 286
    },
    {
     "cell_type": "code",
     "collapsed": false,
     "input": [
      "imdb_df = pd.DataFrame([i for i in imdb_data if len(i) > 4])\n",
      "\n",
      "df = imdb_df[imdb_df['Title'].isin([i[:-7] for i in movies])]\n",
      "df = df.set_index('Title')\n",
      "df['Runtime'] = df['Runtime'].apply(lambda x:_to_float(x[:-4],np.nan))\n",
      "df['imdbVotes'] = df['imdbVotes'].apply(lambda x:_to_float(x.replace(',',''),np.nan))\n",
      "df = df.replace({'N/A':np.nan})\n",
      "df['imdbRating'] = df['imdbRating'].apply(float)\n",
      "df['Metascore'] = df['Metascore'].apply(float)\n",
      "df['Year'] = pd.to_datetime(df['Released'],format='%d %b %Y',unit='D').apply(lambda x: x.year)"
     ],
     "language": "python",
     "metadata": {},
     "outputs": [],
     "prompt_number": 397
    },
    {
     "cell_type": "code",
     "collapsed": false,
     "input": [
      "s = pd.Series({name[:-7]:c for name,c in odc.iteritems() if c > 0},name='Songs')\n",
      "df = df.join(s,how='left')\n",
      "#df = df.replace({'N/A':np.nan})\n",
      "df = df.dropna(axis=0)\n",
      "df = df.reset_index()"
     ],
     "language": "python",
     "metadata": {},
     "outputs": [],
     "prompt_number": 398
    },
    {
     "cell_type": "code",
     "collapsed": false,
     "input": [
      "revenue_df = pd.read_csv('revenue.csv',encoding='utf8',index_col=0,parse_dates=['Released'])"
     ],
     "language": "python",
     "metadata": {},
     "outputs": [],
     "prompt_number": 399
    },
    {
     "cell_type": "code",
     "collapsed": false,
     "input": [
      "df2 = pd.merge(df,revenue_df,left_on=['index','Year'],right_on=['Movie','Year'])\n",
      "df2.head()"
     ],
     "language": "python",
     "metadata": {},
     "outputs": [
      {
       "html": [
        "<div style=\"max-height:1000px;max-width:1500px;overflow:auto;\">\n",
        "<table border=\"1\" class=\"dataframe\">\n",
        "  <thead>\n",
        "    <tr style=\"text-align: right;\">\n",
        "      <th></th>\n",
        "      <th>index</th>\n",
        "      <th>Actors</th>\n",
        "      <th>Awards</th>\n",
        "      <th>Country</th>\n",
        "      <th>Director</th>\n",
        "      <th>Genre_x</th>\n",
        "      <th>Language</th>\n",
        "      <th>Metascore</th>\n",
        "      <th>Plot</th>\n",
        "      <th>Poster</th>\n",
        "      <th>...</th>\n",
        "      <th>imdbID</th>\n",
        "      <th>imdbRating</th>\n",
        "      <th>imdbVotes</th>\n",
        "      <th>Songs</th>\n",
        "      <th>Released_y</th>\n",
        "      <th>Movie</th>\n",
        "      <th>Genre_y</th>\n",
        "      <th>Budget</th>\n",
        "      <th>Revenue</th>\n",
        "      <th>Trailer</th>\n",
        "    </tr>\n",
        "  </thead>\n",
        "  <tbody>\n",
        "    <tr>\n",
        "      <th>0</th>\n",
        "      <td>   101 Dalmatians</td>\n",
        "      <td> Glenn Close, Jeff Daniels, Joely Richardson, J...</td>\n",
        "      <td> Nominated for 1 Golden Globe. Another 3 wins &amp;...</td>\n",
        "      <td>          USA</td>\n",
        "      <td>   Stephen Herek</td>\n",
        "      <td> Family, Comedy, Adventure</td>\n",
        "      <td>                                  English, Spanish</td>\n",
        "      <td> 49</td>\n",
        "      <td> A woman kidnaps puppies to kill them for their...</td>\n",
        "      <td> http://ia.media-imdb.com/images/M/MV5BMTkxNjQw...</td>\n",
        "      <td>...</td>\n",
        "      <td> tt0115433</td>\n",
        "      <td> 5.6</td>\n",
        "      <td>  55501</td>\n",
        "      <td> 1</td>\n",
        "      <td>1996-11-27</td>\n",
        "      <td>   101 Dalmatians</td>\n",
        "      <td>            Comedy</td>\n",
        "      <td>       NaN</td>\n",
        "      <td> 136189294</td>\n",
        "      <td>  NaN</td>\n",
        "    </tr>\n",
        "    <tr>\n",
        "      <th>1</th>\n",
        "      <td>       15 Minutes</td>\n",
        "      <td> Robert De Niro, Edward Burns, Kelsey Grammer, ...</td>\n",
        "      <td>                                     1 nomination.</td>\n",
        "      <td> USA, Germany</td>\n",
        "      <td>   John Herzfeld</td>\n",
        "      <td>      Action, Crime, Drama</td>\n",
        "      <td>         English, Czech, Russian, Greek, Afrikaans</td>\n",
        "      <td> 34</td>\n",
        "      <td> A homicide detective and a fire marshall must ...</td>\n",
        "      <td> http://ia.media-imdb.com/images/M/MV5BMTI3MzQ1...</td>\n",
        "      <td>...</td>\n",
        "      <td> tt0179626</td>\n",
        "      <td> 6.1</td>\n",
        "      <td>  38003</td>\n",
        "      <td> 2</td>\n",
        "      <td>2001-03-09</td>\n",
        "      <td>       15 Minutes</td>\n",
        "      <td> Thriller/Suspense</td>\n",
        "      <td>  42000000</td>\n",
        "      <td>  24375436</td>\n",
        "      <td>  NaN</td>\n",
        "    </tr>\n",
        "    <tr>\n",
        "      <th>2</th>\n",
        "      <td>        16 Blocks</td>\n",
        "      <td>   Bruce Willis, Mos Def, David Morse, Jenna Stern</td>\n",
        "      <td>                                     1 nomination.</td>\n",
        "      <td> Germany, USA</td>\n",
        "      <td>  Richard Donner</td>\n",
        "      <td>      Action, Crime, Drama</td>\n",
        "      <td>                                           English</td>\n",
        "      <td> 63</td>\n",
        "      <td> An aging cop is assigned the ordinary task of ...</td>\n",
        "      <td> http://ia.media-imdb.com/images/M/MV5BMTQ1NDEw...</td>\n",
        "      <td>...</td>\n",
        "      <td> tt0450232</td>\n",
        "      <td> 6.6</td>\n",
        "      <td>  99481</td>\n",
        "      <td> 1</td>\n",
        "      <td>2006-03-03</td>\n",
        "      <td>        16 Blocks</td>\n",
        "      <td>            Action</td>\n",
        "      <td>  45000000</td>\n",
        "      <td>  36895141</td>\n",
        "      <td>  NaN</td>\n",
        "    </tr>\n",
        "    <tr>\n",
        "      <th>3</th>\n",
        "      <td> 2 Fast 2 Furious</td>\n",
        "      <td> Paul Walker, Tyrese Gibson, Eva Mendes, Cole H...</td>\n",
        "      <td>                          3 wins &amp; 13 nominations.</td>\n",
        "      <td> USA, Germany</td>\n",
        "      <td>  John Singleton</td>\n",
        "      <td>   Action, Crime, Thriller</td>\n",
        "      <td>                                  English, Spanish</td>\n",
        "      <td> 38</td>\n",
        "      <td> Brian O'Conner and childhood friend Roman Pear...</td>\n",
        "      <td> http://ia.media-imdb.com/images/M/MV5BMTIyMDUw...</td>\n",
        "      <td>...</td>\n",
        "      <td> tt0322259</td>\n",
        "      <td> 5.6</td>\n",
        "      <td> 124488</td>\n",
        "      <td> 3</td>\n",
        "      <td>2003-06-06</td>\n",
        "      <td> 2 Fast 2 Furious</td>\n",
        "      <td>            Action</td>\n",
        "      <td>  76000000</td>\n",
        "      <td> 127120058</td>\n",
        "      <td>  NaN</td>\n",
        "    </tr>\n",
        "    <tr>\n",
        "      <th>4</th>\n",
        "      <td>             2012</td>\n",
        "      <td> John Cusack, Amanda Peet, Chiwetel Ejiofor, Th...</td>\n",
        "      <td>                          4 wins &amp; 16 nominations.</td>\n",
        "      <td>          USA</td>\n",
        "      <td> Roland Emmerich</td>\n",
        "      <td> Action, Adventure, Sci-Fi</td>\n",
        "      <td> English, French, Tibetan, Mandarin, Russian, H...</td>\n",
        "      <td> 49</td>\n",
        "      <td> A frustrated writer struggles to keep his fami...</td>\n",
        "      <td> http://ia.media-imdb.com/images/M/MV5BMTY0MjEy...</td>\n",
        "      <td>...</td>\n",
        "      <td> tt1190080</td>\n",
        "      <td> 5.8</td>\n",
        "      <td> 211022</td>\n",
        "      <td> 3</td>\n",
        "      <td>2009-11-13</td>\n",
        "      <td>             2012</td>\n",
        "      <td>            Action</td>\n",
        "      <td> 200000000</td>\n",
        "      <td> 166112167</td>\n",
        "      <td> Play</td>\n",
        "    </tr>\n",
        "  </tbody>\n",
        "</table>\n",
        "<p>5 rows \u00d7 27 columns</p>\n",
        "</div>"
       ],
       "metadata": {},
       "output_type": "pyout",
       "prompt_number": 400,
       "text": [
        "              index                                             Actors  \\\n",
        "0    101 Dalmatians  Glenn Close, Jeff Daniels, Joely Richardson, J...   \n",
        "1        15 Minutes  Robert De Niro, Edward Burns, Kelsey Grammer, ...   \n",
        "2         16 Blocks    Bruce Willis, Mos Def, David Morse, Jenna Stern   \n",
        "3  2 Fast 2 Furious  Paul Walker, Tyrese Gibson, Eva Mendes, Cole H...   \n",
        "4              2012  John Cusack, Amanda Peet, Chiwetel Ejiofor, Th...   \n",
        "\n",
        "                                              Awards       Country  \\\n",
        "0  Nominated for 1 Golden Globe. Another 3 wins &...           USA   \n",
        "1                                      1 nomination.  USA, Germany   \n",
        "2                                      1 nomination.  Germany, USA   \n",
        "3                           3 wins & 13 nominations.  USA, Germany   \n",
        "4                           4 wins & 16 nominations.           USA   \n",
        "\n",
        "          Director                    Genre_x  \\\n",
        "0    Stephen Herek  Family, Comedy, Adventure   \n",
        "1    John Herzfeld       Action, Crime, Drama   \n",
        "2   Richard Donner       Action, Crime, Drama   \n",
        "3   John Singleton    Action, Crime, Thriller   \n",
        "4  Roland Emmerich  Action, Adventure, Sci-Fi   \n",
        "\n",
        "                                            Language  Metascore  \\\n",
        "0                                   English, Spanish         49   \n",
        "1          English, Czech, Russian, Greek, Afrikaans         34   \n",
        "2                                            English         63   \n",
        "3                                   English, Spanish         38   \n",
        "4  English, French, Tibetan, Mandarin, Russian, H...         49   \n",
        "\n",
        "                                                Plot  \\\n",
        "0  A woman kidnaps puppies to kill them for their...   \n",
        "1  A homicide detective and a fire marshall must ...   \n",
        "2  An aging cop is assigned the ordinary task of ...   \n",
        "3  Brian O'Conner and childhood friend Roman Pear...   \n",
        "4  A frustrated writer struggles to keep his fami...   \n",
        "\n",
        "                                              Poster  \\\n",
        "0  http://ia.media-imdb.com/images/M/MV5BMTkxNjQw...   \n",
        "1  http://ia.media-imdb.com/images/M/MV5BMTI3MzQ1...   \n",
        "2  http://ia.media-imdb.com/images/M/MV5BMTQ1NDEw...   \n",
        "3  http://ia.media-imdb.com/images/M/MV5BMTIyMDUw...   \n",
        "4  http://ia.media-imdb.com/images/M/MV5BMTY0MjEy...   \n",
        "\n",
        "                         ...                             imdbID imdbRating  \\\n",
        "0                        ...                          tt0115433        5.6   \n",
        "1                        ...                          tt0179626        6.1   \n",
        "2                        ...                          tt0450232        6.6   \n",
        "3                        ...                          tt0322259        5.6   \n",
        "4                        ...                          tt1190080        5.8   \n",
        "\n",
        "  imdbVotes  Songs Released_y             Movie            Genre_y     Budget  \\\n",
        "0     55501      1 1996-11-27    101 Dalmatians             Comedy        NaN   \n",
        "1     38003      2 2001-03-09        15 Minutes  Thriller/Suspense   42000000   \n",
        "2     99481      1 2006-03-03         16 Blocks             Action   45000000   \n",
        "3    124488      3 2003-06-06  2 Fast 2 Furious             Action   76000000   \n",
        "4    211022      3 2009-11-13              2012             Action  200000000   \n",
        "\n",
        "     Revenue  Trailer  \n",
        "0  136189294      NaN  \n",
        "1   24375436      NaN  \n",
        "2   36895141      NaN  \n",
        "3  127120058      NaN  \n",
        "4  166112167     Play  \n",
        "\n",
        "[5 rows x 27 columns]"
       ]
      }
     ],
     "prompt_number": 400
    },
    {
     "cell_type": "code",
     "collapsed": false,
     "input": [
      "df2.to_csv('joined_data.csv',encoding='utf8')"
     ],
     "language": "python",
     "metadata": {},
     "outputs": [],
     "prompt_number": 401
    },
    {
     "cell_type": "heading",
     "level": 1,
     "metadata": {},
     "source": [
      "Analysis by genre"
     ]
    },
    {
     "cell_type": "code",
     "collapsed": false,
     "input": [
      "sns.factorplot('Genre_y','Songs',data=df2,kind='auto')\n",
      "plt.xticks(rotation=60)\n",
      "plt.xlabel('')\n",
      "#plt.ylim((0,10))"
     ],
     "language": "python",
     "metadata": {},
     "outputs": [
      {
       "metadata": {},
       "output_type": "pyout",
       "prompt_number": 384,
       "text": [
        "<matplotlib.text.Text at 0x125e84cd0>"
       ]
      },
      {
       "metadata": {},
       "output_type": "display_data",
       "png": "[encoded data removed]",
       "text": [
        "<matplotlib.figure.Figure at 0x120486810>"
       ]
      }
     ],
     "prompt_number": 384
    },
    {
     "cell_type": "heading",
     "level": 1,
     "metadata": {},
     "source": [
      "Analysis by rating"
     ]
    },
    {
     "cell_type": "code",
     "collapsed": false,
     "input": [
      "df2_normal_ratings = df2[df2['Rated'].isin(['G','PG','PG-13','R','NC-17'])]\n",
      "sns.factorplot('Rated','Songs',data=df2_normal_ratings,kind='auto',x_order=['G','PG','PG-13','R','NC-17'])\n",
      "plt.xticks(rotation=60)\n",
      "plt.xlabel('')\n",
      "#plt.ylim((0,10))"
     ],
     "language": "python",
     "metadata": {},
     "outputs": [
      {
       "metadata": {},
       "output_type": "pyout",
       "prompt_number": 420,
       "text": [
        "<matplotlib.text.Text at 0x124b7dc10>"
       ]
      },
      {
       "metadata": {},
       "output_type": "display_data",
       "png": "[encoded data removed]",
       "text": [
        "<matplotlib.figure.Figure at 0x124b79e90>"
       ]
      }
     ],
     "prompt_number": 420
    },
    {
     "cell_type": "heading",
     "level": 1,
     "metadata": {},
     "source": [
      "Analysis by director"
     ]
    },
    {
     "cell_type": "code",
     "collapsed": false,
     "input": [
      "directors_df = df2.groupby('Director').agg({'index':len,\n",
      "                             'Songs':np.mean})\n",
      "directors_df[directors_df['index']>=5].sort('Songs',ascending=False)"
     ],
     "language": "python",
     "metadata": {},
     "outputs": [
      {
       "html": [
        "<div style=\"max-height:1000px;max-width:1500px;overflow:auto;\">\n",
        "<table border=\"1\" class=\"dataframe\">\n",
        "  <thead>\n",
        "    <tr style=\"text-align: right;\">\n",
        "      <th></th>\n",
        "      <th>index</th>\n",
        "      <th>Songs</th>\n",
        "    </tr>\n",
        "    <tr>\n",
        "      <th>Director</th>\n",
        "      <th></th>\n",
        "      <th></th>\n",
        "    </tr>\n",
        "  </thead>\n",
        "  <tbody>\n",
        "    <tr>\n",
        "      <th>Sam Raimi</th>\n",
        "      <td>  5</td>\n",
        "      <td> 6.600000</td>\n",
        "    </tr>\n",
        "    <tr>\n",
        "      <th>Robert Zemeckis</th>\n",
        "      <td>  5</td>\n",
        "      <td> 6.200000</td>\n",
        "    </tr>\n",
        "    <tr>\n",
        "      <th>Gore Verbinski</th>\n",
        "      <td>  6</td>\n",
        "      <td> 5.666667</td>\n",
        "    </tr>\n",
        "    <tr>\n",
        "      <th>Andy Wachowski, Lana Wachowski</th>\n",
        "      <td>  5</td>\n",
        "      <td> 5.600000</td>\n",
        "    </tr>\n",
        "    <tr>\n",
        "      <th>Michael Bay</th>\n",
        "      <td>  7</td>\n",
        "      <td> 3.857143</td>\n",
        "    </tr>\n",
        "    <tr>\n",
        "      <th>Ron Howard</th>\n",
        "      <td>  7</td>\n",
        "      <td> 3.857143</td>\n",
        "    </tr>\n",
        "    <tr>\n",
        "      <th>Peter Berg</th>\n",
        "      <td>  5</td>\n",
        "      <td> 3.800000</td>\n",
        "    </tr>\n",
        "    <tr>\n",
        "      <th>James Cameron</th>\n",
        "      <td>  5</td>\n",
        "      <td> 3.600000</td>\n",
        "    </tr>\n",
        "    <tr>\n",
        "      <th>Adam Shankman</th>\n",
        "      <td>  5</td>\n",
        "      <td> 3.600000</td>\n",
        "    </tr>\n",
        "    <tr>\n",
        "      <th>Roland Emmerich</th>\n",
        "      <td>  7</td>\n",
        "      <td> 3.428571</td>\n",
        "    </tr>\n",
        "    <tr>\n",
        "      <th>Brett Ratner</th>\n",
        "      <td>  6</td>\n",
        "      <td> 3.333333</td>\n",
        "    </tr>\n",
        "    <tr>\n",
        "      <th>Peter Jackson</th>\n",
        "      <td>  6</td>\n",
        "      <td> 3.166667</td>\n",
        "    </tr>\n",
        "    <tr>\n",
        "      <th>Steven Spielberg</th>\n",
        "      <td> 10</td>\n",
        "      <td> 3.100000</td>\n",
        "    </tr>\n",
        "    <tr>\n",
        "      <th>Danny Boyle</th>\n",
        "      <td>  5</td>\n",
        "      <td> 3.000000</td>\n",
        "    </tr>\n",
        "    <tr>\n",
        "      <th>Curtis Hanson</th>\n",
        "      <td>  5</td>\n",
        "      <td> 3.000000</td>\n",
        "    </tr>\n",
        "    <tr>\n",
        "      <th>Ridley Scott</th>\n",
        "      <td>  9</td>\n",
        "      <td> 3.000000</td>\n",
        "    </tr>\n",
        "    <tr>\n",
        "      <th>M. Night Shyamalan</th>\n",
        "      <td>  7</td>\n",
        "      <td> 2.857143</td>\n",
        "    </tr>\n",
        "    <tr>\n",
        "      <th>Raja Gosnell</th>\n",
        "      <td>  5</td>\n",
        "      <td> 2.600000</td>\n",
        "    </tr>\n",
        "    <tr>\n",
        "      <th>Spike Lee</th>\n",
        "      <td>  5</td>\n",
        "      <td> 2.400000</td>\n",
        "    </tr>\n",
        "    <tr>\n",
        "      <th>Steven Soderbergh</th>\n",
        "      <td>  5</td>\n",
        "      <td> 2.400000</td>\n",
        "    </tr>\n",
        "    <tr>\n",
        "      <th>Andy Tennant</th>\n",
        "      <td>  5</td>\n",
        "      <td> 2.400000</td>\n",
        "    </tr>\n",
        "    <tr>\n",
        "      <th>Wes Craven</th>\n",
        "      <td>  6</td>\n",
        "      <td> 2.333333</td>\n",
        "    </tr>\n",
        "    <tr>\n",
        "      <th>Tony Scott</th>\n",
        "      <td>  8</td>\n",
        "      <td> 2.250000</td>\n",
        "    </tr>\n",
        "    <tr>\n",
        "      <th>Shawn Levy</th>\n",
        "      <td>  5</td>\n",
        "      <td> 2.200000</td>\n",
        "    </tr>\n",
        "    <tr>\n",
        "      <th>Tom Shadyac</th>\n",
        "      <td>  6</td>\n",
        "      <td> 2.166667</td>\n",
        "    </tr>\n",
        "    <tr>\n",
        "      <th>Martin Scorsese</th>\n",
        "      <td>  7</td>\n",
        "      <td> 2.000000</td>\n",
        "    </tr>\n",
        "    <tr>\n",
        "      <th>Clint Eastwood</th>\n",
        "      <td>  5</td>\n",
        "      <td> 2.000000</td>\n",
        "    </tr>\n",
        "    <tr>\n",
        "      <th>Michael Mann</th>\n",
        "      <td>  6</td>\n",
        "      <td> 1.833333</td>\n",
        "    </tr>\n",
        "    <tr>\n",
        "      <th>Brian Robbins</th>\n",
        "      <td>  5</td>\n",
        "      <td> 1.800000</td>\n",
        "    </tr>\n",
        "    <tr>\n",
        "      <th>Paul Verhoeven</th>\n",
        "      <td>  5</td>\n",
        "      <td> 1.600000</td>\n",
        "    </tr>\n",
        "    <tr>\n",
        "      <th>Joel Schumacher</th>\n",
        "      <td>  7</td>\n",
        "      <td> 1.571429</td>\n",
        "    </tr>\n",
        "    <tr>\n",
        "      <th>Dennis Dugan</th>\n",
        "      <td>  5</td>\n",
        "      <td> 1.400000</td>\n",
        "    </tr>\n",
        "    <tr>\n",
        "      <th>James Foley</th>\n",
        "      <td>  5</td>\n",
        "      <td> 1.200000</td>\n",
        "    </tr>\n",
        "    <tr>\n",
        "      <th>Chris Columbus</th>\n",
        "      <td>  5</td>\n",
        "      <td> 1.200000</td>\n",
        "    </tr>\n",
        "  </tbody>\n",
        "</table>\n",
        "</div>"
       ],
       "metadata": {},
       "output_type": "pyout",
       "prompt_number": 387,
       "text": [
        "                                index     Songs\n",
        "Director                                       \n",
        "Sam Raimi                           5  6.600000\n",
        "Robert Zemeckis                     5  6.200000\n",
        "Gore Verbinski                      6  5.666667\n",
        "Andy Wachowski, Lana Wachowski      5  5.600000\n",
        "Michael Bay                         7  3.857143\n",
        "Ron Howard                          7  3.857143\n",
        "Peter Berg                          5  3.800000\n",
        "James Cameron                       5  3.600000\n",
        "Adam Shankman                       5  3.600000\n",
        "Roland Emmerich                     7  3.428571\n",
        "Brett Ratner                        6  3.333333\n",
        "Peter Jackson                       6  3.166667\n",
        "Steven Spielberg                   10  3.100000\n",
        "Danny Boyle                         5  3.000000\n",
        "Curtis Hanson                       5  3.000000\n",
        "Ridley Scott                        9  3.000000\n",
        "M. Night Shyamalan                  7  2.857143\n",
        "Raja Gosnell                        5  2.600000\n",
        "Spike Lee                           5  2.400000\n",
        "Steven Soderbergh                   5  2.400000\n",
        "Andy Tennant                        5  2.400000\n",
        "Wes Craven                          6  2.333333\n",
        "Tony Scott                          8  2.250000\n",
        "Shawn Levy                          5  2.200000\n",
        "Tom Shadyac                         6  2.166667\n",
        "Martin Scorsese                     7  2.000000\n",
        "Clint Eastwood                      5  2.000000\n",
        "Michael Mann                        6  1.833333\n",
        "Brian Robbins                       5  1.800000\n",
        "Paul Verhoeven                      5  1.600000\n",
        "Joel Schumacher                     7  1.571429\n",
        "Dennis Dugan                        5  1.400000\n",
        "James Foley                         5  1.200000\n",
        "Chris Columbus                      5  1.200000"
       ]
      }
     ],
     "prompt_number": 387
    },
    {
     "cell_type": "heading",
     "level": 1,
     "metadata": {},
     "source": [
      "Statistical models"
     ]
    },
    {
     "cell_type": "code",
     "collapsed": false,
     "input": [
      "df2_lt_10 = df2_normal_ratings[df2_normal_ratings['Songs'] <= 10]"
     ],
     "language": "python",
     "metadata": {},
     "outputs": [],
     "prompt_number": 448
    },
    {
     "cell_type": "code",
     "collapsed": false,
     "input": [
      "m_revenue = smf.ols(formula='np.log(Revenue+1) ~ Metascore + imdbRating + C(Year) + C(Genre_y) + np.log(Budget+1) + C(Rated) + Songs + I(Songs**2)', data=df2_normal_ratings).fit()\n",
      "print m_revenue.summary()"
     ],
     "language": "python",
     "metadata": {},
     "outputs": [
      {
       "output_type": "stream",
       "stream": "stdout",
       "text": [
        "                             OLS Regression Results                            \n",
        "===============================================================================\n",
        "Dep. Variable:     np.log(Revenue + 1)   R-squared:                       0.513\n",
        "Model:                             OLS   Adj. R-squared:                  0.484\n",
        "Method:                  Least Squares   F-statistic:                     17.75\n",
        "Date:                 Thu, 12 Jun 2014   Prob (F-statistic):          1.34e-105\n",
        "Time:                         14:59:42   Log-Likelihood:                -1118.8\n",
        "No. Observations:                  946   AIC:                             2346.\n",
        "Df Residuals:                      892   BIC:                             2608.\n",
        "Df Model:                           53                                         \n",
        "===================================================================================================\n",
        "                                      coef    std err          t      P>|t|      [95.0% Conf. Int.]\n",
        "---------------------------------------------------------------------------------------------------\n",
        "Intercept                           7.1220      1.003      7.097      0.000         5.153     9.091\n",
        "C(Year)[T.1979]                    -1.5519      1.015     -1.529      0.127        -3.544     0.440\n",
        "C(Year)[T.1980]                    -2.2126      1.169     -1.893      0.059        -4.507     0.081\n",
        "C(Year)[T.1981]                    -0.7751      1.160     -0.668      0.504        -3.051     1.501\n",
        "C(Year)[T.1982]                    -1.1904      1.016     -1.172      0.242        -3.184     0.803\n",
        "C(Year)[T.1984]                    -1.1288      1.157     -0.976      0.329        -3.399     1.142\n",
        "C(Year)[T.1986]                    -1.2518      1.165     -1.074      0.283        -3.539     1.035\n",
        "C(Year)[T.1987]                    -0.8965      0.957     -0.937      0.349        -2.774     0.981\n",
        "C(Year)[T.1988]                    -1.5702      1.019     -1.540      0.124        -3.571     0.431\n",
        "C(Year)[T.1989]                    -2.0795      1.019     -2.040      0.042        -4.080    -0.079\n",
        "C(Year)[T.1990]                    -1.2982      1.172     -1.107      0.268        -3.599     1.003\n",
        "C(Year)[T.1991]                    -1.5854      1.023     -1.550      0.122        -3.593     0.422\n",
        "C(Year)[T.1992]                    -1.3816      0.965     -1.432      0.153        -3.276     0.513\n",
        "C(Year)[T.1993]                    -1.3275      0.889     -1.493      0.136        -3.073     0.418\n",
        "C(Year)[T.1994]                    -1.3529      0.869     -1.557      0.120        -3.058     0.352\n",
        "C(Year)[T.1995]                    -1.7179      0.865     -1.985      0.047        -3.416    -0.020\n",
        "C(Year)[T.1996]                    -1.6247      0.858     -1.894      0.059        -3.308     0.059\n",
        "C(Year)[T.1997]                    -1.7074      0.854     -2.000      0.046        -3.383    -0.032\n",
        "C(Year)[T.1998]                    -1.7301      0.851     -2.034      0.042        -3.399    -0.061\n",
        "C(Year)[T.1999]                    -1.9581      0.847     -2.312      0.021        -3.620    -0.296\n",
        "C(Year)[T.2000]                    -1.8506      0.847     -2.185      0.029        -3.513    -0.188\n",
        "C(Year)[T.2001]                    -1.8796      0.848     -2.215      0.027        -3.545    -0.214\n",
        "C(Year)[T.2002]                    -2.0194      0.846     -2.388      0.017        -3.679    -0.359\n",
        "C(Year)[T.2003]                    -1.8513      0.844     -2.194      0.029        -3.508    -0.195\n",
        "C(Year)[T.2004]                    -2.0888      0.843     -2.478      0.013        -3.743    -0.435\n",
        "C(Year)[T.2005]                    -2.2587      0.843     -2.679      0.008        -3.913    -0.604\n",
        "C(Year)[T.2006]                    -2.0906      0.843     -2.479      0.013        -3.746    -0.435\n",
        "C(Year)[T.2007]                    -2.1614      0.843     -2.564      0.011        -3.816    -0.507\n",
        "C(Year)[T.2008]                    -1.8398      0.852     -2.160      0.031        -3.511    -0.168\n",
        "C(Year)[T.2009]                    -1.5799      0.855     -1.848      0.065        -3.258     0.098\n",
        "C(Year)[T.2010]                    -1.5022      0.875     -1.717      0.086        -3.220     0.215\n",
        "C(Year)[T.2011]                    -2.0900      0.880     -2.375      0.018        -3.817    -0.363\n",
        "C(Year)[T.2012]                    -1.7565      0.876     -2.005      0.045        -3.476    -0.037\n",
        "C(Year)[T.2013]                    -1.8323      0.862     -2.127      0.034        -3.523    -0.141\n",
        "C(Year)[T.2014]                    -1.1682      1.172     -0.997      0.319        -3.468     1.132\n",
        "C(Genre_y)[T.Adventure]            -0.1119      0.110     -1.016      0.310        -0.328     0.104\n",
        "C(Genre_y)[T.Black Comedy]         -0.2535      0.247     -1.028      0.304        -0.737     0.230\n",
        "C(Genre_y)[T.Comedy]                0.2531      0.100      2.531      0.012         0.057     0.449\n",
        "C(Genre_y)[T.Documentary]           2.2268      0.825      2.698      0.007         0.607     3.847\n",
        "C(Genre_y)[T.Drama]                -0.3147      0.094     -3.334      0.001        -0.500    -0.129\n",
        "C(Genre_y)[T.Horror]                0.4359      0.131      3.338      0.001         0.180     0.692\n",
        "C(Genre_y)[T.Musical]              -0.1439      0.479     -0.300      0.764        -1.085     0.797\n",
        "C(Genre_y)[T.Romantic Comedy]       0.1505      0.138      1.087      0.277        -0.121     0.422\n",
        "C(Genre_y)[T.Thriller/Suspense]    -0.1188      0.108     -1.098      0.273        -0.331     0.094\n",
        "C(Genre_y)[T.Western]              -0.8371      0.247     -3.394      0.001        -1.321    -0.353\n",
        "C(Rated)[T.NC-17]                  -0.8240      0.620     -1.328      0.184        -2.041     0.393\n",
        "C(Rated)[T.PG]                     -0.2136      0.197     -1.086      0.278        -0.600     0.173\n",
        "C(Rated)[T.PG-13]                  -0.2845      0.192     -1.480      0.139        -0.662     0.093\n",
        "C(Rated)[T.R]                      -0.6893      0.197     -3.491      0.001        -1.077    -0.302\n",
        "Metascore                           0.0116      0.003      4.627      0.000         0.007     0.017\n",
        "imdbRating                          0.1643      0.042      3.872      0.000         0.081     0.248\n",
        "np.log(Budget + 1)                  0.6311      0.036     17.472      0.000         0.560     0.702\n",
        "Songs                               0.0882      0.024      3.664      0.000         0.041     0.135\n",
        "I(Songs ** 2)                      -0.0032      0.001     -2.155      0.031        -0.006    -0.000\n",
        "==============================================================================\n",
        "Omnibus:                      136.331   Durbin-Watson:                   1.858\n",
        "Prob(Omnibus):                  0.000   Jarque-Bera (JB):              287.371\n",
        "Skew:                          -0.832   Prob(JB):                     3.96e-63\n",
        "Kurtosis:                       5.127   Cond. No.                     1.16e+04\n",
        "==============================================================================\n",
        "\n",
        "Warnings:\n",
        "[1] The condition number is large, 1.16e+04. This might indicate that there are\n",
        "strong multicollinearity or other numerical problems.\n"
       ]
      }
     ],
     "prompt_number": 454
    },
    {
     "cell_type": "code",
     "collapsed": false,
     "input": [
      "# Estimate model without the Songs and containing only the control IVs to get residuals\n",
      "m_revenue_res = smf.ols(formula='np.log(Revenue+1) ~ Metascore + imdbRating + C(Year) + C(Genre_y) + np.log(Budget+1) + C(Rated)', data=df2_normal_ratings).fit()\n",
      "\n",
      "# Put these residual estimates in a temporary DataFrame\n",
      "df_temp = df2_normal_ratings\n",
      "df_temp['residuals'] = m_revenue_res.resid\n",
      "\n",
      "m_revenue_res_iv = smf.ols(formula='residuals ~ Songs + I(Songs**2)', data=df_temp).fit()\n",
      "m_revenue_res_iv_x = pd.DataFrame({'Songs':np.linspace(min(df2_normal_ratings['Songs']),max(df2_normal_ratings['Songs']),100)})\n",
      "\n",
      "plt.plot(m_revenue_res_iv_x['Songs'],m_revenue_res_iv.predict(m_revenue_res_iv_x),c='r')\n",
      "\n",
      "# Plot with an alpha so the overlaps reveal something about relative density\n",
      "plt.scatter(df2_normal_ratings['Songs'],df_temp['residuals'],alpha=.2,label='Data',c='g')\n",
      "#plt.xticks(np.range(0,4))\n",
      "plt.autoscale()\n",
      "plt.xlabel('Songs in trailer',fontsize=18)\n",
      "plt.ylabel('Residual revenue',fontsize=18)\n",
      "plt.ylim((-3,3))\n",
      "plt.xlim((-1,30))\n",
      "#plt.legend(loc='upper right')"
     ],
     "language": "python",
     "metadata": {},
     "outputs": [
      {
       "metadata": {},
       "output_type": "pyout",
       "prompt_number": 456,
       "text": [
        "(-1, 30)"
       ]
      },
      {
       "metadata": {},
       "output_type": "display_data",
       "png": "[encoded data removed]",
       "text": [
        "<matplotlib.figure.Figure at 0x1204602d0>"
       ]
      }
     ],
     "prompt_number": 456
    },
    {
     "cell_type": "code",
     "collapsed": false,
     "input": [
      "100*(np.e**m_revenue.params['Songs']-1)"
     ],
     "language": "python",
     "metadata": {},
     "outputs": [
      {
       "metadata": {},
       "output_type": "pyout",
       "prompt_number": 432,
       "text": [
        "9.2160002959055021"
       ]
      }
     ],
     "prompt_number": 432
    },
    {
     "cell_type": "code",
     "collapsed": false,
     "input": [
      "m_metascore = smf.ols(formula='Metascore ~ np.log(Revenue+1) + imdbRating + C(Year) + C(Genre_y) + np.log(Budget+1) + Songs + C(Rated)', data=df2_normal_ratings).fit()\n",
      "print m_metascore.summary()"
     ],
     "language": "python",
     "metadata": {},
     "outputs": [
      {
       "output_type": "stream",
       "stream": "stdout",
       "text": [
        "                            OLS Regression Results                            \n",
        "==============================================================================\n",
        "Dep. Variable:              Metascore   R-squared:                       0.636\n",
        "Model:                            OLS   Adj. R-squared:                  0.615\n",
        "Method:                 Least Squares   F-statistic:                     30.04\n",
        "Date:                Thu, 12 Jun 2014   Prob (F-statistic):          2.29e-160\n",
        "Time:                        14:29:01   Log-Likelihood:                -3556.9\n",
        "No. Observations:                 946   AIC:                             7220.\n",
        "Df Residuals:                     893   BIC:                             7477.\n",
        "Df Model:                          52                                         \n",
        "===================================================================================================\n",
        "                                      coef    std err          t      P>|t|      [95.0% Conf. Int.]\n",
        "---------------------------------------------------------------------------------------------------\n",
        "Intercept                          -5.6529     13.565     -0.417      0.677       -32.276    20.970\n",
        "C(Year)[T.1979]                    -8.2882     13.359     -0.620      0.535       -34.506    17.930\n",
        "C(Year)[T.1980]                     5.4350     15.388      0.353      0.724       -24.766    35.636\n",
        "C(Year)[T.1981]                   -20.4244     15.226     -1.341      0.180       -50.306     9.458\n",
        "C(Year)[T.1982]                   -20.6723     13.334     -1.550      0.121       -46.843     5.498\n",
        "C(Year)[T.1984]                     1.3670     15.206      0.090      0.928       -28.477    31.211\n",
        "C(Year)[T.1986]                    -1.5435     15.330     -0.101      0.920       -31.631    28.544\n",
        "C(Year)[T.1987]                   -11.4658     12.566     -0.912      0.362       -36.128    13.196\n",
        "C(Year)[T.1988]                   -24.3354     13.388     -1.818      0.069       -50.612     1.941\n",
        "C(Year)[T.1989]                    -9.7484     13.429     -0.726      0.468       -36.104    16.607\n",
        "C(Year)[T.1990]                     0.9234     15.414      0.060      0.952       -29.328    31.175\n",
        "C(Year)[T.1991]                   -14.7812     13.445     -1.099      0.272       -41.168    11.606\n",
        "C(Year)[T.1992]                    -8.8409     12.690     -0.697      0.486       -33.747    16.065\n",
        "C(Year)[T.1993]                    -8.6973     11.692     -0.744      0.457       -31.645    14.250\n",
        "C(Year)[T.1994]                   -14.6414     11.422     -1.282      0.200       -37.058     7.775\n",
        "C(Year)[T.1995]                    -5.4832     11.396     -0.481      0.631       -27.850    16.884\n",
        "C(Year)[T.1996]                    -9.2909     11.290     -0.823      0.411       -31.449    12.867\n",
        "C(Year)[T.1997]                    -5.0806     11.241     -0.452      0.651       -27.143    16.981\n",
        "C(Year)[T.1998]                   -12.1852     11.196     -1.088      0.277       -34.158     9.788\n",
        "C(Year)[T.1999]                   -11.7838     11.154     -1.056      0.291       -33.675    10.107\n",
        "C(Year)[T.2000]                   -13.1708     11.152     -1.181      0.238       -35.058     8.717\n",
        "C(Year)[T.2001]                   -14.5740     11.171     -1.305      0.192       -36.498     7.350\n",
        "C(Year)[T.2002]                    -9.3932     11.149     -0.843      0.400       -31.275    12.488\n",
        "C(Year)[T.2003]                   -11.4259     11.117     -1.028      0.304       -33.244    10.392\n",
        "C(Year)[T.2004]                   -11.9997     11.112     -1.080      0.280       -33.808     9.808\n",
        "C(Year)[T.2005]                    -8.9909     11.123     -0.808      0.419       -30.821    12.840\n",
        "C(Year)[T.2006]                    -9.2006     11.120     -0.827      0.408       -31.024    12.623\n",
        "C(Year)[T.2007]                    -9.4502     11.113     -0.850      0.395       -31.261    12.360\n",
        "C(Year)[T.2008]                   -12.8997     11.218     -1.150      0.250       -34.916     9.116\n",
        "C(Year)[T.2009]                   -11.8115     11.248     -1.050      0.294       -33.886    10.263\n",
        "C(Year)[T.2010]                    -9.5196     11.506     -0.827      0.408       -32.101    13.062\n",
        "C(Year)[T.2011]                    -8.6269     11.592     -0.744      0.457       -31.379    14.125\n",
        "C(Year)[T.2012]                   -12.6466     11.521     -1.098      0.273       -35.259     9.966\n",
        "C(Year)[T.2013]                   -13.8075     11.338     -1.218      0.224       -36.060     8.445\n",
        "C(Year)[T.2014]                    -9.9553     15.399     -0.646      0.518       -40.179    20.268\n",
        "C(Genre_y)[T.Adventure]             5.1569      1.439      3.584      0.000         2.333     7.981\n",
        "C(Genre_y)[T.Black Comedy]          8.9163      3.232      2.759      0.006         2.574    15.259\n",
        "C(Genre_y)[T.Comedy]                2.1553      1.317      1.636      0.102        -0.430     4.741\n",
        "C(Genre_y)[T.Documentary]          -0.7522     10.900     -0.069      0.945       -22.145    20.640\n",
        "C(Genre_y)[T.Drama]                 2.9294      1.245      2.353      0.019         0.486     5.373\n",
        "C(Genre_y)[T.Horror]               -2.5424      1.723     -1.476      0.140        -5.923     0.838\n",
        "C(Genre_y)[T.Musical]              -1.5912      6.306     -0.252      0.801       -13.968    10.786\n",
        "C(Genre_y)[T.Romantic Comedy]       0.8206      1.820      0.451      0.652        -2.752     4.393\n",
        "C(Genre_y)[T.Thriller/Suspense]    -1.0287      1.423     -0.723      0.470        -3.822     1.765\n",
        "C(Genre_y)[T.Western]               5.3875      3.257      1.654      0.098        -1.004    11.779\n",
        "C(Rated)[T.NC-17]                 -23.3023      8.127     -2.867      0.004       -39.252    -7.352\n",
        "C(Rated)[T.PG]                     -6.5698      2.580     -2.547      0.011       -11.633    -1.507\n",
        "C(Rated)[T.PG-13]                  -7.3644      2.518     -2.924      0.004       -12.307    -2.422\n",
        "C(Rated)[T.R]                      -7.3570      2.602     -2.827      0.005       -12.464    -2.250\n",
        "np.log(Revenue + 1)                 2.0218      0.434      4.658      0.000         1.170     2.874\n",
        "imdbRating                         11.5537      0.409     28.242      0.000        10.751    12.357\n",
        "np.log(Budget + 1)                 -2.0008      0.546     -3.665      0.000        -3.072    -0.929\n",
        "Songs                              -0.1307      0.156     -0.839      0.402        -0.437     0.175\n",
        "==============================================================================\n",
        "Omnibus:                        2.484   Durbin-Watson:                   1.951\n",
        "Prob(Omnibus):                  0.289   Jarque-Bera (JB):                2.553\n",
        "Skew:                          -0.119   Prob(JB):                        0.279\n",
        "Kurtosis:                       2.911   Cond. No.                     4.87e+03\n",
        "==============================================================================\n",
        "\n",
        "Warnings:\n",
        "[1] The condition number is large, 4.87e+03. This might indicate that there are\n",
        "strong multicollinearity or other numerical problems.\n"
       ]
      }
     ],
     "prompt_number": 428
    },
    {
     "cell_type": "code",
     "collapsed": false,
     "input": [
      "m_imdbrating = smf.ols(formula='imdbRating ~ np.log(Revenue+1) +  Metascore + C(Year) + C(Genre_y) + np.log(Budget+1) + Songs + C(Rated)', data=df2_normal_ratings).fit()\n",
      "print m_imdbrating.summary()"
     ],
     "language": "python",
     "metadata": {},
     "outputs": [
      {
       "output_type": "stream",
       "stream": "stdout",
       "text": [
        "                            OLS Regression Results                            \n",
        "==============================================================================\n",
        "Dep. Variable:             imdbRating   R-squared:                       0.655\n",
        "Model:                            OLS   Adj. R-squared:                  0.635\n",
        "Method:                 Least Squares   F-statistic:                     32.62\n",
        "Date:                Thu, 12 Jun 2014   Prob (F-statistic):          2.32e-170\n",
        "Time:                        14:29:03   Log-Likelihood:                -886.69\n",
        "No. Observations:                 946   AIC:                             1879.\n",
        "Df Residuals:                     893   BIC:                             2137.\n",
        "Df Model:                          52                                         \n",
        "===================================================================================================\n",
        "                                      coef    std err          t      P>|t|      [95.0% Conf. Int.]\n",
        "---------------------------------------------------------------------------------------------------\n",
        "Intercept                           2.3511      0.803      2.929      0.003         0.776     3.926\n",
        "C(Year)[T.1979]                     0.0025      0.794      0.003      0.997        -1.556     1.562\n",
        "C(Year)[T.1980]                    -0.3260      0.915     -0.356      0.722        -2.122     1.469\n",
        "C(Year)[T.1981]                     0.3335      0.906      0.368      0.713        -1.445     2.112\n",
        "C(Year)[T.1982]                     0.4855      0.794      0.612      0.541        -1.072     2.043\n",
        "C(Year)[T.1984]                    -0.0533      0.904     -0.059      0.953        -1.828     1.721\n",
        "C(Year)[T.1986]                     0.1658      0.911      0.182      0.856        -1.623     1.955\n",
        "C(Year)[T.1987]                    -0.0473      0.747     -0.063      0.950        -1.514     1.420\n",
        "C(Year)[T.1988]                     0.9342      0.797      1.172      0.241        -0.630     2.498\n",
        "C(Year)[T.1989]                    -0.0353      0.799     -0.044      0.965        -1.603     1.532\n",
        "C(Year)[T.1990]                    -0.8744      0.916     -0.955      0.340        -2.672     0.923\n",
        "C(Year)[T.1991]                    -0.0949      0.800     -0.119      0.906        -1.665     1.475\n",
        "C(Year)[T.1992]                    -0.4128      0.755     -0.547      0.584        -1.894     1.068\n",
        "C(Year)[T.1993]                    -0.1249      0.695     -0.180      0.857        -1.490     1.240\n",
        "C(Year)[T.1994]                     0.2104      0.680      0.310      0.757        -1.123     1.544\n",
        "C(Year)[T.1995]                    -0.4805      0.677     -0.709      0.478        -1.810     0.849\n",
        "C(Year)[T.1996]                    -0.2496      0.671     -0.372      0.710        -1.567     1.068\n",
        "C(Year)[T.1997]                    -0.5554      0.668     -0.831      0.406        -1.867     0.756\n",
        "C(Year)[T.1998]                    -0.2117      0.666     -0.318      0.751        -1.519     1.095\n",
        "C(Year)[T.1999]                    -0.1407      0.663     -0.212      0.832        -1.443     1.161\n",
        "C(Year)[T.2000]                    -0.2222      0.663     -0.335      0.738        -1.524     1.080\n",
        "C(Year)[T.2001]                    -0.1916      0.665     -0.288      0.773        -1.496     1.113\n",
        "C(Year)[T.2002]                    -0.4285      0.663     -0.646      0.518        -1.730     0.873\n",
        "C(Year)[T.2003]                    -0.2828      0.661     -0.428      0.669        -1.581     1.015\n",
        "C(Year)[T.2004]                    -0.1435      0.661     -0.217      0.828        -1.441     1.154\n",
        "C(Year)[T.2005]                    -0.2715      0.661     -0.411      0.682        -1.570     1.027\n",
        "C(Year)[T.2006]                    -0.2847      0.661     -0.431      0.667        -1.583     1.013\n",
        "C(Year)[T.2007]                    -0.0882      0.661     -0.133      0.894        -1.385     1.209\n",
        "C(Year)[T.2008]                    -0.3054      0.667     -0.458      0.647        -1.615     1.004\n",
        "C(Year)[T.2009]                    -0.2060      0.669     -0.308      0.758        -1.519     1.107\n",
        "C(Year)[T.2010]                    -0.5302      0.684     -0.775      0.439        -1.873     0.812\n",
        "C(Year)[T.2011]                     0.0730      0.689      0.106      0.916        -1.280     1.426\n",
        "C(Year)[T.2012]                    -0.1465      0.685     -0.214      0.831        -1.492     1.199\n",
        "C(Year)[T.2013]                    -0.0686      0.675     -0.102      0.919        -1.393     1.255\n",
        "C(Year)[T.2014]                     0.4552      0.916      0.497      0.619        -1.342     2.252\n",
        "C(Genre_y)[T.Adventure]             0.0962      0.086      1.117      0.264        -0.073     0.265\n",
        "C(Genre_y)[T.Black Comedy]         -0.0171      0.193     -0.089      0.929        -0.396     0.362\n",
        "C(Genre_y)[T.Comedy]               -0.2068      0.078     -2.646      0.008        -0.360    -0.053\n",
        "C(Genre_y)[T.Documentary]           0.0966      0.648      0.149      0.882        -1.175     1.368\n",
        "C(Genre_y)[T.Drama]                 0.2195      0.074      2.972      0.003         0.075     0.365\n",
        "C(Genre_y)[T.Horror]               -0.2799      0.102     -2.742      0.006        -0.480    -0.080\n",
        "C(Genre_y)[T.Musical]               0.5522      0.374      1.475      0.141        -0.183     1.287\n",
        "C(Genre_y)[T.Romantic Comedy]      -0.1396      0.108     -1.291      0.197        -0.352     0.073\n",
        "C(Genre_y)[T.Thriller/Suspense]     0.2161      0.084      2.563      0.011         0.051     0.382\n",
        "C(Genre_y)[T.Western]               0.0558      0.194      0.288      0.773        -0.325     0.436\n",
        "C(Rated)[T.NC-17]                   0.8249      0.485      1.702      0.089        -0.126     1.776\n",
        "C(Rated)[T.PG]                      0.0047      0.154      0.030      0.976        -0.297     0.307\n",
        "C(Rated)[T.PG-13]                   0.2003      0.150      1.333      0.183        -0.095     0.495\n",
        "C(Rated)[T.R]                       0.4998      0.154      3.235      0.001         0.197     0.803\n",
        "np.log(Revenue + 1)                 0.1015      0.026      3.920      0.000         0.051     0.152\n",
        "Metascore                           0.0408      0.001     28.242      0.000         0.038     0.044\n",
        "np.log(Budget + 1)                  0.0045      0.033      0.138      0.890        -0.060     0.069\n",
        "Songs                               0.0009      0.009      0.101      0.920        -0.017     0.019\n",
        "==============================================================================\n",
        "Omnibus:                       57.756   Durbin-Watson:                   1.949\n",
        "Prob(Omnibus):                  0.000   Jarque-Bera (JB):               99.633\n",
        "Skew:                          -0.445   Prob(JB):                     2.32e-22\n",
        "Kurtosis:                       4.318   Cond. No.                     1.15e+04\n",
        "==============================================================================\n",
        "\n",
        "Warnings:\n",
        "[1] The condition number is large, 1.15e+04. This might indicate that there are\n",
        "strong multicollinearity or other numerical problems.\n"
       ]
      }
     ],
     "prompt_number": 429
    },
    {
     "cell_type": "code",
     "collapsed": false,
     "input": [
      "m_budget = smf.ols(formula='np.log(Budget+1) ~ imdbRating + np.log(Revenue+1) +  Metascore + C(Year) + C(Genre_y) + Songs + C(Rated)', data=df2_normal_ratings).fit()\n",
      "print m_budget.summary()"
     ],
     "language": "python",
     "metadata": {},
     "outputs": [
      {
       "output_type": "stream",
       "stream": "stdout",
       "text": [
        "                            OLS Regression Results                            \n",
        "==============================================================================\n",
        "Dep. Variable:     np.log(Budget + 1)   R-squared:                       0.551\n",
        "Model:                            OLS   Adj. R-squared:                  0.525\n",
        "Method:                 Least Squares   F-statistic:                     21.05\n",
        "Date:                Thu, 12 Jun 2014   Prob (F-statistic):          5.73e-121\n",
        "Time:                        14:29:05   Log-Likelihood:                -908.53\n",
        "No. Observations:                 946   AIC:                             1923.\n",
        "Df Residuals:                     893   BIC:                             2180.\n",
        "Df Model:                          52                                         \n",
        "===================================================================================================\n",
        "                                      coef    std err          t      P>|t|      [95.0% Conf. Int.]\n",
        "---------------------------------------------------------------------------------------------------\n",
        "Intercept                           6.7704      0.794      8.530      0.000         5.213     8.328\n",
        "C(Year)[T.1979]                     3.3273      0.805      4.132      0.000         1.747     4.908\n",
        "C(Year)[T.1980]                     3.9315      0.927      4.241      0.000         2.112     5.751\n",
        "C(Year)[T.1981]                     2.1418      0.924      2.317      0.021         0.327     3.956\n",
        "C(Year)[T.1982]                     2.6614      0.807      3.296      0.001         1.077     4.246\n",
        "C(Year)[T.1984]                     2.0608      0.923      2.234      0.026         0.250     3.871\n",
        "C(Year)[T.1986]                     2.8809      0.928      3.105      0.002         1.060     4.702\n",
        "C(Year)[T.1987]                     2.8710      0.759      3.784      0.000         1.382     4.360\n",
        "C(Year)[T.1988]                     3.5804      0.807      4.436      0.000         1.996     5.165\n",
        "C(Year)[T.1989]                     3.7151      0.808      4.600      0.000         2.130     5.300\n",
        "C(Year)[T.1990]                     3.6860      0.930      3.965      0.000         1.861     5.510\n",
        "C(Year)[T.1991]                     4.0354      0.807      4.999      0.000         2.451     5.620\n",
        "C(Year)[T.1992]                     3.8769      0.761      5.092      0.000         2.383     5.371\n",
        "C(Year)[T.1993]                     3.7677      0.700      5.380      0.000         2.393     5.142\n",
        "C(Year)[T.1994]                     3.5530      0.685      5.185      0.000         2.208     4.898\n",
        "C(Year)[T.1995]                     4.0148      0.680      5.901      0.000         2.680     5.350\n",
        "C(Year)[T.1996]                     3.8350      0.675      5.681      0.000         2.510     5.160\n",
        "C(Year)[T.1997]                     4.1778      0.670      6.240      0.000         2.864     5.492\n",
        "C(Year)[T.1998]                     3.9386      0.669      5.890      0.000         2.626     5.251\n",
        "C(Year)[T.1999]                     4.0030      0.666      6.013      0.000         2.697     5.309\n",
        "C(Year)[T.2000]                     3.9848      0.666      5.985      0.000         2.678     5.291\n",
        "C(Year)[T.2001]                     4.0657      0.667      6.100      0.000         2.758     5.374\n",
        "C(Year)[T.2002]                     4.0175      0.665      6.040      0.000         2.712     5.323\n",
        "C(Year)[T.2003]                     3.9315      0.664      5.922      0.000         2.629     5.234\n",
        "C(Year)[T.2004]                     4.0060      0.663      6.042      0.000         2.705     5.307\n",
        "C(Year)[T.2005]                     4.0901      0.663      6.169      0.000         2.789     5.391\n",
        "C(Year)[T.2006]                     3.9621      0.664      5.970      0.000         2.660     5.265\n",
        "C(Year)[T.2007]                     3.9404      0.663      5.940      0.000         2.638     5.242\n",
        "C(Year)[T.2008]                     4.0299      0.670      6.019      0.000         2.716     5.344\n",
        "C(Year)[T.2009]                     4.1105      0.671      6.128      0.000         2.794     5.427\n",
        "C(Year)[T.2010]                     4.2289      0.686      6.166      0.000         2.883     5.575\n",
        "C(Year)[T.2011]                     4.1572      0.692      6.011      0.000         2.800     5.515\n",
        "C(Year)[T.2012]                     4.0922      0.688      5.949      0.000         2.742     5.442\n",
        "C(Year)[T.2013]                     4.2109      0.676      6.230      0.000         2.884     5.537\n",
        "C(Year)[T.2014]                     3.4766      0.930      3.739      0.000         1.652     5.302\n",
        "C(Genre_y)[T.Adventure]             0.1398      0.088      1.587      0.113        -0.033     0.313\n",
        "C(Genre_y)[T.Black Comedy]         -0.8597      0.195     -4.401      0.000        -1.243    -0.476\n",
        "C(Genre_y)[T.Comedy]               -0.6780      0.077     -8.806      0.000        -0.829    -0.527\n",
        "C(Genre_y)[T.Documentary]          -2.4465      0.658     -3.718      0.000        -3.738    -1.155\n",
        "C(Genre_y)[T.Drama]                -0.4082      0.075     -5.462      0.000        -0.555    -0.262\n",
        "C(Genre_y)[T.Horror]               -0.9754      0.100     -9.781      0.000        -1.171    -0.780\n",
        "C(Genre_y)[T.Musical]              -0.1113      0.384     -0.290      0.772        -0.864     0.642\n",
        "C(Genre_y)[T.Romantic Comedy]      -0.6599      0.109     -6.080      0.000        -0.873    -0.447\n",
        "C(Genre_y)[T.Thriller/Suspense]    -0.3597      0.086     -4.193      0.000        -0.528    -0.191\n",
        "C(Genre_y)[T.Western]               0.1906      0.198      0.961      0.337        -0.199     0.580\n",
        "C(Rated)[T.NC-17]                  -0.2896      0.497     -0.583      0.560        -1.264     0.685\n",
        "C(Rated)[T.PG]                      0.2047      0.157      1.301      0.194        -0.104     0.514\n",
        "C(Rated)[T.PG-13]                   0.2405      0.154      1.564      0.118        -0.061     0.542\n",
        "C(Rated)[T.R]                       0.1305      0.159      0.821      0.412        -0.182     0.442\n",
        "imdbRating                          0.0047      0.034      0.138      0.890        -0.062     0.072\n",
        "np.log(Revenue + 1)                 0.4068      0.023     17.688      0.000         0.362     0.452\n",
        "Metascore                          -0.0074      0.002     -3.665      0.000        -0.011    -0.003\n",
        "Songs                               0.0215      0.009      2.271      0.023         0.003     0.040\n",
        "==============================================================================\n",
        "Omnibus:                      102.915   Durbin-Watson:                   1.911\n",
        "Prob(Omnibus):                  0.000   Jarque-Bera (JB):              186.706\n",
        "Skew:                          -0.699   Prob(JB):                     2.87e-41\n",
        "Kurtosis:                       4.667   Cond. No.                     1.09e+04\n",
        "==============================================================================\n",
        "\n",
        "Warnings:\n",
        "[1] The condition number is large, 1.09e+04. This might indicate that there are\n",
        "strong multicollinearity or other numerical problems.\n"
       ]
      }
     ],
     "prompt_number": 430
    },
    {
     "cell_type": "code",
     "collapsed": false,
     "input": [],
     "language": "python",
     "metadata": {},
     "outputs": []
    }
   ],
   "metadata": {}
  }
 ]
}